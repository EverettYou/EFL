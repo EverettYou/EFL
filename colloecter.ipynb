{
 "cells": [
  {
   "cell_type": "markdown",
   "metadata": {},
   "source": [
    "# EFL Data Colloector\n",
    "need to run EFL.py first"
   ]
  },
  {
   "cell_type": "code",
   "execution_count": 910,
   "metadata": {
    "collapsed": true
   },
   "outputs": [],
   "source": [
    "%run 'EFL.py'"
   ]
  },
  {
   "cell_type": "markdown",
   "metadata": {},
   "source": [
    "## Training Engine\n",
    "Machines are trained here."
   ]
  },
  {
   "cell_type": "code",
   "execution_count": 1521,
   "metadata": {
    "collapsed": false
   },
   "outputs": [
    {
     "name": "stdout",
     "output_type": "stream",
     "text": [
      "INFO:tensorflow:Restoring parameters from ./machine/Ising(SSLatt(32,100,UUI))FF(64,0.00,4.0)weighted\n"
     ]
    }
   ],
   "source": [
    "%run 'EFL.py'\n",
    "machine = Machine(\n",
    "    IsingModel(SSLattice(width=32,depth=100,pattern=[-1,-1,1])),\n",
    "    FreeFermion(size=64,mass=0.,c=4.0),method='weighted')\n",
    "try:\n",
    "    machine.load()\n",
    "except:\n",
    "    print('File not found! Train new machine.')"
   ]
  },
  {
   "cell_type": "code",
   "execution_count": 1526,
   "metadata": {
    "collapsed": false
   },
   "outputs": [
    {
     "name": "stdout",
     "output_type": "stream",
     "text": [
      "(0.00023779711850239443, array([ 0.410,  0.249,  0.249,  0.250,  0.250]))\n",
      "(0.00057236716773512218, array([ 0.407,  0.252,  0.252,  0.253,  0.254]))\n",
      "(0.00099527551572211811, array([ 0.406,  0.257,  0.257,  0.257,  0.258]))\n",
      "(0.00094115121328664593, array([ 0.402,  0.257,  0.257,  0.257,  0.258]))\n",
      "(0.00046006780626586813, array([ 0.400,  0.254,  0.254,  0.255,  0.255]))\n"
     ]
    }
   ],
   "source": [
    "for i in range(5):\n",
    "    machine.train(16, learning_rate=0.002, beta1=0.9, beta2=0.9)\n",
    "    print(machine.session.run((machine.model.MSE, machine.model.J), machine.feed))"
   ]
  },
  {
   "cell_type": "markdown",
   "metadata": {},
   "source": [
    "I/O: save machine"
   ]
  },
  {
   "cell_type": "code",
   "execution_count": 1327,
   "metadata": {
    "collapsed": false
   },
   "outputs": [
    {
     "name": "stdout",
     "output_type": "stream",
     "text": [
      "INFO:tensorflow:Saving parameters to ./machine/Ising(SSLatt(32,6,UI))FF(64,0.00,4.0)multiple\n"
     ]
    }
   ],
   "source": [
    "machine.save()"
   ]
  },
  {
   "cell_type": "markdown",
   "metadata": {},
   "source": [
    "----"
   ]
  },
  {
   "cell_type": "code",
   "execution_count": 1057,
   "metadata": {
    "collapsed": false
   },
   "outputs": [],
   "source": [
    "#machine.session.run(machine.model.J.assign(np.array([ 0.157,  0.064,  0.000,  0.000,  0.000])))"
   ]
  },
  {
   "cell_type": "code",
   "execution_count": 1385,
   "metadata": {
    "collapsed": false
   },
   "outputs": [
    {
     "name": "stdout",
     "output_type": "stream",
     "text": [
      "2.77258872224\n",
      "[0.38646672076585065, 0.2087161408620652, 0.20843718493409727, 0.20716343536763865, 0.20562131964588898]\n"
     ]
    }
   ],
   "source": [
    "print(machine.model.h)\n",
    "print(machine.session.run(machine.model.J).tolist())"
   ]
  },
  {
   "cell_type": "markdown",
   "metadata": {},
   "source": [
    "## J Sequence\n",
    "Given trained machine, run additional trainings to get the time sequence of J.\n",
    "### Collect Jseq\n",
    "Data format: `Jseq = {machine: [[J1,J2,...], ...], ...}`"
   ]
  },
  {
   "cell_type": "code",
   "execution_count": 1357,
   "metadata": {
    "collapsed": false
   },
   "outputs": [
    {
     "name": "stdout",
     "output_type": "stream",
     "text": [
      "len:  20\n"
     ]
    }
   ],
   "source": [
    "try:\n",
    "    Jseq = load('Jseq')\n",
    "except FileNotFoundError:\n",
    "    Jseq = {}\n",
    "try:\n",
    "    Js = Jseq[machine.info]\n",
    "except KeyError:\n",
    "    Js = []\n",
    "print('len: ', len(Js))"
   ]
  },
  {
   "cell_type": "code",
   "execution_count": 1373,
   "metadata": {
    "collapsed": false
   },
   "outputs": [
    {
     "name": "stdout",
     "output_type": "stream",
     "text": [
      "(0.00033694051017811767, array([ 0.381,  0.211,  0.211,  0.211,  0.211]))\n",
      "(0.00020964445685019782, array([ 0.379,  0.207,  0.207,  0.207,  0.207]))\n",
      "(0.00039868853881976481, array([ 0.380,  0.210,  0.210,  0.210,  0.210]))\n",
      "(0.00058209832862644059, array([ 0.380,  0.210,  0.210,  0.210,  0.210]))\n",
      "(0.00018487138009892925, array([ 0.380,  0.210,  0.210,  0.210,  0.210]))\n",
      "(0.00036805942655325827, array([ 0.380,  0.208,  0.208,  0.208,  0.209]))\n",
      "(0.00037006609461553481, array([ 0.381,  0.208,  0.208,  0.208,  0.208]))\n",
      "(0.0003883804133829891, array([ 0.380,  0.207,  0.207,  0.208,  0.208]))\n",
      "(0.00023534368346915074, array([ 0.379,  0.207,  0.207,  0.207,  0.207]))\n",
      "(0.00055085141682146199, array([ 0.381,  0.209,  0.209,  0.209,  0.209]))\n",
      "(0.00042298703230318036, array([ 0.379,  0.207,  0.207,  0.207,  0.207]))\n",
      "(0.00074563947084712798, array([ 0.380,  0.208,  0.208,  0.208,  0.208]))\n",
      "(0.00058330246595166425, array([ 0.382,  0.208,  0.208,  0.208,  0.209]))\n",
      "(0.00059395344159677145, array([ 0.382,  0.209,  0.209,  0.209,  0.210]))\n",
      "(0.0004836972355064209, array([ 0.381,  0.210,  0.210,  0.211,  0.211]))\n",
      "(0.00015422929464440729, array([ 0.383,  0.213,  0.213,  0.213,  0.213]))\n",
      "(0.00048262507770080335, array([ 0.379,  0.208,  0.208,  0.208,  0.208]))\n",
      "(0.00022335875802615831, array([ 0.377,  0.205,  0.205,  0.205,  0.205]))\n",
      "(0.00027209321336409223, array([ 0.382,  0.209,  0.209,  0.210,  0.210]))\n",
      "(0.00047335620517451521, array([ 0.380,  0.207,  0.207,  0.207,  0.207]))\n",
      "len:  52\n",
      "avg:  [ 0.380  0.209  0.209  0.209  0.209]\n",
      "std:  [ 0.001  0.002  0.002  0.002  0.002]\n"
     ]
    }
   ],
   "source": [
    "for i in range(20):\n",
    "    machine.train(16, learning_rate=0.002, check=16)\n",
    "    print(machine.session.run((machine.model.MSE, machine.model.J), machine.feed))\n",
    "    Js.append(list(machine.session.run(machine.model.J)))\n",
    "print('len: ', len(Js))\n",
    "print('avg: ', np.mean(Js,axis=0))\n",
    "print('std: ', np.std(Js,axis=0))"
   ]
  },
  {
   "cell_type": "code",
   "execution_count": 1374,
   "metadata": {
    "collapsed": false
   },
   "outputs": [],
   "source": [
    "Jseq[machine.info] = Js\n",
    "save('Jseq', Jseq)"
   ]
  },
  {
   "cell_type": "markdown",
   "metadata": {},
   "source": [
    "----"
   ]
  },
  {
   "cell_type": "code",
   "execution_count": 1368,
   "metadata": {
    "collapsed": false
   },
   "outputs": [],
   "source": [
    "Js=[]"
   ]
  },
  {
   "cell_type": "code",
   "execution_count": 907,
   "metadata": {
    "collapsed": false
   },
   "outputs": [],
   "source": [
    "#sorted([(mach, np.mean(Js,axis=0)) for mach, Js in Jseq.items()]);"
   ]
  },
  {
   "cell_type": "code",
   "execution_count": 1331,
   "metadata": {
    "collapsed": false
   },
   "outputs": [],
   "source": [
    "sorted(list(Jseq.keys()));"
   ]
  },
  {
   "cell_type": "markdown",
   "metadata": {},
   "source": [
    "### Export J data "
   ]
  },
  {
   "cell_type": "code",
   "execution_count": 1377,
   "metadata": {
    "collapsed": false
   },
   "outputs": [],
   "source": [
    "clst = [0.5,1.,2.,4.,8.,16.]\n",
    "Jseq = load('Jseq')\n",
    "data = []\n",
    "for c in clst:\n",
    "    _machine = Machine(\n",
    "        IsingModel(SSLattice(width=32,depth=100,pattern=[-1,-1,1])),\n",
    "        FreeFermion(size=64,mass=1e-8,c=c),method='random')\n",
    "    _Js = Jseq[_machine.info]\n",
    "    Jmean = np.mean(_Js,axis=0)\n",
    "    Jstd = np.std(_Js,axis=0)\n",
    "    _machine.build()\n",
    "    _machine.session.run(_machine.model.J.assign(Jmean))\n",
    "    MSE = _machine.session.run(_machine.model.MSE, _machine.data_server.fetch('random', batch=64))\n",
    "    data.append([c, np.asscalar(np.sqrt(MSE)), Jmean.tolist(), Jstd.tolist()])\n",
    "export('ccurv_r', data)"
   ]
  },
  {
   "cell_type": "code",
   "execution_count": 1228,
   "metadata": {
    "collapsed": false
   },
   "outputs": [],
   "source": [
    "masslst = [0.,0.01,0.02,0.03,0.04,0.05,0.07,0.1,0.12,0.15,0.17,0.2,0.25,0.3,0.35,0.4,0.5]\n",
    "Jseq = load('Jseq')\n",
    "data = []\n",
    "for mass in masslst:\n",
    "    info = Machine(\n",
    "        IsingModel(SSLattice(width=32,depth=100,pattern=[-1,-1,1])),\n",
    "        FreeFermion(size=64,mass=mass,c=4.0),method='weighted').info\n",
    "    Jstmp = Jseq[info]\n",
    "    data.append([mass, np.mean(Jstmp,axis=0).tolist()])\n",
    "export('mmap_c4', data)"
   ]
  },
  {
   "cell_type": "code",
   "execution_count": 1232,
   "metadata": {
    "collapsed": false
   },
   "outputs": [],
   "source": [
    "masslst = [0.,0.05,0.1,0.2,0.5]\n",
    "Jseq = load('Jseq')\n",
    "data = []\n",
    "for mass in masslst:\n",
    "    info = Machine(\n",
    "        IsingModel(SSLattice(width=32,depth=100,pattern=[-1,-1,1])),\n",
    "        FreeFermion(size=64,mass=mass,c=4.0),method='weighted').info\n",
    "    Jstmp = Jseq[info]\n",
    "    data.append([mass, np.mean(Jstmp,axis=0).tolist(), np.std(Jstmp,axis=0).tolist()])\n",
    "export('mcurv_c4', data)"
   ]
  },
  {
   "cell_type": "markdown",
   "metadata": {},
   "source": [
    "## Entanglement Feature\n",
    "Given trained machine, collect entropy predictions\n",
    "### Collect EFcon\n",
    "Entanglement feature over consecutive regions.\n",
    "Data format: `EFcon = {machine: {'Ssys': [S1,...], 'Smdls': {[[S1,...], ...]}}, ...}`"
   ]
  },
  {
   "cell_type": "code",
   "execution_count": 1323,
   "metadata": {
    "collapsed": false
   },
   "outputs": [
    {
     "name": "stdout",
     "output_type": "stream",
     "text": [
      "len:  0\n"
     ]
    }
   ],
   "source": [
    "try:\n",
    "    EFcon = load('EFcon')\n",
    "except FileNotFoundError:\n",
    "    EFcon = {}\n",
    "try:\n",
    "    EF = EFcon[machine.info]\n",
    "    Ssys = EF['Ssys']\n",
    "    Smdls = EF['Smdls']\n",
    "except KeyError:\n",
    "    Ssys = (machine.data_server.fetch('consecutive')[machine.model.Ssys]).tolist()\n",
    "    Smdls = []\n",
    "    EF = {'Ssys': Ssys, 'Smdls': Smdls}\n",
    "print('len: ', len(Smdls))"
   ]
  },
  {
   "cell_type": "code",
   "execution_count": 1324,
   "metadata": {
    "collapsed": false
   },
   "outputs": [
    {
     "name": "stdout",
     "output_type": "stream",
     "text": [
      "(0.00052611360252749993, array([ 0.337,  0.319,  0.319,  0.320,  0.320]))\n",
      "(0.0010102109143726723, array([ 0.336,  0.319,  0.319,  0.319,  0.320]))\n",
      "(0.0014639201730284642, array([ 0.336,  0.318,  0.318,  0.319,  0.319]))\n",
      "(0.0008748755622376732, array([ 0.335,  0.318,  0.318,  0.318,  0.318]))\n",
      "(0.0012509499391978288, array([ 0.335,  0.317,  0.317,  0.318,  0.318]))\n",
      "len:  5\n",
      "error:  0.0378897835945\n"
     ]
    }
   ],
   "source": [
    "for i in range(5):\n",
    "    machine.train(1, learning_rate=0.002, check=16)\n",
    "    print(machine.session.run((machine.model.MSE, machine.model.J), machine.feed))\n",
    "    Smdl = machine.session.run(machine.model.Smdl, \n",
    "                            machine.data_server.fetch('consecutive')).tolist()\n",
    "    Smdls.append(Smdl)\n",
    "print('len: ', len(Smdls))\n",
    "print('error: ', np.mean([np.sqrt(np.mean(np.square(np.array(Smdl)/np.array(Ssys)-1))) for Smdl in Smdls]))"
   ]
  },
  {
   "cell_type": "code",
   "execution_count": 1325,
   "metadata": {
    "collapsed": false
   },
   "outputs": [],
   "source": [
    "EFcon[machine.info] = {'Ssys': Ssys, 'Smdls': Smdls}\n",
    "save('EFcon', EFcon)"
   ]
  },
  {
   "cell_type": "markdown",
   "metadata": {},
   "source": [
    "### Collect EFmul\n",
    "Entanglement feature over multiregions.\n",
    "Data format: `EFmul = {machine: {n: [[Ssys, Smdl], ...], ...},...}`"
   ]
  },
  {
   "cell_type": "code",
   "execution_count": 1322,
   "metadata": {
    "collapsed": false
   },
   "outputs": [
    {
     "name": "stdout",
     "output_type": "stream",
     "text": [
      "len:  35\n"
     ]
    }
   ],
   "source": [
    "try:\n",
    "    EFmul = load('EFmul')\n",
    "except FileNotFoundError:\n",
    "    EFmul = {}\n",
    "try:\n",
    "    ndict = EFmul[machine.info]\n",
    "except KeyError:\n",
    "    ndict = {n:[] for n in range(1, machine.data_server.partitions//2+1)}\n",
    "print('len: ', len(ndict[1]))"
   ]
  },
  {
   "cell_type": "code",
   "execution_count": 1319,
   "metadata": {
    "collapsed": false
   },
   "outputs": [
    {
     "name": "stdout",
     "output_type": "stream",
     "text": [
      "(0.0017530258897438119, array([ 0.337,  0.320,  0.320,  0.320,  0.321]))\n",
      "(0.0012464493350100344, array([ 0.337,  0.320,  0.320,  0.320,  0.321]))\n",
      "(0.0010929459295898377, array([ 0.338,  0.320,  0.320,  0.321,  0.321]))\n",
      "(0.0018914511421001306, array([ 0.338,  0.320,  0.320,  0.321,  0.321]))\n",
      "(0.0021255521544174837, array([ 0.337,  0.320,  0.320,  0.320,  0.320]))\n",
      "len:  35\n",
      "{1: 0.037, 2: 0.044, 3: 0.05, 4: 0.052, 5: 0.048, 6: 0.051, 7: 0.046, 8: 0.042, 9: 0.043, 10: 0.045, 11: 0.046, 12: 0.045, 13: 0.047, 14: 0.049, 15: 0.05, 16: 0.052}\n"
     ]
    }
   ],
   "source": [
    "for i in range(5):\n",
    "    machine.train(16, check=16)\n",
    "    print(machine.session.run((machine.model.MSE, machine.model.J), machine.feed))\n",
    "    for n, pairs in ndict.items():\n",
    "        Ssysn, Smdln = machine.session.run([\n",
    "                        machine.model.Ssys, machine.model.Smdl], \n",
    "                        machine.data_server.fetch(('multiple',n)))\n",
    "        Ssysn = Ssysn.tolist()\n",
    "        Smdln = Smdln.tolist()\n",
    "        pairs += [[Ssys, Smdl] for Ssys, Smdl in zip(Ssysn, Smdln)]\n",
    "print('len: ', len(ndict[1]))\n",
    "print({n:float('{0:.3f}'.format(np.sqrt(np.mean([(a/b-1.)**2 for [a, b] in pairs])))) for n, pairs in ndict.items()})"
   ]
  },
  {
   "cell_type": "code",
   "execution_count": 1320,
   "metadata": {
    "collapsed": false
   },
   "outputs": [],
   "source": [
    "EFmul[machine.info] = ndict\n",
    "save('EFmul', EFmul)"
   ]
  },
  {
   "cell_type": "code",
   "execution_count": 1488,
   "metadata": {
    "collapsed": false
   },
   "outputs": [],
   "source": [
    "#for mach, ndict in EFmul.items():\n",
    "#    print(mach,{n:float('{0:.3f}'.format(np.sqrt(np.mean([(a/b-1.)**2 for [a, b] in pairs])))) for n, pairs in ndict.items()})"
   ]
  },
  {
   "cell_type": "markdown",
   "metadata": {},
   "source": [
    "### Export Entanglement Feature"
   ]
  },
  {
   "cell_type": "code",
   "execution_count": 1256,
   "metadata": {
    "collapsed": false
   },
   "outputs": [],
   "source": [
    "EFcon = load('EFcon')\n",
    "info = Machine(\n",
    "        IsingModel(SSLattice(width=32,depth=100,pattern=[-1,-1,1])),\n",
    "        FreeFermion(size=64,mass=0.,c=4.0),method='multiple').info\n",
    "export('EFcon_c4', EFcon[info])"
   ]
  },
  {
   "cell_type": "code",
   "execution_count": 1257,
   "metadata": {
    "collapsed": true
   },
   "outputs": [],
   "source": [
    "EFmul = load('EFmul')\n",
    "info = Machine(\n",
    "        IsingModel(SSLattice(width=32,depth=100,pattern=[-1,-1,1])),\n",
    "        FreeFermion(size=64,mass=0.,c=4.0),method='multiple').info\n",
    "export('EFmul_c4', EFmul[info])"
   ]
  },
  {
   "cell_type": "code",
   "execution_count": 1326,
   "metadata": {
    "collapsed": true
   },
   "outputs": [],
   "source": [
    "export('EFcon_c4_UI', EFcon[machine.info])"
   ]
  },
  {
   "cell_type": "markdown",
   "metadata": {},
   "source": [
    "## Mutual Information"
   ]
  },
  {
   "cell_type": "markdown",
   "metadata": {},
   "source": [
    "A, B are single block regions, they separate by distance $d$ (blocks). The short rangle mutual information still fits, but very quickly the accuracy lost as the separation is grater than the region size."
   ]
  },
  {
   "cell_type": "code",
   "execution_count": 1527,
   "metadata": {
    "collapsed": false
   },
   "outputs": [],
   "source": [
    "class MIcollector():\n",
    "    def __init__(self, machine):\n",
    "        self.machine = machine\n",
    "        self.partition = machine.data_server.partitions\n",
    "    def Ssys(self, region):\n",
    "        sites = self.machine.data_server.sites(region)\n",
    "        S = self.machine.system.S(sites)\n",
    "        return S\n",
    "    def Smdl(self, region):\n",
    "        confs = np.array([region.config()])\n",
    "        feed = {self.machine.model.confs: confs}\n",
    "        [S] = self.machine.session.run(self.machine.model.Smdl, feed).tolist()\n",
    "        return S\n",
    "    def Ilst(self, S):\n",
    "        res = []\n",
    "        A = Region({0}, self.partition)\n",
    "        SA = S(A)\n",
    "        for d in range(1, self.partition//2):\n",
    "            AB = Region({0,d}, self.partition)\n",
    "            IAB = 2*SA - S(AB)\n",
    "            res.append(IAB)\n",
    "        return res"
   ]
  },
  {
   "cell_type": "code",
   "execution_count": 1528,
   "metadata": {
    "collapsed": false
   },
   "outputs": [
    {
     "data": {
      "text/plain": [
       "[(2.057311443226857, 2.3939432955080235),\n",
       " (0.33647191417722766, 0.24722113107637256),\n",
       " (0.14034130133619982, 0.69693783012886),\n",
       " (0.07854071988457623, 0.010964931360177843),\n",
       " (0.05110174148634794, 0.6640045833051147),\n",
       " (0.03653593162731994, 0.0016195094607098781),\n",
       " (0.02790473026868945, 0.6880268611519966),\n",
       " (0.022401011788256042, 0.00019241183369445025),\n",
       " (0.01871059202127956, 0.6627417363334587),\n",
       " (0.01615189730513844, -0.002194407640075724),\n",
       " (0.014344089344984212, 0.6860237879531326),\n",
       " (0.013062597084608996, -0.0021897337741449974),\n",
       " (0.012170281988280962, 0.662744097523472),\n",
       " (0.011582366519046872, 0.00012598098820149062),\n",
       " (0.011247772007068058, 0.6879633783148336),\n",
       " (0.011139116829002482, 0.00010640634602054888)]"
      ]
     },
     "execution_count": 1528,
     "metadata": {},
     "output_type": "execute_result"
    }
   ],
   "source": [
    "mic = MIcollector(machine)\n",
    "list(zip(mic.Ilst(mic.Ssys), mic.Ilst(mic.Smdl)))"
   ]
  },
  {
   "cell_type": "markdown",
   "metadata": {},
   "source": [
    "Let us try the mutual information of neighboring regions."
   ]
  },
  {
   "cell_type": "code",
   "execution_count": 1562,
   "metadata": {
    "collapsed": true
   },
   "outputs": [],
   "source": [
    "class MIcollector():\n",
    "    def __init__(self, machine, shift = 1):\n",
    "        self.machine = machine\n",
    "        self.shift = shift\n",
    "        self.partition = machine.data_server.partitions\n",
    "    def Ssys(self, region):\n",
    "        sites = self.machine.data_server.sites(region)\n",
    "        S = self.machine.system.S(sites)\n",
    "        return S\n",
    "    def Smdl(self, region):\n",
    "        confs = np.array([region.config()])\n",
    "        feed = {self.machine.model.confs: confs}\n",
    "        [S] = self.machine.session.run(self.machine.model.Smdl, feed).tolist()\n",
    "        return S\n",
    "    def Ilst(self, S):\n",
    "        res = []\n",
    "        for LA in range(1, self.partition//(self.shift+1)):\n",
    "            A = Region(range(LA), self.partition)\n",
    "            SA = S(A)\n",
    "            #AB = Region({range(LA)}, self.partition)\n",
    "            AB = Region({x for x in range(LA)}^{x+self.shift*LA for x in range(LA)}, self.partition)\n",
    "            IAB = 2*SA - S(AB)\n",
    "            res.append(IAB)\n",
    "        return res"
   ]
  },
  {
   "cell_type": "code",
   "execution_count": 1564,
   "metadata": {
    "collapsed": false
   },
   "outputs": [
    {
     "data": {
      "text/plain": [
       "[(0.33647191417722766, 0.24821014626670035),\n",
       " (0.33577169617316205, 0.10917166428023961),\n",
       " (0.3459704449498462, 0.3300445061934738),\n",
       " (0.36945531926099484, 0.11767144474021052),\n",
       " (0.4084436991771252, 0.17150139682968302),\n",
       " (0.4688213361532352, 0.2500264392829479),\n",
       " (0.5628912765582985, 0.3573247622033193),\n",
       " (0.7177686195927588, 0.3708387872150922),\n",
       " (1.0062721483062465, 0.7140448212021511)]"
      ]
     },
     "execution_count": 1564,
     "metadata": {},
     "output_type": "execute_result"
    }
   ],
   "source": [
    "mic = MIcollector(machine,2)\n",
    "list(zip(mic.Ilst(mic.Ssys), mic.Ilst(mic.Smdl)))"
   ]
  },
  {
   "cell_type": "markdown",
   "metadata": {},
   "source": [
    "### Collect MIadj\n",
    "Mutual information over adjacent regions.\n",
    "Data format: `MIadj = {machine: {'Isys': [I1,...], 'Imdls': {[[I1,...], ...]}}, ...}`"
   ]
  },
  {
   "cell_type": "code",
   "execution_count": 1549,
   "metadata": {
    "collapsed": false
   },
   "outputs": [
    {
     "name": "stdout",
     "output_type": "stream",
     "text": [
      "len:  0\n"
     ]
    }
   ],
   "source": [
    "mic = MIcollector(machine)\n",
    "try:\n",
    "    MIadj = load('MIadj')\n",
    "except FileNotFoundError:\n",
    "    MIadj = {}\n",
    "try:\n",
    "    MI = MIadj[machine.info]\n",
    "    Isys = MI['Isys']\n",
    "    Imdls = MI['Imdls']\n",
    "except KeyError:\n",
    "    Isys = mic.Ilst(mic.Ssys)\n",
    "    Imdls = []\n",
    "    MI = {'Isys': Isys, 'Imdls': Imdls}\n",
    "print('len: ', len(Imdls))"
   ]
  },
  {
   "cell_type": "code",
   "execution_count": 1553,
   "metadata": {
    "collapsed": false
   },
   "outputs": [
    {
     "name": "stdout",
     "output_type": "stream",
     "text": [
      "(0.00056119298030312401, array([ 0.404,  0.254,  0.254,  0.254,  0.255]))\n",
      "(0.0011791493723503652, array([ 0.404,  0.252,  0.252,  0.253,  0.253]))\n",
      "(0.00040430123766450361, array([ 0.404,  0.253,  0.253,  0.253,  0.254]))\n",
      "(0.0015620737802473576, array([ 0.404,  0.258,  0.258,  0.258,  0.259]))\n",
      "(0.0018916727227648138, array([ 0.402,  0.254,  0.254,  0.254,  0.255]))\n",
      "len:  20\n",
      "error:  0.0551127607659\n"
     ]
    }
   ],
   "source": [
    "for i in range(5):\n",
    "    machine.train(16, learning_rate=0.002)\n",
    "    print(machine.session.run((machine.model.MSE, machine.model.J), machine.feed))\n",
    "    Imdl = mic.Ilst(mic.Smdl)\n",
    "    Imdls.append(Imdl)\n",
    "print('len: ', len(Imdls))\n",
    "print('error: ', np.mean([np.sqrt(np.mean(np.square(np.array(Imdl)/np.array(Isys)-1))) for Imdl in Imdls]))"
   ]
  },
  {
   "cell_type": "code",
   "execution_count": 1554,
   "metadata": {
    "collapsed": true
   },
   "outputs": [],
   "source": [
    "MIadj[machine.info] = {'Isys': Isys, 'Imdls': Imdls}\n",
    "save('MIadj', MIadj)"
   ]
  },
  {
   "cell_type": "markdown",
   "metadata": {},
   "source": [
    "### Collect MIadj2\n",
    "Mutual information over adjacent regions.\n",
    "Data format: `MIadj = {machine: {'Isys': [I1,...], 'Imdls': {[[I1,...], ...]}}, ...}`"
   ]
  },
  {
   "cell_type": "code",
   "execution_count": 1565,
   "metadata": {
    "collapsed": false
   },
   "outputs": [
    {
     "name": "stdout",
     "output_type": "stream",
     "text": [
      "len:  0\n"
     ]
    }
   ],
   "source": [
    "mic = MIcollector(machine,2)\n",
    "try:\n",
    "    MIadj = load('MIadj2')\n",
    "except FileNotFoundError:\n",
    "    MIadj = {}\n",
    "try:\n",
    "    MI = MIadj[machine.info]\n",
    "    Isys = MI['Isys']\n",
    "    Imdls = MI['Imdls']\n",
    "except KeyError:\n",
    "    Isys = mic.Ilst(mic.Ssys)\n",
    "    Imdls = []\n",
    "    MI = {'Isys': Isys, 'Imdls': Imdls}\n",
    "print('len: ', len(Imdls))"
   ]
  },
  {
   "cell_type": "code",
   "execution_count": 1569,
   "metadata": {
    "collapsed": false
   },
   "outputs": [
    {
     "name": "stdout",
     "output_type": "stream",
     "text": [
      "(0.0013166201966903796, array([ 0.407,  0.250,  0.250,  0.251,  0.251]))\n",
      "(0.0011122525847786853, array([ 0.410,  0.252,  0.252,  0.252,  0.253]))\n",
      "(0.00047054566896786765, array([ 0.410,  0.253,  0.253,  0.253,  0.254]))\n",
      "(0.001778112361748434, array([ 0.408,  0.251,  0.251,  0.252,  0.253]))\n",
      "(0.00072705443348058138, array([ 0.405,  0.255,  0.255,  0.256,  0.256]))\n",
      "len:  20\n",
      "error:  0.471544330592\n"
     ]
    }
   ],
   "source": [
    "for i in range(5):\n",
    "    machine.train(16, learning_rate=0.002)\n",
    "    print(machine.session.run((machine.model.MSE, machine.model.J), machine.feed))\n",
    "    Imdl = mic.Ilst(mic.Smdl)\n",
    "    Imdls.append(Imdl)\n",
    "print('len: ', len(Imdls))\n",
    "print('error: ', np.mean([np.sqrt(np.mean(np.square(np.array(Imdl)/np.array(Isys)-1))) for Imdl in Imdls]))"
   ]
  },
  {
   "cell_type": "code",
   "execution_count": 1571,
   "metadata": {
    "collapsed": true
   },
   "outputs": [],
   "source": [
    "MIadj[machine.info] = {'Isys': Isys, 'Imdls': Imdls}\n",
    "save('MIadj2', MIadj)"
   ]
  },
  {
   "cell_type": "markdown",
   "metadata": {},
   "source": [
    "### Export Mutual Information"
   ]
  },
  {
   "cell_type": "code",
   "execution_count": 1572,
   "metadata": {
    "collapsed": true
   },
   "outputs": [],
   "source": [
    "MIadj = load('MIadj')\n",
    "info = Machine(\n",
    "        IsingModel(SSLattice(width=32,depth=100,pattern=[-1,-1,1])),\n",
    "        FreeFermion(size=64,mass=0.,c=4.0),method='weighted').info\n",
    "export('MIadj_c4', MIadj[info])"
   ]
  },
  {
   "cell_type": "code",
   "execution_count": null,
   "metadata": {
    "collapsed": true
   },
   "outputs": [],
   "source": [
    "MIadj = load('MIadj2')\n",
    "info = Machine(\n",
    "        IsingModel(SSLattice(width=32,depth=100,pattern=[-1,-1,1])),\n",
    "        FreeFermion(size=64,mass=0.,c=4.0),method='weighted').info\n",
    "export('MIadj2_c4', MIadj[info])"
   ]
  },
  {
   "cell_type": "code",
   "execution_count": null,
   "metadata": {
    "collapsed": false
   },
   "outputs": [],
   "source": []
  }
 ],
 "metadata": {
  "kernelspec": {
   "display_name": "Python 3",
   "language": "python",
   "name": "python3"
  },
  "language_info": {
   "codemirror_mode": {
    "name": "ipython",
    "version": 3
   },
   "file_extension": ".py",
   "mimetype": "text/x-python",
   "name": "python",
   "nbconvert_exporter": "python",
   "pygments_lexer": "ipython3",
   "version": "3.5.1"
  }
 },
 "nbformat": 4,
 "nbformat_minor": 0
}
