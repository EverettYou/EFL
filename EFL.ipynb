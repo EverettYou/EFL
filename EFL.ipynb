{
 "cells": [
  {
   "cell_type": "markdown",
   "metadata": {},
   "source": [
    "# Entanglement Feature Learning"
   ]
  },
  {
   "cell_type": "markdown",
   "metadata": {},
   "source": [
    "## EFL"
   ]
  },
  {
   "cell_type": "markdown",
   "metadata": {},
   "source": [
    "### Convension of Coupling Constants\n",
    "The original EFL model (for the Ising case) is\n",
    "$$E[\\sigma]=-\\sum_{\\langle ij\\rangle}J_{ij} \\chi(\\sigma_i^{-1}\\sigma_j),$$\n",
    "where $J_{ij}=\\ln D_{ij}$ and $\\sigma_{i}$ takes values in the $S_2$ group, and the cycle trace $\\chi$ maps $()\\to2$, $(1,2)\\to1$. The energy difference is one unit of $J_{ij}$. Note that each bond $\\langle ij\\rangle$ is added only once in the summation. Now for easier treatment in numerics, we map the $S_2$ spin $\\sigma_i$ to a $\\mathbb{Z}_2$ spin $s_i$, s.t. the energy model becomes\n",
    "$$E[s]=-\\frac{1}{2}\\sum_{\\langle ij\\rangle}J_{ij}s_is_j=-\\frac{1}{4}\\sum_{i j}J_{ij}s_is_j.$$\n",
    "We then define\n",
    "$$K_{ij}=\\frac{1}{2}J_{ij}=\\frac{1}{2}\\ln D_{ij},$$\n",
    "and rewrite the energy model as\n",
    "$$E[s]=-\\frac{1}{2}\\sum_{ij}K_{ij}s_is_j,$$\n",
    "where the summation double counts a bond, and $s_{i}=\\pm1$."
   ]
  },
  {
   "cell_type": "markdown",
   "metadata": {},
   "source": [
    "### Deep Boltzmann Machine (Model)\n",
    "\n",
    "Layers: $s^{0},s^{1},\\cdots$, where $s^0$ is the visible layer, rests are hidden layers. The energy model:\n",
    "$$E[s]=-\\sum_{l=1:L}\\sum_{i j}s_i^{l-1}K_{ij}^l s_j^l.$$"
   ]
  },
  {
   "cell_type": "markdown",
   "metadata": {},
   "source": [
    "## Restricted Boltzman Machine (RBM)"
   ]
  },
  {
   "cell_type": "markdown",
   "metadata": {},
   "source": [
    "### RBM Kernel\n",
    "Differences to standard RBM:\n",
    "- the binary units takes values $\\pm1$ instead of $0,1$.\n",
    "- **unbiased**, RTN of pure state are not biased, so the only variational parameter is the weight matrix.\n",
    "- elements in the weight matrixes are **positive** definite, because they correspnd to the logarithmic bond dimension."
   ]
  },
  {
   "cell_type": "markdown",
   "metadata": {},
   "source": [
    "Initialization of weight matrix. Wish to:\n",
    "- reflect the locality.\n",
    "- ferromagnetic, tune to critical.\n",
    "- with some randomness."
   ]
  },
  {
   "cell_type": "markdown",
   "metadata": {
    "collapsed": false
   },
   "source": [
    "Gibbs sampling:\n",
    "- propagating up:\n",
    "$$h_j\\leftarrow\\tanh \\left\\{\\begin{array}{cc}\\sum_{i}W_{ij}v_i & \\text{default, top},\\\\ 2\\sum_{i}W_{ij}v_i & \\text{bottom, intermediate},\\end{array}\\right.$$\n",
    "- propagating down:\n",
    "$$v_i\\leftarrow\\tanh \\left\\{\\begin{array}{cc}\\sum_{j}W_{ij}h_j & \\text{default, bottom},\\\\ 2\\sum_{j}W_{ij}h_j & \\text{top, intermediate},\\end{array}\\right.$$"
   ]
  },
  {
   "cell_type": "markdown",
   "metadata": {},
   "source": [
    "Update rule ($\\lambda_\\text{l}$ learning rate, $\\lambda_\\text{f}$ forgetting rate):\n",
    "$$W\\leftarrow \\text{relu}[(1-\\lambda_\\text{f})W+\\lambda_\\text{l} (v^{\\intercal}(0) h(0)-v^{\\intercal}(\\infty) h(\\infty))]$$\n",
    "- If any element in $W$ becomes negative, the element is set to zero.\n",
    "- Forgetting rate can be used to control the bond dimension."
   ]
  },
  {
   "cell_type": "code",
   "execution_count": 288,
   "metadata": {
    "collapsed": false
   },
   "outputs": [],
   "source": [
    "%run 'EFL.py'\n",
    "rbm = RBM(4,2)"
   ]
  },
  {
   "cell_type": "code",
   "execution_count": 287,
   "metadata": {
    "collapsed": false
   },
   "outputs": [
    {
     "name": "stdout",
     "output_type": "stream",
     "text": [
      "0.7453134201113543\n"
     ]
    },
    {
     "data": {
      "text/plain": [
       "array([[ 0.165,  0.011],\n",
       "       [ 0.708,  0.176],\n",
       "       [ 0.120,  0.285],\n",
       "       [ 0.071,  0.809]])"
      ]
     },
     "execution_count": 287,
     "metadata": {},
     "output_type": "execute_result"
    }
   ],
   "source": [
    "print(rbm.learn(numpy.asarray(numpy.random.randint(0,2,(40,4))*2-1,dtype=float),0.1,0.01))\n",
    "rbm.W.get_value()"
   ]
  },
  {
   "cell_type": "code",
   "execution_count": 366,
   "metadata": {
    "collapsed": false
   },
   "outputs": [
    {
     "name": "stdout",
     "output_type": "stream",
     "text": [
      "1.081018265501512\n"
     ]
    },
    {
     "data": {
      "text/plain": [
       "array([[ 1.194,  0.031],\n",
       "       [ 0.005,  0.940],\n",
       "       [ 1.189,  0.003],\n",
       "       [ 0.000,  0.946]])"
      ]
     },
     "execution_count": 366,
     "metadata": {},
     "output_type": "execute_result"
    }
   ],
   "source": [
    "print(rbm.learn(numpy.array([[1,1,1,1],[-1,1,-1,1]]*10,dtype=float),0.1,0.01))\n",
    "rbm.W.get_value()"
   ]
  },
  {
   "cell_type": "markdown",
   "metadata": {},
   "source": [
    "#### Test by Ideal States\n",
    "* trivial product state: deep PM, all Ising configuration equal weight.\n",
    "* random state (maximally thermalized): deep FM, all up or all down."
   ]
  },
  {
   "cell_type": "code",
   "execution_count": 16,
   "metadata": {
    "collapsed": false
   },
   "outputs": [],
   "source": [
    "%run EFL.py\n",
    "train_FM = numpy.array([[1,1,1,1],[-1,-1,-1,-1]]*200,dtype=float)\n",
    "train_AFM = numpy.array([[1,-1,1,-1],[-1,1,-1,1]]*200,dtype=float)\n",
    "train_PM = numpy.asarray(numpy.random.randint(0,2,(400,4))*2-1,dtype=float)\n",
    "#lr_table = [0.2,0.3,0.25,0.15,0.1]\n",
    "#fr_table = [0.05,0.01,0.,0.,0.]\n",
    "lr_table = [0.5,0.3,0.2,0.15,0.1,0.1,0.1]\n",
    "fr_table = [0.,0.,0.,0.,0.,0.,0.]"
   ]
  },
  {
   "cell_type": "markdown",
   "metadata": {},
   "source": [
    "FM, maximally thermal."
   ]
  },
  {
   "cell_type": "code",
   "execution_count": 20,
   "metadata": {
    "collapsed": false
   },
   "outputs": [
    {
     "name": "stdout",
     "output_type": "stream",
     "text": [
      "Epoch 0:  cost = 0.946498\n",
      "Epoch 1:  cost = 0.901662\n",
      "Epoch 2:  cost = 0.687882\n",
      "Epoch 3:  cost = 0.599588\n",
      "Epoch 4:  cost = 0.612765\n",
      "Epoch 5:  cost = 0.556824\n",
      "Epoch 6:  cost = 0.536112\n"
     ]
    },
    {
     "data": {
      "text/plain": [
       "array([[ 0.845,  0.575],\n",
       "       [ 1.516,  0.517],\n",
       "       [ 0.737,  0.613],\n",
       "       [ 0.642,  0.933]])"
      ]
     },
     "execution_count": 20,
     "metadata": {},
     "output_type": "execute_result"
    }
   ],
   "source": [
    "rbm = RBM(Nv=4,Nh=2)\n",
    "for epoch in range(7):\n",
    "    cost = rbm.learn(train_FM,lr_table[epoch],fr_table[epoch])\n",
    "    print('Epoch %d: '%epoch, 'cost = %f'%cost)\n",
    "rbm.W.get_value()"
   ]
  },
  {
   "cell_type": "markdown",
   "metadata": {},
   "source": [
    "PM, trivial product state."
   ]
  },
  {
   "cell_type": "code",
   "execution_count": 31,
   "metadata": {
    "collapsed": false
   },
   "outputs": [
    {
     "name": "stdout",
     "output_type": "stream",
     "text": [
      "Epoch 0:  cost = 1.026209\n",
      "Epoch 1:  cost = 1.021890\n",
      "Epoch 2:  cost = 1.005196\n",
      "Epoch 3:  cost = 0.953806\n",
      "Epoch 4:  cost = 0.973413\n",
      "Epoch 5:  cost = 0.966338\n",
      "Epoch 6:  cost = 0.966973\n"
     ]
    },
    {
     "data": {
      "text/plain": [
       "array([[ 1.397,  0.003],\n",
       "       [ 0.089,  0.006],\n",
       "       [ 0.000,  0.400],\n",
       "       [ 0.018,  0.692]])"
      ]
     },
     "execution_count": 31,
     "metadata": {},
     "output_type": "execute_result"
    }
   ],
   "source": [
    "rbm = RBM(Nv=4,Nh=2)\n",
    "for epoch in range(7):\n",
    "    cost = rbm.learn(train_PM,lr_table[epoch],fr_table[epoch])\n",
    "    print('Epoch %d: '%epoch, 'cost = %f'%cost)\n",
    "rbm.W.get_value()"
   ]
  },
  {
   "cell_type": "markdown",
   "metadata": {},
   "source": [
    "### Convolutional RBM\n",
    "Assumption: translational symmetry (or in statistical sense under disorder average). Weights are shared among kernels for each layer and each group. This makes the algorithm scalable. For disordered system, this will learn the disorder averaged entanglement features."
   ]
  },
  {
   "cell_type": "markdown",
   "metadata": {
    "collapsed": true
   },
   "source": [
    "Consider a 1D free fermion CFT, the Renyi entropy given by (acorrding to Calabrese and Cardy 2004, 2009)\n",
    "$$S\\propto\\sum_{i,j}\\ln|u_i-v_j|-\\sum_{i<j}\\ln|u_i-u_j|-\\sum_{i<j}\\ln|v_i-v_j|.$$\n",
    "$u_i$ and $v_i$ are positions of kinks and antikinks in the Ising configuraiton."
   ]
  },
  {
   "cell_type": "code",
   "execution_count": 26,
   "metadata": {
    "collapsed": false
   },
   "outputs": [
    {
     "data": {
      "text/plain": [
       "1.9459101490553132"
      ]
     },
     "execution_count": 26,
     "metadata": {},
     "output_type": "execute_result"
    }
   ],
   "source": [
    "from itertools import combinations\n",
    "def entropy_CFT(kinks):\n",
    "    us = kinks[0::2]\n",
    "    vs = kinks[1::2]\n",
    "    Suv = sum(numpy.log(abs(u-v)) for u in us for v in vs)\n",
    "    Suu = sum(numpy.log(abs(u1-u2)) for u1, u2 in combinations(us,2))\n",
    "    Svv = sum(numpy.log(abs(v1-v2)) for v1, v2 in combinations(vs,2))\n",
    "    S = Suv-Suu-Svv\n",
    "    return S\n",
    "entropy_CFT([3,10])"
   ]
  },
  {
   "cell_type": "markdown",
   "metadata": {
    "collapsed": true
   },
   "source": [
    "## Deep Boltzmann Machine"
   ]
  },
  {
   "cell_type": "markdown",
   "metadata": {},
   "source": [
    "Create a DBM and prepare training set."
   ]
  },
  {
   "cell_type": "code",
   "execution_count": 103,
   "metadata": {
    "collapsed": false
   },
   "outputs": [],
   "source": [
    "%run 'EFL.py'\n",
    "dbm = DBM([8,4,2,1])\n",
    "test_samples = [\n",
    "    [+1,+1,+1,+1,+1,+1,+1,+1],\n",
    "    [-1,-1,-1,-1,-1,-1,-1,-1],\n",
    "    [+1,+1,+1,+1,-1,-1,-1,-1],\n",
    "    [-1,-1,-1,-1,+1,+1,+1,+1],\n",
    "    #[+1,+1,-1,-1,-1,-1,+1,+1],\n",
    "    #[-1,-1,+1,+1,+1,+1,-1,-1]\n",
    "]\n",
    "data = Server(test_samples*100,15)\n",
    "#data = Server(numpy.random.randint(0,2,(200,8))*2-1,10)"
   ]
  },
  {
   "cell_type": "markdown",
   "metadata": {
    "collapsed": false
   },
   "source": [
    "Pretrain and show weights."
   ]
  },
  {
   "cell_type": "code",
   "execution_count": 104,
   "metadata": {
    "collapsed": false
   },
   "outputs": [
    {
     "name": "stdout",
     "output_type": "stream",
     "text": [
      "Pretraining layer 0:\n",
      "    Epoch 0: cost = 0.529616\n",
      "    Epoch 1: cost = 0.229190\n",
      "    Epoch 2: cost = 0.082441\n",
      "    Epoch 3: cost = 0.031849\n",
      "    Epoch 4: cost = 0.030100\n",
      "    Epoch 5: cost = 0.009616\n",
      "    Epoch 6: cost = 0.008593\n",
      "Pretraining layer 1:\n",
      "    Epoch 0: cost = 1.564733\n",
      "    Epoch 1: cost = 1.475176\n",
      "    Epoch 2: cost = 1.211319\n",
      "    Epoch 3: cost = 0.900614\n",
      "    Epoch 4: cost = 0.786393\n",
      "    Epoch 5: cost = 0.653053\n",
      "    Epoch 6: cost = 0.716692\n",
      "Pretraining layer 2:\n",
      "    Epoch 0: cost = 1.303247\n",
      "    Epoch 1: cost = 1.039667\n",
      "    Epoch 2: cost = 1.036992\n",
      "    Epoch 3: cost = 1.023406\n",
      "    Epoch 4: cost = 1.023770\n"
     ]
    }
   ],
   "source": [
    "dbm.pretrain(data,lrs=[0.5,0.3,0.2,0.15],frs=[0.05,0.01])"
   ]
  },
  {
   "cell_type": "code",
   "execution_count": 105,
   "metadata": {
    "collapsed": false
   },
   "outputs": [
    {
     "name": "stdout",
     "output_type": "stream",
     "text": [
      "[[ 1.312  1.206  0.067  0.067]\n",
      " [ 1.413  1.294  0.013  0.013]\n",
      " [ 1.311  1.427  0.081  0.082]\n",
      " [ 1.128  1.282  0.054  0.056]\n",
      " [ 0.040  0.040  1.364  1.280]\n",
      " [ 0.000  0.000  1.271  1.280]\n",
      " [ 0.040  0.040  1.280  1.373]\n",
      " [ 0.000  0.000  1.287  1.349]]\n",
      "[[ 1.258  0.027]\n",
      " [ 1.258  0.027]\n",
      " [ 0.027  1.318]\n",
      " [ 0.027  1.320]]\n",
      "[[ 0.017]\n",
      " [ 0.135]]\n"
     ]
    }
   ],
   "source": [
    "for rbm in dbm.rbms:\n",
    "    print(rbm.W.get_value())"
   ]
  },
  {
   "cell_type": "code",
   "execution_count": 35,
   "metadata": {
    "collapsed": false
   },
   "outputs": [
    {
     "data": {
      "text/plain": [
       "array([[ 1.000,  1.000],\n",
       "       [-1.000, -1.000],\n",
       "       [-1.000,  1.000],\n",
       "       [ 1.000, -1.000]])"
      ]
     },
     "execution_count": 35,
     "metadata": {},
     "output_type": "execute_result"
    }
   ],
   "source": [
    "f = theano.function([dbm.input],dbm.rbms[1].output)\n",
    "f([[+1,+1,+1,+1,+1,+1,+1,+1],\n",
    "   [-1,-1,-1,-1,-1,-1,-1,-1],\n",
    "   [-1,-1,-1,-1,+1,+1,+1,+1],\n",
    "   [+1,+1,+1,+1,-1,-1,-1,-1]])"
   ]
  },
  {
   "cell_type": "markdown",
   "metadata": {},
   "source": [
    "Fine-tuning and show weights."
   ]
  },
  {
   "cell_type": "code",
   "execution_count": 36,
   "metadata": {
    "collapsed": false
   },
   "outputs": [
    {
     "name": "stdout",
     "output_type": "stream",
     "text": [
      "    Epoch 0: cost = 0.005486\n",
      "    Epoch 1: cost = 0.003521\n",
      "    Epoch 2: cost = 0.003186\n",
      "    Epoch 3: cost = 0.001988\n",
      "    Epoch 4: cost = 0.001897\n",
      "    Epoch 5: cost = 0.001822\n",
      "    Epoch 6: cost = 0.001761\n",
      "    Epoch 7: cost = 0.001747\n",
      "    Epoch 8: cost = 0.001740\n",
      "    Epoch 9: cost = 0.001734\n"
     ]
    }
   ],
   "source": [
    "dbm.finetune(data,10,lrs=[0.5,0.5,0.4,0.3,0.2,0.1])"
   ]
  },
  {
   "cell_type": "code",
   "execution_count": 37,
   "metadata": {
    "collapsed": false
   },
   "outputs": [
    {
     "name": "stdout",
     "output_type": "stream",
     "text": [
      "[[ 1.712  1.722  0.000  0.000]\n",
      " [ 1.647  1.652  0.000  0.000]\n",
      " [ 1.766  1.759  0.000  0.000]\n",
      " [ 1.528  1.592  0.000  0.000]\n",
      " [ 0.000  0.000  1.680  1.656]\n",
      " [ 0.000  0.000  1.755  1.691]\n",
      " [ 0.000  0.000  1.731  1.727]\n",
      " [ 0.000  0.000  1.657  1.743]]\n",
      "[[ 1.293  0.000]\n",
      " [ 1.288  0.000]\n",
      " [ 0.000  1.330]\n",
      " [ 0.000  1.318]]\n",
      "[[ 0.018]\n",
      " [ 0.000]]\n"
     ]
    }
   ],
   "source": [
    "for rbm in dbm.rbms:\n",
    "    print(rbm.W.get_value())"
   ]
  },
  {
   "cell_type": "markdown",
   "metadata": {
    "collapsed": true
   },
   "source": [
    "## Random Heisenberg Model"
   ]
  },
  {
   "cell_type": "markdown",
   "metadata": {},
   "source": [
    "Random Heisenberg model:\n",
    "$$H=J_1\\sum_{\\langle ij\\rangle}\\vec{S}_i\\cdot\\vec{S}_j+J_2\\sum_{\\langle\\langle ij\\rangle\\rangle}(S_i^+S_j^-+h.c.)+\\sum_i h_i S_i^z,$$\n",
    "where $h_i\\in[-W,W]$ is independently random on each site. According to Vedica, the MBL-ETH transition happens around $W_c\\simeq 5$. We assume periodic boundary condition, and ED the Hamiltonian in the total-$S^z$ zero sector.\n",
    "\n",
    "`Entanglement` object takes the many-body wave function given by `random_Heisenberg`. It than perform the MPS decomposition, and construct  entanglement entropy (2nd Renyi, in unit of bit) for all entanglement regions (secified by Ising configruation). The result is stored as a dict in `Entanglement.Sdict`."
   ]
  },
  {
   "cell_type": "code",
   "execution_count": 64,
   "metadata": {
    "collapsed": false
   },
   "outputs": [
    {
     "data": {
      "text/plain": [
       "{0: (6.4068530076298373e-16, 0.0),\n",
       " 1: (0.96028850843789637, 0.039106523833883598),\n",
       " 2: (1.8123988751016264, 0.05916211303357078),\n",
       " 3: (2.4642948420407103, 0.059053162762554776),\n",
       " 4: (2.725657982673686, 0.058492579937884204)}"
      ]
     },
     "execution_count": 64,
     "metadata": {},
     "output_type": "execute_result"
    }
   ],
   "source": [
    "%run 'EFL.py'\n",
    "ent = Entanglement(random_Heisenberg(L = 8, W = 1.))\n",
    "d = {k:[] for k in range(0,ent.L//2+1)}\n",
    "for config, W in zip(ent.configs, ent.weights):\n",
    "    d[min(tuple(config).count(1),tuple(config).count(-1))].append(-numpy.log2(W))\n",
    "{k:(numpy.mean(Ss), numpy.std(Ss)/numpy.mean(Ss)) for k, Ss in d.items()}"
   ]
  },
  {
   "cell_type": "markdown",
   "metadata": {},
   "source": [
    "Generate random configurations for training set."
   ]
  },
  {
   "cell_type": "code",
   "execution_count": 70,
   "metadata": {
    "collapsed": false
   },
   "outputs": [
    {
     "data": {
      "text/plain": [
       "array([[ 1, -1, -1, -1, -1,  1, -1, -1],\n",
       "       [ 1, -1, -1, -1, -1,  1, -1, -1],\n",
       "       [-1,  1,  1, -1,  1, -1, -1,  1],\n",
       "       [-1,  1,  1, -1,  1,  1, -1,  1],\n",
       "       [ 1,  1,  1, -1,  1, -1, -1, -1],\n",
       "       [ 1, -1, -1, -1, -1,  1, -1, -1],\n",
       "       [ 1,  1, -1,  1,  1,  1,  1, -1],\n",
       "       [-1, -1, -1, -1,  1, -1,  1, -1]])"
      ]
     },
     "execution_count": 70,
     "metadata": {},
     "output_type": "execute_result"
    }
   ],
   "source": [
    "subset = numpy.random.choice(len(ent.configs),len(ent.configs)//10,replace=False) \n",
    "ent.rand_configs(8,subset=subset, beta=5.)"
   ]
  },
  {
   "cell_type": "code",
   "execution_count": 71,
   "metadata": {
    "collapsed": false
   },
   "outputs": [
    {
     "data": {
      "text/plain": [
       "array([ 0.118,  0.443,  0.040,  0.048,  0.012,  0.014,  0.368,  0.083,\n",
       "        0.047,  0.046,  0.057,  0.010,  0.438,  1.000,  0.056,  0.013,\n",
       "        0.074,  0.103,  0.030,  0.061,  0.061,  0.072,  0.026,  0.031,\n",
       "        0.050])"
      ]
     },
     "execution_count": 71,
     "metadata": {},
     "output_type": "execute_result"
    }
   ],
   "source": [
    "prob = ent.weights[subset]\n",
    "prob = (prob/prob.max())**5.\n",
    "prob"
   ]
  },
  {
   "cell_type": "code",
   "execution_count": 95,
   "metadata": {
    "collapsed": false
   },
   "outputs": [
    {
     "name": "stdout",
     "output_type": "stream",
     "text": [
      "Pretraining layer 0:\n",
      "    Epoch 0: cost = 0.809682\n",
      "    Epoch 1: cost = 0.844806\n",
      "    Epoch 2: cost = 0.870872\n",
      "    Epoch 3: cost = 0.909047\n",
      "    Epoch 4: cost = 0.911220\n",
      "    Epoch 5: cost = 0.903291\n",
      "    Epoch 6: cost = 0.915502\n",
      "Pretraining layer 1:\n",
      "    Epoch 0: cost = 1.257095\n",
      "    Epoch 1: cost = 1.228000\n",
      "    Epoch 2: cost = 1.285014\n",
      "    Epoch 3: cost = 1.299890\n",
      "    Epoch 4: cost = 1.260071\n",
      "    Epoch 5: cost = 1.371015\n",
      "    Epoch 6: cost = 1.353230\n",
      "Pretraining layer 2:\n",
      "    Epoch 0: cost = 1.811149\n",
      "    Epoch 1: cost = 1.980749\n",
      "    Epoch 2: cost = 2.082329\n",
      "    Epoch 3: cost = 2.106684\n",
      "    Epoch 4: cost = 2.034293\n",
      "    Epoch 5: cost = 2.093188\n",
      "    Epoch 6: cost = 2.085251\n",
      "    Epoch 0: cost = 0.419986\n",
      "    Epoch 1: cost = 0.466765\n",
      "    Epoch 2: cost = 0.414422\n",
      "    Epoch 3: cost = 0.423329\n",
      "    Epoch 4: cost = 0.401117\n",
      "    Epoch 5: cost = 0.384424\n",
      "    Epoch 6: cost = 0.370906\n",
      "    Epoch 7: cost = 0.362722\n",
      "    Epoch 8: cost = 0.357901\n",
      "    Epoch 9: cost = 0.354881\n"
     ]
    }
   ],
   "source": [
    "Ls = [8,4,2,1]\n",
    "ent = Entanglement(random_Heisenberg(L = Ls[0], W=1.))\n",
    "train = numpy.random.choice(len(ent.configs),len(ent.configs)//2,replace=False) \n",
    "test = numpy.array(list(set(range(len(ent.configs)))-set(train)))\n",
    "data = Server(ent.rand_configs(2000,subset=train,beta=1.),batch_size=20)\n",
    "dbm = DBM(Ls)\n",
    "dbm.pretrain(data,epochs=7,lrs=[0.5,0.3,0.2,0.15],frs=[0.02,0.01])\n",
    "dbm.finetune(data,epochs=10,lrs=[0.5,0.5,0.4,0.3,0.2,0.1])"
   ]
  },
  {
   "cell_type": "code",
   "execution_count": 94,
   "metadata": {
    "collapsed": false
   },
   "outputs": [
    {
     "name": "stdout",
     "output_type": "stream",
     "text": [
      "[[ 0.343  0.003  0.000  0.340]\n",
      " [ 0.234  0.002  0.000  0.394]\n",
      " [ 0.092  0.001  0.000  0.308]\n",
      " [ 0.276  0.002  0.000  0.645]\n",
      " [ 0.000  0.000  0.000  0.353]\n",
      " [ 0.000  0.000  0.000  0.589]\n",
      " [ 0.000  0.000  0.000  0.408]\n",
      " [ 0.000  0.000  0.000  0.592]]\n",
      "[[ 0.000  0.000]\n",
      " [ 0.000  0.000]\n",
      " [ 0.035  0.000]\n",
      " [ 0.004  0.000]]\n",
      "[[ 0.000]\n",
      " [ 0.000]]\n"
     ]
    }
   ],
   "source": [
    "for rbm in dbm.rbms:\n",
    "    print(rbm.W.get_value())"
   ]
  },
  {
   "cell_type": "code",
   "execution_count": 76,
   "metadata": {
    "collapsed": false
   },
   "outputs": [
    {
     "data": {
      "text/plain": [
       "array([[ 1.000,  1.000],\n",
       "       [ 1.000,  1.000],\n",
       "       [ 1.000,  1.000],\n",
       "       [ 1.000,  1.000]])"
      ]
     },
     "execution_count": 76,
     "metadata": {},
     "output_type": "execute_result"
    }
   ],
   "source": [
    "f = theano.function([dbm.input],dbm.rbms[1].output)\n",
    "f(data.dataset[0:4])"
   ]
  },
  {
   "cell_type": "code",
   "execution_count": 99,
   "metadata": {
    "collapsed": false
   },
   "outputs": [
    {
     "data": {
      "text/plain": [
       "array([[ 1.000,  1.000, -1.000,  1.000,  1.000, -1.000, -1.000,  1.000],\n",
       "       [ 1.000,  1.000,  1.000,  1.000,  1.000,  1.000,  1.000,  1.000],\n",
       "       [-1.000, -1.000, -1.000, -1.000,  1.000, -1.000,  1.000, -1.000],\n",
       "       [ 1.000, -1.000,  1.000, -1.000, -1.000, -1.000, -1.000, -1.000],\n",
       "       [ 1.000,  1.000,  1.000,  1.000,  1.000,  1.000,  1.000,  1.000]])"
      ]
     },
     "execution_count": 99,
     "metadata": {},
     "output_type": "execute_result"
    }
   ],
   "source": [
    "data.dataset[0:5]"
   ]
  },
  {
   "cell_type": "code",
   "execution_count": 91,
   "metadata": {
    "collapsed": false
   },
   "outputs": [
    {
     "data": {
      "text/plain": [
       "array([[ 1,  1,  1, ...,  1,  1,  1],\n",
       "       [ 1, -1,  1, ...,  1, -1, -1],\n",
       "       [ 1, -1, -1, ...,  1, -1, -1],\n",
       "       ..., \n",
       "       [ 1, -1, -1, ..., -1,  1, -1],\n",
       "       [ 1, -1, -1, ..., -1, -1,  1],\n",
       "       [-1, -1,  1, ..., -1, -1, -1]])"
      ]
     },
     "execution_count": 91,
     "metadata": {},
     "output_type": "execute_result"
    }
   ],
   "source": [
    "ent.rand_configs(200,subset=train,beta=2.)"
   ]
  },
  {
   "cell_type": "code",
   "execution_count": null,
   "metadata": {
    "collapsed": true
   },
   "outputs": [],
   "source": []
  }
 ],
 "metadata": {
  "celltoolbar": "Raw Cell Format",
  "kernelspec": {
   "display_name": "Python 3",
   "language": "python",
   "name": "python3"
  },
  "language_info": {
   "codemirror_mode": {
    "name": "ipython",
    "version": 3
   },
   "file_extension": ".py",
   "mimetype": "text/x-python",
   "name": "python",
   "nbconvert_exporter": "python",
   "pygments_lexer": "ipython3",
   "version": "3.5.1"
  }
 },
 "nbformat": 4,
 "nbformat_minor": 0
}
