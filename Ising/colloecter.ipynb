{
 "cells": [
  {
   "cell_type": "markdown",
   "metadata": {},
   "source": [
    "# EFL Data Colloector\n",
    "need to run EFL.py first"
   ]
  },
  {
   "cell_type": "code",
   "execution_count": 23,
   "metadata": {
    "collapsed": true
   },
   "outputs": [],
   "source": [
    "%run 'EFL.py'"
   ]
  },
  {
   "cell_type": "markdown",
   "metadata": {},
   "source": [
    "## Training Engine\n",
    "Machines are trained here."
   ]
  },
  {
   "cell_type": "code",
   "execution_count": 894,
   "metadata": {
    "collapsed": false
   },
   "outputs": [
    {
     "name": "stdout",
     "output_type": "stream",
     "text": [
      "INFO:tensorflow:Restoring parameters from ./machine/Ising(SSLatt(32,100,UUI))FF(64,0.50,4.0)weighted\n",
      "File not found! Train new machine.\n"
     ]
    }
   ],
   "source": [
    "%run 'EFL.py'\n",
    "machine = Machine(\n",
    "    IsingModel(SSLattice(width=32,depth=100,pattern=[-1,-1,1])),\n",
    "    FreeFermion(size=64,mass=0.,c=4.0),method='weighted')\n",
    "try:\n",
    "    machine.load()\n",
    "except:\n",
    "    print('File not found! Train new machine.')"
   ]
  },
  {
   "cell_type": "code",
   "execution_count": 901,
   "metadata": {
    "collapsed": false
   },
   "outputs": [
    {
     "name": "stdout",
     "output_type": "stream",
     "text": [
      "(8.2414611868045543e-05, array([ 0.053,  0.005,  0.000,  0.000,  0.000]))\n",
      "(0.000137758269367625, array([ 0.054,  0.005,  0.000,  0.000,  0.000]))\n",
      "(8.7041832869568908e-05, array([ 0.054,  0.005,  0.000,  0.000,  0.000]))\n",
      "(3.3677494530541446e-05, array([ 0.053,  0.000,  0.000,  0.000,  0.000]))\n",
      "(0.00010222809758183779, array([ 0.053,  0.000,  0.000,  0.000,  0.000]))\n"
     ]
    }
   ],
   "source": [
    "for i in range(5):\n",
    "    machine.train(16, learning_rate=0.005, beta1=0.9, beta2=0.9)\n",
    "    print(machine.session.run((machine.model.MSE, machine.model.J), machine.feed))"
   ]
  },
  {
   "cell_type": "markdown",
   "metadata": {},
   "source": [
    "I/O: save machine"
   ]
  },
  {
   "cell_type": "code",
   "execution_count": 902,
   "metadata": {
    "collapsed": false
   },
   "outputs": [
    {
     "name": "stdout",
     "output_type": "stream",
     "text": [
      "INFO:tensorflow:Saving parameters to ./machine/Ising(SSLatt(32,100,UUI))FF(64,0.50,4.0)weighted\n"
     ]
    }
   ],
   "source": [
    "machine.save()"
   ]
  },
  {
   "cell_type": "markdown",
   "metadata": {},
   "source": [
    "----"
   ]
  },
  {
   "cell_type": "code",
   "execution_count": 400,
   "metadata": {
    "collapsed": false
   },
   "outputs": [
    {
     "data": {
      "text/plain": [
       "array([ 0.260,  0.050,  0.050,  0.050,  0.050])"
      ]
     },
     "execution_count": 400,
     "metadata": {},
     "output_type": "execute_result"
    }
   ],
   "source": [
    "machine.session.run(machine.model.J.assign(np.array([0.26,0.05,0.05,0.05,0.05])))"
   ]
  },
  {
   "cell_type": "code",
   "execution_count": 537,
   "metadata": {
    "collapsed": false
   },
   "outputs": [
    {
     "data": {
      "text/plain": [
       "11.090354888959125"
      ]
     },
     "execution_count": 537,
     "metadata": {},
     "output_type": "execute_result"
    }
   ],
   "source": [
    "machine.session.run(machine.model.h)"
   ]
  },
  {
   "cell_type": "markdown",
   "metadata": {},
   "source": [
    "## J Sequence\n",
    "Given trained machine, run additional trainings to get the time sequence of J.\n",
    "### Collect Jseq\n",
    "Data format: `Jseq = {machine: [[J1,J2,...], ...], ...}`"
   ]
  },
  {
   "cell_type": "code",
   "execution_count": 903,
   "metadata": {
    "collapsed": false
   },
   "outputs": [
    {
     "name": "stdout",
     "output_type": "stream",
     "text": [
      "len:  0\n"
     ]
    }
   ],
   "source": [
    "try:\n",
    "    Jseq = load('Jseq')\n",
    "except FileNotFoundError:\n",
    "    Jseq = {}\n",
    "try:\n",
    "    Js = Jseq[machine.info]\n",
    "except KeyError:\n",
    "    Js = []\n",
    "print('len: ', len(Js))"
   ]
  },
  {
   "cell_type": "code",
   "execution_count": 904,
   "metadata": {
    "collapsed": false
   },
   "outputs": [
    {
     "name": "stdout",
     "output_type": "stream",
     "text": [
      "(6.1154497289490542e-05, array([ 0.053,  0.000,  0.000,  0.000,  0.000]))\n",
      "(4.7208842235455734e-05, array([ 0.054,  0.000,  0.000,  0.000,  0.000]))\n",
      "(0.00019264132659747401, array([ 0.053,  0.001,  0.000,  0.000,  0.000]))\n",
      "(5.1873798672456684e-05, array([ 0.053,  0.003,  0.000,  0.000,  0.000]))\n",
      "(8.1848297625627966e-05, array([ 0.053,  0.003,  0.000,  0.000,  0.000]))\n",
      "(4.608158186283059e-05, array([ 0.054,  0.002,  0.000,  0.000,  0.000]))\n",
      "(0.00013874977607373988, array([ 0.054,  0.002,  0.000,  0.000,  0.000]))\n",
      "(1.4337901427456259e-05, array([ 0.054,  0.003,  0.000,  0.000,  0.000]))\n",
      "(0.00024004388402431399, array([ 0.054,  0.003,  0.000,  0.000,  0.000]))\n",
      "(2.9431663065135773e-05, array([ 0.054,  0.002,  0.000,  0.000,  0.000]))\n",
      "(6.7678291814893428e-05, array([ 0.054,  0.001,  0.000,  0.000,  0.000]))\n",
      "(0.00010957012407684478, array([ 0.053,  0.002,  0.000,  0.000,  0.000]))\n",
      "(7.2164600028881313e-05, array([ 0.053,  0.006,  0.001,  0.000,  0.000]))\n",
      "(0.00011145504125363073, array([ 0.054,  0.009,  0.002,  0.000,  0.000]))\n",
      "(8.2806304560477715e-05, array([ 0.054,  0.003,  0.000,  0.000,  0.000]))\n",
      "(7.9246812299007009e-05, array([ 0.054,  0.001,  0.000,  0.000,  0.000]))\n",
      "(0.00021893014090271676, array([ 0.053,  0.000,  0.000,  0.000,  0.000]))\n",
      "(3.7893533204747443e-05, array([ 0.054,  0.002,  0.000,  0.000,  0.000]))\n",
      "(1.1828020390128013e-05, array([ 0.053,  0.001,  0.000,  0.000,  0.000]))\n",
      "(0.00015860437855741771, array([ 0.054,  0.001,  0.000,  0.000,  0.000]))\n",
      "len:  20\n",
      "avg:  [ 0.054  0.002  0.000  0.000  0.000]\n",
      "std:  [ 0.000  0.002  0.000  0.000  0.000]\n"
     ]
    }
   ],
   "source": [
    "for i in range(20):\n",
    "    machine.train(16, learning_rate=0.005, check=16)\n",
    "    print(machine.session.run((machine.model.MSE, machine.model.J), machine.feed))\n",
    "    Js.append(list(machine.session.run(machine.model.J)))\n",
    "print('len: ', len(Js))\n",
    "print('avg: ', np.mean(Js,axis=0))\n",
    "print('std: ', np.std(Js,axis=0))"
   ]
  },
  {
   "cell_type": "code",
   "execution_count": 905,
   "metadata": {
    "collapsed": false
   },
   "outputs": [],
   "source": [
    "Jseq[machine.info] = Js\n",
    "save('Jseq', Jseq)"
   ]
  },
  {
   "cell_type": "markdown",
   "metadata": {},
   "source": [
    "----"
   ]
  },
  {
   "cell_type": "code",
   "execution_count": 758,
   "metadata": {
    "collapsed": true
   },
   "outputs": [],
   "source": [
    "Js=[]"
   ]
  },
  {
   "cell_type": "code",
   "execution_count": 906,
   "metadata": {
    "collapsed": false
   },
   "outputs": [
    {
     "data": {
      "text/plain": [
       "[('Ising(SSLatt(16,100,UUI))FF(32,0.00,8.0)random',\n",
       "  array([ 0.663,  0.201,  0.201,  0.200])),\n",
       " ('Ising(SSLatt(32,100,UUI))FF(64,0.00,0.5)random',\n",
       "  array([ 0.331,  0.002,  0.000,  0.000,  0.000])),\n",
       " ('Ising(SSLatt(32,100,UUI))FF(64,0.00,1.0)random',\n",
       "  array([ 0.272,  0.000,  0.000,  0.000,  0.000])),\n",
       " ('Ising(SSLatt(32,100,UUI))FF(64,0.00,1.5)random',\n",
       "  array([ 0.253,  0.099,  0.099,  0.099,  0.099])),\n",
       " ('Ising(SSLatt(32,100,UUI))FF(64,0.00,12.0)random',\n",
       "  array([ 1.050,  0.238,  0.238,  0.239,  0.239])),\n",
       " ('Ising(SSLatt(32,100,UUI))FF(64,0.00,16.0)random',\n",
       "  array([ 1.404,  0.245,  0.245,  0.245,  0.246])),\n",
       " ('Ising(SSLatt(32,100,UUI))FF(64,0.00,2.0)multiple',\n",
       "  array([ 0.248,  0.196,  0.196,  0.197,  0.198])),\n",
       " ('Ising(SSLatt(32,100,UUI))FF(64,0.00,2.0)random',\n",
       "  array([ 0.258,  0.157,  0.157,  0.157,  0.158])),\n",
       " ('Ising(SSLatt(32,100,UUI))FF(64,0.00,2.0)weighted',\n",
       "  array([ 0.245,  0.197,  0.197,  0.198,  0.199])),\n",
       " ('Ising(SSLatt(32,100,UUI))FF(64,0.00,3.0)random',\n",
       "  array([ 0.310,  0.196,  0.195,  0.196,  0.196])),\n",
       " ('Ising(SSLatt(32,100,UUI))FF(64,0.00,4.0)multiple',\n",
       "  array([ 0.385,  0.229,  0.229,  0.230,  0.231])),\n",
       " ('Ising(SSLatt(32,100,UUI))FF(64,0.00,4.0)random',\n",
       "  array([ 0.382,  0.207,  0.207,  0.207,  0.208])),\n",
       " ('Ising(SSLatt(32,100,UUI))FF(64,0.00,4.0)weighted',\n",
       "  array([ 0.379,  0.232,  0.232,  0.233,  0.233])),\n",
       " ('Ising(SSLatt(32,100,UUI))FF(64,0.00,8.0)multiple',\n",
       "  array([ 0.711,  0.294,  0.289,  0.285,  0.285])),\n",
       " ('Ising(SSLatt(32,100,UUI))FF(64,0.00,8.0)random',\n",
       "  array([ 0.704,  0.229,  0.229,  0.230,  0.230])),\n",
       " ('Ising(SSLatt(32,100,UUI))FF(64,0.10,2.0)weighted',\n",
       "  array([ 0.178,  0.129,  0.126,  0.084,  0.029])),\n",
       " ('Ising(SSLatt(32,100,UUI))FF(64,0.10,4.0)weighted',\n",
       "  array([ 0.265,  0.147,  0.135,  0.031,  0.002])),\n",
       " ('Ising(SSLatt(32,100,UUI))FF(64,0.20,2.0)weighted',\n",
       "  array([ 0.125,  0.083,  0.045,  0.007,  0.000])),\n",
       " ('Ising(SSLatt(32,100,UUI))FF(64,0.20,4.0)weighted',\n",
       "  array([ 0.186,  0.093,  0.018,  0.001,  0.000])),\n",
       " ('Ising(SSLatt(32,100,UUI))FF(64,0.50,2.0)weighted',\n",
       "  array([ 0.034,  0.007,  0.001,  0.000,  0.000])),\n",
       " ('Ising(SSLatt(32,100,UUI))FF(64,0.50,4.0)weighted',\n",
       "  array([ 0.054,  0.002,  0.000,  0.000,  0.000]))]"
      ]
     },
     "execution_count": 906,
     "metadata": {},
     "output_type": "execute_result"
    }
   ],
   "source": [
    "sorted([(mach, np.mean(Js,axis=0)) for mach, Js in Jseq.items()])"
   ]
  },
  {
   "cell_type": "code",
   "execution_count": null,
   "metadata": {
    "collapsed": false
   },
   "outputs": [],
   "source": []
  },
  {
   "cell_type": "code",
   "execution_count": null,
   "metadata": {
    "collapsed": false
   },
   "outputs": [],
   "source": []
  },
  {
   "cell_type": "markdown",
   "metadata": {},
   "source": [
    "## Entanglement Feature\n",
    "Given trained machine, collect entropy predictions\n",
    "### Collect EFcon\n",
    "Entanglement feature over consecutive regions.\n",
    "Data format: `EFcon = {machine: {'Ssys': [S1,...], 'Smdls': {[[S1,...], ...]}}, ...}`"
   ]
  },
  {
   "cell_type": "code",
   "execution_count": 729,
   "metadata": {
    "collapsed": false
   },
   "outputs": [
    {
     "name": "stdout",
     "output_type": "stream",
     "text": [
      "len:  0\n"
     ]
    }
   ],
   "source": [
    "try:\n",
    "    EFcon = load('EFcon')\n",
    "except FileNotFoundError:\n",
    "    EFcon = {}\n",
    "try:\n",
    "    EF = EFcon[machine.info]\n",
    "    Ssys = EF['Ssys']\n",
    "    Smdls = EF['Smdls']\n",
    "except KeyError:\n",
    "    Ssys = list(machine.data_server.fetch('consecutive')[machine.model.Ssys])\n",
    "    Smdls = []\n",
    "    EF = {'Ssys': Ssys, 'Smdls': Smdls}\n",
    "print('len: ', len(Smdls))"
   ]
  },
  {
   "cell_type": "code",
   "execution_count": 732,
   "metadata": {
    "collapsed": false
   },
   "outputs": [
    {
     "name": "stdout",
     "output_type": "stream",
     "text": [
      "(0.00094864522821205193, array([ 0.708,  0.233,  0.233,  0.234,  0.234]))\n",
      "(0.00055716851500628754, array([ 0.707,  0.231,  0.231,  0.232,  0.232]))\n",
      "(0.00049439989314737352, array([ 0.701,  0.225,  0.225,  0.225,  0.225]))\n",
      "(0.0010689886132386555, array([ 0.705,  0.227,  0.227,  0.227,  0.228]))\n",
      "(0.00078033268832330971, array([ 0.708,  0.226,  0.226,  0.226,  0.227]))\n",
      "len:  15\n",
      "error:  0.134904315085\n"
     ]
    }
   ],
   "source": [
    "for i in range(5):\n",
    "    machine.train(16, learning_rate=0.005, check=16)\n",
    "    print(machine.session.run((machine.model.MSE, machine.model.J), machine.feed))\n",
    "    Smdl = list(machine.session.run(machine.model.Smdl, \n",
    "                            machine.data_server.fetch('consecutive')))\n",
    "    Smdls.append(Smdl)\n",
    "print('len: ', len(Smdls))\n",
    "print('error: ', np.mean([np.sqrt(np.mean(np.square(np.array(Smdl)/np.array(Ssys)-1))) for Smdl in Smdls]))"
   ]
  },
  {
   "cell_type": "code",
   "execution_count": 733,
   "metadata": {
    "collapsed": false
   },
   "outputs": [],
   "source": [
    "EFcon[machine.info] = {'Ssys': Ssys, 'Smdls': Smdls}\n",
    "save('EFcon', EFcon)"
   ]
  },
  {
   "cell_type": "markdown",
   "metadata": {},
   "source": [
    "### Collect EFmul\n",
    "Entanglement feature over multiregions.\n",
    "Data format: `EFmul = {machine: {n: [[Ssys, Smdl], ...], ...},...}`"
   ]
  },
  {
   "cell_type": "code",
   "execution_count": 734,
   "metadata": {
    "collapsed": false
   },
   "outputs": [
    {
     "name": "stdout",
     "output_type": "stream",
     "text": [
      "len:  0\n"
     ]
    }
   ],
   "source": [
    "try:\n",
    "    EFmul = load('EFmul')\n",
    "except FileNotFoundError:\n",
    "    EFmul = {}\n",
    "try:\n",
    "    ndict = EFmul[machine.info]\n",
    "except KeyError:\n",
    "    ndict = {n:[] for n in range(1, machine.model.partitions//2+1)}\n",
    "print('len: ', len(ndict[1]))"
   ]
  },
  {
   "cell_type": "code",
   "execution_count": 736,
   "metadata": {
    "collapsed": false
   },
   "outputs": [
    {
     "name": "stdout",
     "output_type": "stream",
     "text": [
      "(0.0010616919614045198, array([ 0.700,  0.221,  0.221,  0.221,  0.221]))\n",
      "(0.00071267595131047252, array([ 0.711,  0.236,  0.236,  0.237,  0.238]))\n",
      "(0.001527546720059988, array([ 0.701,  0.234,  0.234,  0.235,  0.236]))\n",
      "(0.0027654592551600516, array([ 0.692,  0.227,  0.227,  0.228,  0.228]))\n",
      "(0.00065503921225155818, array([ 0.703,  0.243,  0.243,  0.243,  0.244]))\n",
      "len:  70\n",
      "{1: 0.167, 2: 0.12, 3: 0.073, 4: 0.058, 5: 0.042, 6: 0.036, 7: 0.032, 8: 0.024, 9: 0.03, 10: 0.029, 11: 0.026, 12: 0.024, 13: 0.019, 14: 0.015, 15: 0.02, 16: 0.037}\n"
     ]
    }
   ],
   "source": [
    "for i in range(5):\n",
    "    machine.train(16, check=16)\n",
    "    print(machine.session.run((machine.model.MSE, machine.model.J), machine.feed))\n",
    "    for n, pairs in ndict.items():\n",
    "        pairs += [[Ssys, Smdl] for Ssys, Smdl in zip(\n",
    "                    *machine.session.run([\n",
    "                        machine.model.Ssys, machine.model.Smdl], \n",
    "                        machine.data_server.fetch(('multiple',n))))]\n",
    "print('len: ', len(ndict[1]))\n",
    "print({n:float('{0:.3f}'.format(np.sqrt(np.mean([(a/b-1.)**2 for [a, b] in pairs])))) for n, pairs in ndict.items()})"
   ]
  },
  {
   "cell_type": "code",
   "execution_count": 737,
   "metadata": {
    "collapsed": false
   },
   "outputs": [],
   "source": [
    "EFmul[machine.info] = ndict\n",
    "save('EFmul', EFmul)"
   ]
  },
  {
   "cell_type": "code",
   "execution_count": 739,
   "metadata": {
    "collapsed": false
   },
   "outputs": [
    {
     "name": "stdout",
     "output_type": "stream",
     "text": [
      "Ising(SSLatt(32,100,UUI))FF(64,0.00,2.0)random {1: 0.12, 2: 0.061, 3: 0.04, 4: 0.025, 5: 0.024, 6: 0.022, 7: 0.027, 8: 0.023, 9: 0.019, 10: 0.015, 11: 0.015, 12: 0.012, 13: 0.016, 14: 0.014, 15: 0.018, 16: 0.023}\n",
      "Ising(SSLatt(32,100,UUI))FF(64,0.00,8.0)random {1: 0.167, 2: 0.12, 3: 0.073, 4: 0.058, 5: 0.042, 6: 0.036, 7: 0.032, 8: 0.024, 9: 0.03, 10: 0.029, 11: 0.026, 12: 0.024, 13: 0.019, 14: 0.015, 15: 0.02, 16: 0.037}\n",
      "Ising(SSLatt(32,100,UUI))FF(64,0.00,4.0)random {1: 0.08, 2: 0.06, 3: 0.039, 4: 0.037, 5: 0.028, 6: 0.029, 7: 0.024, 8: 0.027, 9: 0.023, 10: 0.021, 11: 0.019, 12: 0.016, 13: 0.016, 14: 0.016, 15: 0.014, 16: 0.025}\n",
      "Ising(SSLatt(16,100,UUI))FF(32,0.00,8.0)random {1: 0.075, 2: 0.073, 3: 0.045, 4: 0.038, 5: 0.037, 6: 0.025, 7: 0.026, 8: 0.037}\n",
      "Ising(SSLatt(32,100,UUI))FF(64,0.00,8.0)multiple {1: 0.053, 2: 0.041, 3: 0.046, 4: 0.051, 5: 0.055, 6: 0.053, 7: 0.059, 8: 0.056, 9: 0.055, 10: 0.055, 11: 0.052, 12: 0.047, 13: 0.041, 14: 0.033, 15: 0.02, 16: 0.023}\n",
      "Ising(SSLatt(32,100,UUI))FF(64,0.00,2.0)multiple {1: 0.051, 2: 0.03, 3: 0.035, 4: 0.029, 5: 0.03, 6: 0.026, 7: 0.022, 8: 0.019, 9: 0.021, 10: 0.019, 11: 0.018, 12: 0.018, 13: 0.021, 14: 0.023, 15: 0.029, 16: 0.039}\n",
      "Ising(SSLatt(32,100,UUI))FF(64,0.00,4.0)multiple {1: 0.024, 2: 0.033, 3: 0.04, 4: 0.038, 5: 0.044, 6: 0.046, 7: 0.048, 8: 0.048, 9: 0.048, 10: 0.042, 11: 0.045, 12: 0.043, 13: 0.038, 14: 0.033, 15: 0.026, 16: 0.013}\n"
     ]
    }
   ],
   "source": [
    "for mach, ndict in EFmul.items():\n",
    "    print(mach,{n:float('{0:.3f}'.format(np.sqrt(np.mean([(a/b-1.)**2 for [a, b] in pairs])))) for n, pairs in ndict.items()})"
   ]
  },
  {
   "cell_type": "code",
   "execution_count": null,
   "metadata": {
    "collapsed": true
   },
   "outputs": [],
   "source": []
  },
  {
   "cell_type": "code",
   "execution_count": null,
   "metadata": {
    "collapsed": true
   },
   "outputs": [],
   "source": []
  },
  {
   "cell_type": "code",
   "execution_count": null,
   "metadata": {
    "collapsed": true
   },
   "outputs": [],
   "source": []
  },
  {
   "cell_type": "code",
   "execution_count": null,
   "metadata": {
    "collapsed": true
   },
   "outputs": [],
   "source": []
  },
  {
   "cell_type": "code",
   "execution_count": null,
   "metadata": {
    "collapsed": true
   },
   "outputs": [],
   "source": []
  },
  {
   "cell_type": "code",
   "execution_count": null,
   "metadata": {
    "collapsed": true
   },
   "outputs": [],
   "source": []
  }
 ],
 "metadata": {
  "kernelspec": {
   "display_name": "Python 3",
   "language": "python",
   "name": "python3"
  },
  "language_info": {
   "codemirror_mode": {
    "name": "ipython",
    "version": 3
   },
   "file_extension": ".py",
   "mimetype": "text/x-python",
   "name": "python",
   "nbconvert_exporter": "python",
   "pygments_lexer": "ipython3",
   "version": "3.5.1"
  }
 },
 "nbformat": 4,
 "nbformat_minor": 0
}
