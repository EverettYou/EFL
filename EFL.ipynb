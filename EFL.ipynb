{
 "cells": [
  {
   "cell_type": "markdown",
   "metadata": {},
   "source": [
    "# Entanglement Feature Learning"
   ]
  },
  {
   "cell_type": "markdown",
   "metadata": {},
   "source": [
    "## EFL"
   ]
  },
  {
   "cell_type": "markdown",
   "metadata": {},
   "source": [
    "### Convension of Coupling Constants\n",
    "The original EFL model (for the Ising case) is\n",
    "$$E[\\sigma]=-\\sum_{\\langle ij\\rangle}J_{ij} \\chi(\\sigma_i^{-1}\\sigma_j),$$\n",
    "where $J_{ij}=\\ln D_{ij}$ and $\\sigma_{i}$ takes values in the $S_2$ group, and the cycle trace $\\chi$ maps $()\\to2$, $(1,2)\\to1$. The energy difference is one unit of $J_{ij}$. Note that each bond $\\langle ij\\rangle$ is added only once in the summation. Now for easier treatment in numerics, we map the $S_2$ spin $\\sigma_i$ to a $\\mathbb{Z}_2$ spin $s_i$, s.t. the energy model becomes\n",
    "$$E[s]=-\\frac{1}{2}\\sum_{\\langle ij\\rangle}J_{ij}s_is_j=-\\frac{1}{4}\\sum_{i j}J_{ij}s_is_j.$$\n",
    "We then define\n",
    "$$K_{ij}=\\frac{1}{2}J_{ij}=\\frac{1}{2}\\ln D_{ij},$$\n",
    "and rewrite the energy model as\n",
    "$$E[s]=-\\frac{1}{2}\\sum_{ij}K_{ij}s_is_j,$$\n",
    "where the summation double counts a bond, and $s_{i}=\\pm1$."
   ]
  },
  {
   "cell_type": "markdown",
   "metadata": {},
   "source": [
    "### Deep Boltzmann Machine (Model)\n",
    "\n",
    "Layers: $s^{0},s^{1},\\cdots$, where $s^0$ is the visible layer, rests are hidden layers. The energy model:\n",
    "$$E[s]=-\\sum_{l=1:L}\\sum_{i j}s_i^{l-1}K_{ij}^l s_j^l.$$"
   ]
  },
  {
   "cell_type": "markdown",
   "metadata": {},
   "source": [
    "## Restricted Boltzman Machine (RBM)"
   ]
  },
  {
   "cell_type": "markdown",
   "metadata": {},
   "source": [
    "### RBM Kernel\n",
    "Differences to standard RBM:\n",
    "- the binary units takes values $\\pm1$ instead of $0,1$.\n",
    "- **unbiased**, RTN of pure state are not biased, so the only variational parameter is the weight matrix.\n",
    "- elements in the weight matrixes are **positive** definite, because they correspnd to the logarithmic bond dimension."
   ]
  },
  {
   "cell_type": "markdown",
   "metadata": {},
   "source": [
    "Initialization of weight matrix. Wish to:\n",
    "- reflect the locality.\n",
    "- ferromagnetic, tune to critical.\n",
    "- with some randomness."
   ]
  },
  {
   "cell_type": "markdown",
   "metadata": {
    "collapsed": false
   },
   "source": [
    "Gibbs sampling:\n",
    "- propagating up:\n",
    "$$h_j\\leftarrow\\tanh \\left\\{\\begin{array}{cc}\\sum_{i}W_{ij}v_i & \\text{default, top},\\\\ 2\\sum_{i}W_{ij}v_i & \\text{bottom, intermediate},\\end{array}\\right.$$\n",
    "- propagating down:\n",
    "$$v_i\\leftarrow\\tanh \\left\\{\\begin{array}{cc}\\sum_{j}W_{ij}h_j & \\text{default, bottom},\\\\ 2\\sum_{j}W_{ij}h_j & \\text{top, intermediate},\\end{array}\\right.$$"
   ]
  },
  {
   "cell_type": "markdown",
   "metadata": {},
   "source": [
    "Update rule ($\\lambda_\\text{l}$ learning rate, $\\lambda_\\text{f}$ forgetting rate):\n",
    "$$W\\leftarrow \\text{relu}[(1-\\lambda_\\text{f})W+\\lambda_\\text{l} (v^{\\intercal}(0) h(0)-v^{\\intercal}(\\infty) h(\\infty))]$$\n",
    "- If any element in $W$ becomes negative, the element is set to zero.\n",
    "- Forgetting rate can be used to control the bond dimension."
   ]
  },
  {
   "cell_type": "code",
   "execution_count": 288,
   "metadata": {
    "collapsed": false
   },
   "outputs": [],
   "source": [
    "%run 'EFL.py'\n",
    "rbm = RBM(4,2)"
   ]
  },
  {
   "cell_type": "code",
   "execution_count": 287,
   "metadata": {
    "collapsed": false
   },
   "outputs": [
    {
     "name": "stdout",
     "output_type": "stream",
     "text": [
      "0.7453134201113543\n"
     ]
    },
    {
     "data": {
      "text/plain": [
       "array([[ 0.165,  0.011],\n",
       "       [ 0.708,  0.176],\n",
       "       [ 0.120,  0.285],\n",
       "       [ 0.071,  0.809]])"
      ]
     },
     "execution_count": 287,
     "metadata": {},
     "output_type": "execute_result"
    }
   ],
   "source": [
    "print(rbm.learn(numpy.asarray(numpy.random.randint(0,2,(40,4))*2-1,dtype=float),0.1,0.01))\n",
    "rbm.W.get_value()"
   ]
  },
  {
   "cell_type": "code",
   "execution_count": 366,
   "metadata": {
    "collapsed": false
   },
   "outputs": [
    {
     "name": "stdout",
     "output_type": "stream",
     "text": [
      "1.081018265501512\n"
     ]
    },
    {
     "data": {
      "text/plain": [
       "array([[ 1.194,  0.031],\n",
       "       [ 0.005,  0.940],\n",
       "       [ 1.189,  0.003],\n",
       "       [ 0.000,  0.946]])"
      ]
     },
     "execution_count": 366,
     "metadata": {},
     "output_type": "execute_result"
    }
   ],
   "source": [
    "print(rbm.learn(numpy.array([[1,1,1,1],[-1,1,-1,1]]*10,dtype=float),0.1,0.01))\n",
    "rbm.W.get_value()"
   ]
  },
  {
   "cell_type": "markdown",
   "metadata": {},
   "source": [
    "#### Test by Ideal States\n",
    "* trivial product state: deep PM, all Ising configuration equal weight.\n",
    "* random state (maximally thermalized): deep FM, all up or all down."
   ]
  },
  {
   "cell_type": "code",
   "execution_count": 1,
   "metadata": {
    "collapsed": false
   },
   "outputs": [],
   "source": [
    "%run EFL.py\n",
    "#train_set = numpy.array([[1,1,1,1],[-1,-1,-1,-1]]*200,dtype=float)\n",
    "#train_set = numpy.array([[1,-1,1,-1],[-1,1,-1,1]]*200,dtype=float)\n",
    "train_set = numpy.asarray(numpy.random.randint(0,2,(400,4))*2-1,dtype=float)\n",
    "rbm = RBM(W='random',method='CD')\n",
    "#lr_table = [0.2,0.3,0.25,0.15,0.1]\n",
    "#fr_table = [0.05,0.01,0.,0.,0.]\n",
    "lr_table = [0.5,0.3,0.2,0.15,0.1,0.1,0.1]\n",
    "fr_table = [0.,0.,0.,0.,0.,0.,0.]"
   ]
  },
  {
   "cell_type": "markdown",
   "metadata": {},
   "source": [
    "FM, maximally thermal."
   ]
  },
  {
   "cell_type": "code",
   "execution_count": 3,
   "metadata": {
    "collapsed": false
   },
   "outputs": [
    {
     "name": "stdout",
     "output_type": "stream",
     "text": [
      "Epoch 0:  cost = 0.003711, xent = 2.815545\n",
      "Epoch 1:  cost = -0.000552, xent = 2.785481\n",
      "Epoch 2:  cost = 0.001037, xent = 2.788026\n",
      "Epoch 3:  cost = 0.000119, xent = 2.782246\n",
      "Epoch 4:  cost = 0.000175, xent = 2.783272\n",
      "Epoch 5:  cost = -0.000117, xent = 2.788262\n",
      "Epoch 6:  cost = 0.000849, xent = 2.796292\n"
     ]
    },
    {
     "data": {
      "text/plain": [
       "array([[ 0.05757096,  0.08962437],\n",
       "       [ 0.08546829,  0.10909487],\n",
       "       [ 0.04621907,  0.02650601],\n",
       "       [ 0.00845927,  0.01175318]])"
      ]
     },
     "execution_count": 3,
     "metadata": {},
     "output_type": "execute_result"
    }
   ],
   "source": [
    "for epoch in range(7):\n",
    "    cost, xent = rbm.train(train_set,\n",
    "                           learning_rate=lr_table[epoch],\n",
    "                           forgetting_rate=fr_table[epoch])\n",
    "    print('Epoch %d: '%epoch, 'cost = %f, xent = %f'%(cost, xent))\n",
    "rbm.W.get_value()"
   ]
  },
  {
   "cell_type": "markdown",
   "metadata": {},
   "source": [
    "PM, trivial product state."
   ]
  },
  {
   "cell_type": "code",
   "execution_count": 6,
   "metadata": {
    "collapsed": false
   },
   "outputs": [
    {
     "name": "stdout",
     "output_type": "stream",
     "text": [
      "Epoch 0:  cost = 0.112113, xent = 3.242719\n",
      "Epoch 1:  cost = 0.022328, xent = 3.070230\n",
      "Epoch 2:  cost = 0.007352, xent = 2.949821\n",
      "Epoch 3:  cost = 0.013084, xent = 2.926602\n",
      "Epoch 4:  cost = 0.001652, xent = 2.892917\n",
      "Epoch 5:  cost = 0.005669, xent = 2.922602\n",
      "Epoch 6:  cost = 0.004110, xent = 2.880515\n"
     ]
    },
    {
     "data": {
      "text/plain": [
       "array([[ 0.03113473,  0.06022195],\n",
       "       [ 0.43808222,  0.00861   ],\n",
       "       [ 0.01715053,  0.01461342],\n",
       "       [ 0.03886801,  0.29126499]])"
      ]
     },
     "execution_count": 6,
     "metadata": {},
     "output_type": "execute_result"
    }
   ],
   "source": [
    "for epoch in range(7):\n",
    "    cost, xent = rbm.train(train_set,\n",
    "                           learning_rate=lr_table[epoch],\n",
    "                           forgetting_rate=fr_table[epoch])\n",
    "    print('Epoch %d: '%epoch, 'cost = %f, xent = %f'%(cost, xent))\n",
    "rbm.W.get_value()"
   ]
  },
  {
   "cell_type": "markdown",
   "metadata": {},
   "source": [
    "### Convolutional RBM\n",
    "Assumption: translational symmetry (or in statistical sense under disorder average). Weights are shared among kernels for each layer and each group. This makes the algorithm scalable. For disordered system, this will learn the disorder averaged entanglement features."
   ]
  },
  {
   "cell_type": "markdown",
   "metadata": {
    "collapsed": true
   },
   "source": [
    "Consider a 1D free fermion CFT, the Renyi entropy given by (acorrding to Calabrese and Cardy 2004, 2009)\n",
    "$$S\\propto\\sum_{i,j}\\ln|u_i-v_j|-\\sum_{i<j}\\ln|u_i-u_j|-\\sum_{i<j}\\ln|v_i-v_j|.$$\n",
    "$u_i$ and $v_i$ are positions of kinks and antikinks in the Ising configuraiton."
   ]
  },
  {
   "cell_type": "code",
   "execution_count": 26,
   "metadata": {
    "collapsed": false
   },
   "outputs": [
    {
     "data": {
      "text/plain": [
       "1.9459101490553132"
      ]
     },
     "execution_count": 26,
     "metadata": {},
     "output_type": "execute_result"
    }
   ],
   "source": [
    "from itertools import combinations\n",
    "def entropy_CFT(kinks):\n",
    "    us = kinks[0::2]\n",
    "    vs = kinks[1::2]\n",
    "    Suv = sum(numpy.log(abs(u-v)) for u in us for v in vs)\n",
    "    Suu = sum(numpy.log(abs(u1-u2)) for u1, u2 in combinations(us,2))\n",
    "    Svv = sum(numpy.log(abs(v1-v2)) for v1, v2 in combinations(vs,2))\n",
    "    S = Suv-Suu-Svv\n",
    "    return S\n",
    "entropy_CFT([3,10])"
   ]
  },
  {
   "cell_type": "markdown",
   "metadata": {
    "collapsed": true
   },
   "source": [
    "## Deep Boltzmann Machine"
   ]
  },
  {
   "cell_type": "code",
   "execution_count": 10,
   "metadata": {
    "collapsed": false
   },
   "outputs": [],
   "source": [
    "%run 'EFL.py'\n",
    "dbm = DBM([8,4,2,1])"
   ]
  },
  {
   "cell_type": "code",
   "execution_count": 11,
   "metadata": {
    "collapsed": false
   },
   "outputs": [],
   "source": [
    "test_samples = [\n",
    "    [+1,+1,+1,+1,+1,+1,+1,+1],\n",
    "    [-1,-1,-1,-1,-1,-1,-1,-1],\n",
    "    [+1,+1,+1,+1,-1,-1,-1,-1],\n",
    "    [-1,-1,-1,-1,+1,+1,+1,+1],\n",
    "    #[+1,+1,-1,-1,-1,-1,+1,+1],\n",
    "    #[-1,-1,+1,+1,+1,+1,-1,-1]\n",
    "]\n",
    "data = Server(test_samples*100,15)\n",
    "#data = Server(numpy.random.randint(0,2,(200,8))*2-1,10)"
   ]
  },
  {
   "cell_type": "code",
   "execution_count": 12,
   "metadata": {
    "collapsed": false
   },
   "outputs": [
    {
     "name": "stdout",
     "output_type": "stream",
     "text": [
      "Pretraining layer 0:\n",
      "    Epoch 0: cost = 0.399131\n",
      "    Epoch 1: cost = 0.152201\n",
      "    Epoch 2: cost = 0.095953\n",
      "    Epoch 3: cost = 0.011594\n",
      "    Epoch 4: cost = 0.027396\n",
      "    Epoch 5: cost = 0.017311\n",
      "    Epoch 6: cost = 0.007148\n",
      "Pretraining layer 1:\n",
      "    Epoch 0: cost = 1.571035\n",
      "    Epoch 1: cost = 1.427351\n",
      "    Epoch 2: cost = 1.048674\n",
      "    Epoch 3: cost = 0.829283\n",
      "    Epoch 4: cost = 0.822940\n",
      "    Epoch 5: cost = 0.618515\n",
      "    Epoch 6: cost = 0.646965\n",
      "Pretraining layer 2:\n",
      "    Epoch 0: cost = 1.184162\n",
      "    Epoch 1: cost = 1.004733\n",
      "    Epoch 2: cost = 1.010763\n",
      "    Epoch 3: cost = 1.014066\n",
      "    Epoch 4: cost = 1.007851\n",
      "    Epoch 5: cost = 0.999284\n",
      "    Epoch 6: cost = 0.999723\n"
     ]
    }
   ],
   "source": [
    "dbm.pretrain(data,lrs=[0.5,0.3,0.2,0.15],frs=[0.05,0.01])"
   ]
  },
  {
   "cell_type": "code",
   "execution_count": 16,
   "metadata": {
    "collapsed": false
   },
   "outputs": [
    {
     "name": "stdout",
     "output_type": "stream",
     "text": [
      "[[ 1.654  1.623  0.000  0.000]\n",
      " [ 1.676  1.645  0.000  0.000]\n",
      " [ 1.648  1.621  0.000  0.000]\n",
      " [ 1.518  1.595  0.000  0.000]\n",
      " [ 0.000  0.000  1.693  1.597]\n",
      " [ 0.000  0.000  1.610  1.582]\n",
      " [ 0.000  0.000  1.508  1.631]\n",
      " [ 0.000  0.000  1.738  1.776]]\n",
      "[[ 1.324  0.000]\n",
      " [ 1.325  0.000]\n",
      " [ 0.000  1.271]\n",
      " [ 0.000  1.280]]\n",
      "[[ 0.000]\n",
      " [ 0.054]]\n"
     ]
    }
   ],
   "source": [
    "numpy.set_printoptions(formatter={'float': '{: 0.3f}'.format})\n",
    "for rbm in dbm.rbms:\n",
    "    print(rbm.W.get_value())"
   ]
  },
  {
   "cell_type": "code",
   "execution_count": 14,
   "metadata": {
    "collapsed": false
   },
   "outputs": [
    {
     "data": {
      "text/plain": [
       "array([[ 1.000,  1.000],\n",
       "       [-1.000, -1.000],\n",
       "       [-1.000,  1.000],\n",
       "       [ 1.000, -1.000]])"
      ]
     },
     "execution_count": 14,
     "metadata": {},
     "output_type": "execute_result"
    }
   ],
   "source": [
    "f = theano.function([dbm.input],dbm.rbms[1].output)\n",
    "f([[+1,+1,+1,+1,+1,+1,+1,+1],\n",
    "   [-1,-1,-1,-1,-1,-1,-1,-1],\n",
    "   [-1,-1,-1,-1,+1,+1,+1,+1],\n",
    "   [+1,+1,+1,+1,-1,-1,-1,-1]])"
   ]
  },
  {
   "cell_type": "code",
   "execution_count": 15,
   "metadata": {
    "collapsed": false
   },
   "outputs": [
    {
     "name": "stdout",
     "output_type": "stream",
     "text": [
      "    Epoch 0: cost = 0.005861\n",
      "    Epoch 1: cost = 0.003953\n",
      "    Epoch 2: cost = 0.003014\n",
      "    Epoch 3: cost = 0.002709\n",
      "    Epoch 4: cost = 0.002426\n",
      "    Epoch 5: cost = 0.002295\n",
      "    Epoch 6: cost = 0.002220\n",
      "    Epoch 7: cost = 0.002186\n",
      "    Epoch 8: cost = 0.002171\n",
      "    Epoch 9: cost = 0.002164\n"
     ]
    }
   ],
   "source": [
    "dbm.finetune(data,10,lrs=[0.5,0.5,0.4,0.3,0.2,0.1])"
   ]
  },
  {
   "cell_type": "code",
   "execution_count": 788,
   "metadata": {
    "collapsed": false
   },
   "outputs": [
    {
     "name": "stdout",
     "output_type": "stream",
     "text": [
      "[[ 1.575  1.588  0.000  0.000]\n",
      " [ 1.601  1.574  0.000  0.000]\n",
      " [ 1.515  1.638  0.000  0.000]\n",
      " [ 1.573  1.656  0.000  0.000]\n",
      " [ 0.000  0.000  1.655  1.605]\n",
      " [ 0.000  0.000  1.624  1.590]\n",
      " [ 0.000  0.000  1.628  1.633]\n",
      " [ 0.000  0.000  1.557  1.580]]\n",
      "[[ 1.173  0.000]\n",
      " [ 1.170  0.000]\n",
      " [ 0.000  1.179]\n",
      " [ 0.000  1.181]]\n",
      "[[ 0.036]\n",
      " [ 0.833]]\n"
     ]
    }
   ],
   "source": [
    "for rbm in dbm.rbms:\n",
    "    print(rbm.W.get_value())"
   ]
  },
  {
   "cell_type": "code",
   "execution_count": 707,
   "metadata": {
    "collapsed": false
   },
   "outputs": [
    {
     "data": {
      "text/plain": [
       "array([[ 1.000,  1.000],\n",
       "       [-1.000, -1.000],\n",
       "       [ 1.000, -1.000],\n",
       "       [-1.000,  1.000]])"
      ]
     },
     "execution_count": 707,
     "metadata": {},
     "output_type": "execute_result"
    }
   ],
   "source": [
    "f = theano.function([dbm.input],dbm.rbms[1].output)\n",
    "f(test_samples)"
   ]
  },
  {
   "cell_type": "code",
   "execution_count": 17,
   "metadata": {
    "collapsed": false
   },
   "outputs": [
    {
     "data": {
      "text/plain": [
       "array([[ 1.000,  1.000,  1.000,  1.000,  1.000,  1.000,  1.000,  1.000],\n",
       "       [ 1.000,  1.000,  1.000,  1.000,  1.000,  1.000,  1.000,  1.000],\n",
       "       [ 1.000,  1.000,  1.000,  1.000,  1.000,  1.000,  1.000,  1.000],\n",
       "       [ 1.000,  1.000,  1.000,  1.000, -1.000, -1.000, -1.000, -1.000],\n",
       "       [-1.000, -1.000, -1.000, -1.000,  1.000,  1.000,  1.000,  1.000],\n",
       "       [-1.000, -1.000, -1.000, -1.000,  1.000,  1.000,  1.000,  1.000],\n",
       "       [-1.000, -1.000, -1.000, -1.000,  1.000,  1.000,  1.000,  1.000],\n",
       "       [-1.000, -1.000, -1.000, -1.000,  1.000,  1.000,  1.000,  1.000],\n",
       "       [-1.000, -1.000, -1.000, -1.000,  1.000,  1.000,  1.000,  1.000],\n",
       "       [-1.000, -1.000, -1.000, -1.000, -1.000, -1.000, -1.000, -1.000],\n",
       "       [ 1.000,  1.000,  1.000,  1.000, -1.000, -1.000, -1.000, -1.000],\n",
       "       [ 1.000,  1.000,  1.000,  1.000,  1.000,  1.000,  1.000,  1.000],\n",
       "       [ 1.000,  1.000,  1.000,  1.000,  1.000,  1.000,  1.000,  1.000],\n",
       "       [ 1.000,  1.000,  1.000,  1.000,  1.000,  1.000,  1.000,  1.000],\n",
       "       [ 1.000,  1.000,  1.000,  1.000,  1.000,  1.000,  1.000,  1.000],\n",
       "       [ 1.000,  1.000,  1.000,  1.000,  1.000,  1.000,  1.000,  1.000],\n",
       "       [-1.000, -1.000, -1.000, -1.000, -1.000, -1.000, -1.000, -1.000],\n",
       "       [ 1.000,  1.000,  1.000,  1.000, -1.000, -1.000, -1.000, -1.000],\n",
       "       [ 1.000,  1.000,  1.000,  1.000,  1.000,  1.000,  1.000,  1.000],\n",
       "       [-1.000, -1.000, -1.000, -1.000,  1.000,  1.000,  1.000,  1.000]])"
      ]
     },
     "execution_count": 17,
     "metadata": {},
     "output_type": "execute_result"
    }
   ],
   "source": [
    "dbm.MC_configs[0].get_value()"
   ]
  },
  {
   "cell_type": "code",
   "execution_count": null,
   "metadata": {
    "collapsed": true
   },
   "outputs": [],
   "source": []
  },
  {
   "cell_type": "code",
   "execution_count": null,
   "metadata": {
    "collapsed": true
   },
   "outputs": [],
   "source": []
  },
  {
   "cell_type": "code",
   "execution_count": null,
   "metadata": {
    "collapsed": true
   },
   "outputs": [],
   "source": []
  },
  {
   "cell_type": "code",
   "execution_count": null,
   "metadata": {
    "collapsed": true
   },
   "outputs": [],
   "source": []
  },
  {
   "cell_type": "code",
   "execution_count": null,
   "metadata": {
    "collapsed": true
   },
   "outputs": [],
   "source": []
  },
  {
   "cell_type": "code",
   "execution_count": null,
   "metadata": {
    "collapsed": true
   },
   "outputs": [],
   "source": []
  }
 ],
 "metadata": {
  "celltoolbar": "Raw Cell Format",
  "kernelspec": {
   "display_name": "Python 3",
   "language": "python",
   "name": "python3"
  },
  "language_info": {
   "codemirror_mode": {
    "name": "ipython",
    "version": 3
   },
   "file_extension": ".py",
   "mimetype": "text/x-python",
   "name": "python",
   "nbconvert_exporter": "python",
   "pygments_lexer": "ipython3",
   "version": "3.5.1"
  }
 },
 "nbformat": 4,
 "nbformat_minor": 0
}
