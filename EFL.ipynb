{
 "cells": [
  {
   "cell_type": "markdown",
   "metadata": {},
   "source": [
    "# Entanglement Feature Learning"
   ]
  },
  {
   "cell_type": "markdown",
   "metadata": {},
   "source": [
    "## EFL"
   ]
  },
  {
   "cell_type": "markdown",
   "metadata": {},
   "source": [
    "### Convension of Coupling Constants\n",
    "The original EFL model (for the Ising case) is\n",
    "$$E[\\sigma]=-\\sum_{\\langle ij\\rangle}J_{ij} \\chi(\\sigma_i^{-1}\\sigma_j),$$\n",
    "where $J_{ij}=\\ln D_{ij}$ and $\\sigma_{i}$ takes values in the $S_2$ group, and the cycle trace $\\chi$ maps $()\\to2$, $(1,2)\\to1$. The energy difference is one unit of $J_{ij}$. Note that each bond $\\langle ij\\rangle$ is added only once in the summation. Now for easier treatment in numerics, we map the $S_2$ spin $\\sigma_i$ to a $\\mathbb{Z}_2$ spin $s_i$, s.t. the energy model becomes\n",
    "$$E[s]=-\\frac{1}{2}\\sum_{\\langle ij\\rangle}J_{ij}s_is_j=-\\frac{1}{4}\\sum_{i j}J_{ij}s_is_j.$$\n",
    "We then define\n",
    "$$K_{ij}=\\frac{1}{2}J_{ij}=\\frac{1}{2}\\ln D_{ij},$$\n",
    "and rewrite the energy model as\n",
    "$$E[s]=-\\frac{1}{2}\\sum_{ij}K_{ij}s_is_j,$$\n",
    "where the summation double counts a bond, and $s_{i}=\\pm1$."
   ]
  },
  {
   "cell_type": "markdown",
   "metadata": {},
   "source": [
    "### Deep Boltzmann Machine (Model)\n",
    "\n",
    "Layers: $s^{0},s^{1},\\cdots$, where $s^0$ is the visible layer, rests are hidden layers. The energy model:\n",
    "$$E[s]=-\\sum_{l=1:L}\\sum_{i j}s_i^{l-1}K_{ij}^l s_j^l.$$"
   ]
  },
  {
   "cell_type": "markdown",
   "metadata": {},
   "source": [
    "## Restricted Boltzman Machine (RBM)"
   ]
  },
  {
   "cell_type": "markdown",
   "metadata": {},
   "source": [
    "### RBM Kernel\n",
    "Differences to standard RBM:\n",
    "- the binary units takes values $\\pm1$ instead of $0,1$.\n",
    "- **unbiased**, RTN of pure state are not biased, so the only variational parameter is the weight matrix.\n",
    "- elements in the weight matrixes are **positive** definite, because they correspnd to the logarithmic bond dimension."
   ]
  },
  {
   "cell_type": "markdown",
   "metadata": {},
   "source": [
    "Initialization of weight matrix. Wish to:\n",
    "- reflect the locality.\n",
    "- ferromagnetic, tune to critical.\n",
    "- with some randomness."
   ]
  },
  {
   "cell_type": "markdown",
   "metadata": {
    "collapsed": false
   },
   "source": [
    "Gibbs sampling:\n",
    "- propagating up:\n",
    "$$h_j\\leftarrow\\tanh \\left\\{\\begin{array}{cc}\\sum_{i}W_{ij}v_i & \\text{default, top},\\\\ 2\\sum_{i}W_{ij}v_i & \\text{bottom, intermediate},\\end{array}\\right.$$\n",
    "- propagating down:\n",
    "$$v_i\\leftarrow\\tanh \\left\\{\\begin{array}{cc}\\sum_{j}W_{ij}h_j & \\text{default, bottom},\\\\ 2\\sum_{j}W_{ij}h_j & \\text{top, intermediate},\\end{array}\\right.$$"
   ]
  },
  {
   "cell_type": "markdown",
   "metadata": {},
   "source": [
    "Update rule ($\\lambda_\\text{l}$ learning rate, $\\lambda_\\text{f}$ forgetting rate):\n",
    "$$W\\leftarrow \\text{relu}[(1-\\lambda_\\text{f})W+\\lambda_\\text{l} \\text{orth}(v^{\\intercal}(0) h(0)-v^{\\intercal}(\\infty) h(\\infty))]$$\n",
    "- If any element in $W$ becomes negative, the element is set to zero.\n",
    "- Forgetting rate can be used to control the bond dimension."
   ]
  },
  {
   "cell_type": "code",
   "execution_count": 288,
   "metadata": {
    "collapsed": false
   },
   "outputs": [],
   "source": [
    "%run 'EFL.py'\n",
    "rbm = RBM(4,2)"
   ]
  },
  {
   "cell_type": "code",
   "execution_count": 287,
   "metadata": {
    "collapsed": false
   },
   "outputs": [
    {
     "name": "stdout",
     "output_type": "stream",
     "text": [
      "0.7453134201113543\n"
     ]
    },
    {
     "data": {
      "text/plain": [
       "array([[ 0.165,  0.011],\n",
       "       [ 0.708,  0.176],\n",
       "       [ 0.120,  0.285],\n",
       "       [ 0.071,  0.809]])"
      ]
     },
     "execution_count": 287,
     "metadata": {},
     "output_type": "execute_result"
    }
   ],
   "source": [
    "print(rbm.learn(numpy.asarray(numpy.random.randint(0,2,(40,4))*2-1,dtype=float),0.1,0.01))\n",
    "rbm.W.get_value()"
   ]
  },
  {
   "cell_type": "code",
   "execution_count": 366,
   "metadata": {
    "collapsed": false
   },
   "outputs": [
    {
     "name": "stdout",
     "output_type": "stream",
     "text": [
      "1.081018265501512\n"
     ]
    },
    {
     "data": {
      "text/plain": [
       "array([[ 1.194,  0.031],\n",
       "       [ 0.005,  0.940],\n",
       "       [ 1.189,  0.003],\n",
       "       [ 0.000,  0.946]])"
      ]
     },
     "execution_count": 366,
     "metadata": {},
     "output_type": "execute_result"
    }
   ],
   "source": [
    "print(rbm.learn(numpy.array([[1,1,1,1],[-1,1,-1,1]]*10,dtype=float),0.1,0.01))\n",
    "rbm.W.get_value()"
   ]
  },
  {
   "cell_type": "markdown",
   "metadata": {},
   "source": [
    "#### Test by Ideal States\n",
    "* trivial product state: deep PM, all Ising configuration equal weight.\n",
    "* random state (maximally thermalized): deep FM, all up or all down."
   ]
  },
  {
   "cell_type": "code",
   "execution_count": 1,
   "metadata": {
    "collapsed": false
   },
   "outputs": [],
   "source": [
    "%run EFL.py\n",
    "#train_set = numpy.array([[1,1,1,1],[-1,-1,-1,-1]]*200,dtype=float)\n",
    "#train_set = numpy.array([[1,-1,1,-1],[-1,1,-1,1]]*200,dtype=float)\n",
    "train_set = numpy.asarray(numpy.random.randint(0,2,(400,4))*2-1,dtype=float)\n",
    "rbm = RBM(W='random',method='CD')\n",
    "#lr_table = [0.2,0.3,0.25,0.15,0.1]\n",
    "#fr_table = [0.05,0.01,0.,0.,0.]\n",
    "lr_table = [0.5,0.3,0.2,0.15,0.1,0.1,0.1]\n",
    "fr_table = [0.,0.,0.,0.,0.,0.,0.]"
   ]
  },
  {
   "cell_type": "markdown",
   "metadata": {},
   "source": [
    "FM, maximally thermal."
   ]
  },
  {
   "cell_type": "code",
   "execution_count": 3,
   "metadata": {
    "collapsed": false
   },
   "outputs": [
    {
     "name": "stdout",
     "output_type": "stream",
     "text": [
      "Epoch 0:  cost = 0.003711, xent = 2.815545\n",
      "Epoch 1:  cost = -0.000552, xent = 2.785481\n",
      "Epoch 2:  cost = 0.001037, xent = 2.788026\n",
      "Epoch 3:  cost = 0.000119, xent = 2.782246\n",
      "Epoch 4:  cost = 0.000175, xent = 2.783272\n",
      "Epoch 5:  cost = -0.000117, xent = 2.788262\n",
      "Epoch 6:  cost = 0.000849, xent = 2.796292\n"
     ]
    },
    {
     "data": {
      "text/plain": [
       "array([[ 0.05757096,  0.08962437],\n",
       "       [ 0.08546829,  0.10909487],\n",
       "       [ 0.04621907,  0.02650601],\n",
       "       [ 0.00845927,  0.01175318]])"
      ]
     },
     "execution_count": 3,
     "metadata": {},
     "output_type": "execute_result"
    }
   ],
   "source": [
    "for epoch in range(7):\n",
    "    cost, xent = rbm.train(train_set,\n",
    "                           learning_rate=lr_table[epoch],\n",
    "                           forgetting_rate=fr_table[epoch])\n",
    "    print('Epoch %d: '%epoch, 'cost = %f, xent = %f'%(cost, xent))\n",
    "rbm.W.get_value()"
   ]
  },
  {
   "cell_type": "markdown",
   "metadata": {},
   "source": [
    "PM, trivial product state."
   ]
  },
  {
   "cell_type": "code",
   "execution_count": 6,
   "metadata": {
    "collapsed": false
   },
   "outputs": [
    {
     "name": "stdout",
     "output_type": "stream",
     "text": [
      "Epoch 0:  cost = 0.112113, xent = 3.242719\n",
      "Epoch 1:  cost = 0.022328, xent = 3.070230\n",
      "Epoch 2:  cost = 0.007352, xent = 2.949821\n",
      "Epoch 3:  cost = 0.013084, xent = 2.926602\n",
      "Epoch 4:  cost = 0.001652, xent = 2.892917\n",
      "Epoch 5:  cost = 0.005669, xent = 2.922602\n",
      "Epoch 6:  cost = 0.004110, xent = 2.880515\n"
     ]
    },
    {
     "data": {
      "text/plain": [
       "array([[ 0.03113473,  0.06022195],\n",
       "       [ 0.43808222,  0.00861   ],\n",
       "       [ 0.01715053,  0.01461342],\n",
       "       [ 0.03886801,  0.29126499]])"
      ]
     },
     "execution_count": 6,
     "metadata": {},
     "output_type": "execute_result"
    }
   ],
   "source": [
    "for epoch in range(7):\n",
    "    cost, xent = rbm.train(train_set,\n",
    "                           learning_rate=lr_table[epoch],\n",
    "                           forgetting_rate=fr_table[epoch])\n",
    "    print('Epoch %d: '%epoch, 'cost = %f, xent = %f'%(cost, xent))\n",
    "rbm.W.get_value()"
   ]
  },
  {
   "cell_type": "markdown",
   "metadata": {},
   "source": [
    "### Convolutional RBM\n",
    "Assumption: translational symmetry (or in statistical sense under disorder average). Weights are shared among kernels for each layer and each group. This makes the algorithm scalable. For disordered system, this will learn the disorder averaged entanglement features."
   ]
  },
  {
   "cell_type": "markdown",
   "metadata": {
    "collapsed": true
   },
   "source": [
    "Consider a 1D free fermion CFT, the Renyi entropy given by (acorrding to Calabrese and Cardy 2004, 2009)\n",
    "$$S\\propto\\sum_{i,j}\\ln|u_i-v_j|-\\sum_{i<j}\\ln|u_i-u_j|-\\sum_{i<j}\\ln|v_i-v_j|.$$\n",
    "$u_i$ and $v_i$ are positions of kinks and antikinks in the Ising configuraiton."
   ]
  },
  {
   "cell_type": "code",
   "execution_count": 26,
   "metadata": {
    "collapsed": false
   },
   "outputs": [
    {
     "data": {
      "text/plain": [
       "1.9459101490553132"
      ]
     },
     "execution_count": 26,
     "metadata": {},
     "output_type": "execute_result"
    }
   ],
   "source": [
    "from itertools import combinations\n",
    "def entropy_CFT(kinks):\n",
    "    us = kinks[0::2]\n",
    "    vs = kinks[1::2]\n",
    "    Suv = sum(numpy.log(abs(u-v)) for u in us for v in vs)\n",
    "    Suu = sum(numpy.log(abs(u1-u2)) for u1, u2 in combinations(us,2))\n",
    "    Svv = sum(numpy.log(abs(v1-v2)) for v1, v2 in combinations(vs,2))\n",
    "    S = Suv-Suu-Svv\n",
    "    return S\n",
    "entropy_CFT([3,10])"
   ]
  },
  {
   "cell_type": "markdown",
   "metadata": {
    "collapsed": true
   },
   "source": [
    "## Deep Boltzmann Machine"
   ]
  },
  {
   "cell_type": "code",
   "execution_count": 473,
   "metadata": {
    "collapsed": false
   },
   "outputs": [],
   "source": [
    "%run 'EFL.py'\n",
    "dbm = DBM([8,4,2,1])\n",
    "data = Server([[+1,+1,+1,+1,+1,+1,+1,+1],\n",
    "               [+1,-1,-1,-1,+1,+1,+1,-1],\n",
    "               [-1,-1,-1,-1,+1,+1,+1,+1],\n",
    "               [+1,+1,+1,-1,-1,-1,+1,-1]]*100,15)\n",
    "data = Server(numpy.random.randint(0,2,(200,8))*2-1,10)"
   ]
  },
  {
   "cell_type": "code",
   "execution_count": 474,
   "metadata": {
    "collapsed": false
   },
   "outputs": [
    {
     "name": "stdout",
     "output_type": "stream",
     "text": [
      "Pretraining layer 0:\n",
      "    Epoch 0: cost = 1.242016\n",
      "    Epoch 1: cost = 1.084836\n",
      "    Epoch 2: cost = 1.050002\n",
      "    Epoch 3: cost = 1.064238\n",
      "    Epoch 4: cost = 1.049167\n",
      "    Epoch 5: cost = 1.059592\n",
      "    Epoch 6: cost = 1.018133\n",
      "Pretraining layer 1:\n",
      "    Epoch 0: cost = 1.118752\n",
      "    Epoch 1: cost = 1.000285\n",
      "    Epoch 2: cost = 1.000000\n",
      "Pretraining layer 2:\n",
      "    Epoch 0: cost = 1.204579\n",
      "    Epoch 1: cost = 1.000001\n",
      "    Epoch 2: cost = 1.000000\n"
     ]
    }
   ],
   "source": [
    "dbm.pretrain(data,lrs=[0.2,0.3,0.2,0.15],frs=[0.05,0.01])"
   ]
  },
  {
   "cell_type": "code",
   "execution_count": 475,
   "metadata": {
    "collapsed": false
   },
   "outputs": [
    {
     "name": "stdout",
     "output_type": "stream",
     "text": [
      "[[ 0.001  0.006  0.000  0.293]\n",
      " [ 0.001  0.024  0.071  0.356]\n",
      " [ 0.002  0.022  0.245  0.025]\n",
      " [ 0.003  0.008  0.040  0.037]\n",
      " [ 0.001  0.006  0.193  0.000]\n",
      " [ 0.000  0.007  0.040  0.028]\n",
      " [ 0.002  0.027  0.266  0.129]\n",
      " [ 0.002  0.000  0.023  0.030]]\n",
      "[[ 0.000  0.000]\n",
      " [ 0.000  0.000]\n",
      " [ 0.000  0.000]\n",
      " [ 0.000  0.000]]\n",
      "[[ 0.000]\n",
      " [ 0.000]]\n"
     ]
    }
   ],
   "source": [
    "numpy.set_printoptions(formatter={'float': '{: 0.3f}'.format})\n",
    "for rbm in dbm.rbms:\n",
    "    print(rbm.W.get_value())"
   ]
  },
  {
   "cell_type": "code",
   "execution_count": 472,
   "metadata": {
    "collapsed": false
   },
   "outputs": [
    {
     "data": {
      "text/plain": [
       "array([[ 1.000,  0.939],\n",
       "       [-1.000,  0.501],\n",
       "       [-1.000,  0.914],\n",
       "       [ 1.000, -0.927]])"
      ]
     },
     "execution_count": 472,
     "metadata": {},
     "output_type": "execute_result"
    }
   ],
   "source": [
    "f = theano.function([dbm.input],dbm.rbms[1].output)\n",
    "f([[+1,+1,+1,+1,+1,+1,+1,+1],\n",
    "   [+1,-1,-1,-1,+1,+1,+1,-1],\n",
    "   [-1,-1,-1,-1,+1,+1,+1,+1],\n",
    "   [+1,+1,+1,-1,-1,-1,+1,-1]])"
   ]
  },
  {
   "cell_type": "code",
   "execution_count": 694,
   "metadata": {
    "collapsed": false
   },
   "outputs": [
    {
     "name": "stdout",
     "output_type": "stream",
     "text": [
      "0.35542559726526024\n",
      "[[ 0.176  0.178  1.126  0.682]\n",
      " [ 1.313  0.650  0.184  0.184]\n",
      " [ 0.697  1.158  0.181  0.181]\n",
      " [ 0.673  1.184  0.181  0.181]\n",
      " [ 0.176  0.179  1.272  0.551]\n",
      " [ 0.176  0.179  1.278  0.552]\n",
      " [ 0.178  0.181  0.864  1.019]\n",
      " [ 0.926  0.901  0.179  0.179]]\n",
      "[[ 0.938  0.000]\n",
      " [ 0.860  0.000]\n",
      " [ 0.000  1.226]\n",
      " [ 0.000  0.827]]\n",
      "[[ 1.050]\n",
      " [ 0.000]]\n"
     ]
    }
   ],
   "source": [
    "cost = numpy.asscalar(dbm.rbms[2].learn([[1,1,1,1,1,1,1,1],[1,-1,-1,-1,1,1,1,-1]],0.2,0.01))\n",
    "print(cost)\n",
    "for rbm in dbm.rbms:\n",
    "    print(rbm.W.get_value())"
   ]
  },
  {
   "cell_type": "code",
   "execution_count": null,
   "metadata": {
    "collapsed": true
   },
   "outputs": [],
   "source": []
  },
  {
   "cell_type": "code",
   "execution_count": null,
   "metadata": {
    "collapsed": true
   },
   "outputs": [],
   "source": []
  },
  {
   "cell_type": "code",
   "execution_count": null,
   "metadata": {
    "collapsed": true
   },
   "outputs": [],
   "source": []
  },
  {
   "cell_type": "code",
   "execution_count": null,
   "metadata": {
    "collapsed": true
   },
   "outputs": [],
   "source": []
  },
  {
   "cell_type": "code",
   "execution_count": 437,
   "metadata": {
    "collapsed": true
   },
   "outputs": [],
   "source": [
    "numpy.set_printoptions(formatter={'float': '{: 0.3f}'.format})"
   ]
  },
  {
   "cell_type": "code",
   "execution_count": 548,
   "metadata": {
    "collapsed": true
   },
   "outputs": [],
   "source": [
    "numpy_rng = numpy.random.RandomState()"
   ]
  },
  {
   "cell_type": "code",
   "execution_count": 551,
   "metadata": {
    "collapsed": false
   },
   "outputs": [
    {
     "data": {
      "text/plain": [
       "array([[ 0.589,  0.422,  0.692],\n",
       "       [ 0.229,  0.998,  0.034],\n",
       "       [ 0.262,  0.855,  0.039],\n",
       "       [ 0.344,  0.751,  0.588]])"
      ]
     },
     "execution_count": 551,
     "metadata": {},
     "output_type": "execute_result"
    }
   ],
   "source": [
    "numpy_rng.uniform(low=0., high=1., size=(4, 3))"
   ]
  },
  {
   "cell_type": "code",
   "execution_count": 575,
   "metadata": {
    "collapsed": false
   },
   "outputs": [
    {
     "data": {
      "text/plain": [
       "array([[ 0.257,  0.001,  0.000,  0.000],\n",
       "       [ 0.607,  0.034,  0.000,  0.000],\n",
       "       [ 0.271,  0.771,  0.000,  0.000],\n",
       "       [ 0.006,  0.620,  0.014,  0.000],\n",
       "       [ 0.000,  0.125,  0.141,  0.000],\n",
       "       [ 0.000,  0.021,  0.609,  0.002],\n",
       "       [ 0.000,  0.000,  0.616,  0.210],\n",
       "       [ 0.000,  0.000,  0.018,  1.052],\n",
       "       [ 0.000,  0.000,  0.000,  0.320]])"
      ]
     },
     "execution_count": 575,
     "metadata": {},
     "output_type": "execute_result"
    }
   ],
   "source": [
    "Nv, Nh =9,4\n",
    "vx = numpy.arange(0.5/Nv,1.,1./Nv)\n",
    "hx = numpy.arange(0.5/Nh,1.,1./Nh)\n",
    "hxs, vxs = numpy.meshgrid(hx, vx)\n",
    "W_raw = numpy.exp(-(hxs-vxs)**2*(5*Nh**2))\n",
    "W_raw *= numpy_rng.uniform(low=0., high=2., size=(Nv, Nh))\n",
    "W_raw"
   ]
  },
  {
   "cell_type": "code",
   "execution_count": 558,
   "metadata": {
    "collapsed": false
   },
   "outputs": [
    {
     "data": {
      "text/plain": [
       "array([ 0.062,  0.188,  0.312,  0.438,  0.562,  0.688,  0.812,  0.938])"
      ]
     },
     "execution_count": 558,
     "metadata": {},
     "output_type": "execute_result"
    }
   ],
   "source": [
    "numpy.arange(0.5/Nv,1.,1./Nv)"
   ]
  },
  {
   "cell_type": "code",
   "execution_count": 748,
   "metadata": {
    "collapsed": false
   },
   "outputs": [],
   "source": [
    "%run 'EFL.py'\n",
    "db = Server(numpy.array([[1],[2],[3],[4],[5],[6],[7]]), 3)"
   ]
  },
  {
   "cell_type": "code",
   "execution_count": 756,
   "metadata": {
    "collapsed": false
   },
   "outputs": [
    {
     "name": "stdout",
     "output_type": "stream",
     "text": [
      "[[ 7.000]\n",
      " [ 1.000]\n",
      " [ 2.000]]\n",
      "[[ 3.000]\n",
      " [ 4.000]\n",
      " [ 5.000]]\n"
     ]
    }
   ],
   "source": [
    "for b in db:\n",
    "    print(b)"
   ]
  },
  {
   "cell_type": "code",
   "execution_count": 774,
   "metadata": {
    "collapsed": false
   },
   "outputs": [
    {
     "data": {
      "text/plain": [
       "array([[ 1.000,  2.000],\n",
       "       [ 3.000,  4.000]])"
      ]
     },
     "execution_count": 774,
     "metadata": {},
     "output_type": "execute_result"
    }
   ],
   "source": [
    "numpy.asarray([[1,2],[3,4]],dtype=float)"
   ]
  },
  {
   "cell_type": "code",
   "execution_count": 9,
   "metadata": {
    "collapsed": false
   },
   "outputs": [],
   "source": [
    "class A(object):\n",
    "    def __init__(self, x, y):\n",
    "        self.x = x\n",
    "        self.y = y\n",
    "        assert self.x == self.y, 'no! %d neq %d'%(self.x, self.y)"
   ]
  },
  {
   "cell_type": "code",
   "execution_count": 11,
   "metadata": {
    "collapsed": false
   },
   "outputs": [
    {
     "data": {
      "text/plain": [
       "<__main__.A at 0x104232d30>"
      ]
     },
     "execution_count": 11,
     "metadata": {},
     "output_type": "execute_result"
    }
   ],
   "source": [
    "A(1,1)"
   ]
  },
  {
   "cell_type": "code",
   "execution_count": null,
   "metadata": {
    "collapsed": true
   },
   "outputs": [],
   "source": []
  }
 ],
 "metadata": {
  "celltoolbar": "Raw Cell Format",
  "kernelspec": {
   "display_name": "Python 3",
   "language": "python",
   "name": "python3"
  },
  "language_info": {
   "codemirror_mode": {
    "name": "ipython",
    "version": 3
   },
   "file_extension": ".py",
   "mimetype": "text/x-python",
   "name": "python",
   "nbconvert_exporter": "python",
   "pygments_lexer": "ipython3",
   "version": "3.5.1"
  }
 },
 "nbformat": 4,
 "nbformat_minor": 0
}
