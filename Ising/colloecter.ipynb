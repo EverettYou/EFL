{
 "cells": [
  {
   "cell_type": "markdown",
   "metadata": {},
   "source": [
    "# EFL Data Colloector\n",
    "need to run EFL.py first"
   ]
  },
  {
   "cell_type": "code",
   "execution_count": 23,
   "metadata": {
    "collapsed": true
   },
   "outputs": [],
   "source": [
    "%run 'EFL.py'"
   ]
  },
  {
   "cell_type": "markdown",
   "metadata": {},
   "source": [
    "## Training Engine\n",
    "Machines are trained here."
   ]
  },
  {
   "cell_type": "code",
   "execution_count": 554,
   "metadata": {
    "collapsed": false
   },
   "outputs": [
    {
     "name": "stdout",
     "output_type": "stream",
     "text": [
      "INFO:tensorflow:Restoring parameters from ./machine/Ising(SSLatt(32,100,UUI))FF(64,0.00,16.0)random\n",
      "File not found! Train new machine.\n"
     ]
    }
   ],
   "source": [
    "%run 'EFL.py'\n",
    "machine = Machine(\n",
    "    IsingModel(SSLattice(width=32,depth=100,pattern=[-1,-1,1])),\n",
    "    FreeFermion(size=64,mass=1e-8,c=16.0),method='random')\n",
    "try:\n",
    "    machine.load()\n",
    "except:\n",
    "    print('File not found! Train new machine.')"
   ]
  },
  {
   "cell_type": "code",
   "execution_count": 575,
   "metadata": {
    "collapsed": false
   },
   "outputs": [
    {
     "name": "stdout",
     "output_type": "stream",
     "text": [
      "(0.0011217159953664214, array([ 1.397,  0.248,  0.248,  0.248,  0.248]))\n",
      "(0.00084997651421943928, array([ 1.400,  0.252,  0.252,  0.252,  0.253]))\n",
      "(0.00019262139323147611, array([ 1.402,  0.256,  0.256,  0.256,  0.256]))\n",
      "(0.001816991033878559, array([ 1.400,  0.255,  0.255,  0.255,  0.255]))\n",
      "(0.0035795242507029707, array([ 1.397,  0.255,  0.255,  0.255,  0.255]))\n"
     ]
    }
   ],
   "source": [
    "for i in range(5):\n",
    "    machine.train(16, learning_rate=0.001, beta1=0.95, beta2=0.9)\n",
    "    print(machine.session.run((machine.model.MSE, machine.model.J), machine.feed))"
   ]
  },
  {
   "cell_type": "markdown",
   "metadata": {},
   "source": [
    "I/O: save machine"
   ]
  },
  {
   "cell_type": "code",
   "execution_count": 519,
   "metadata": {
    "collapsed": false
   },
   "outputs": [
    {
     "name": "stdout",
     "output_type": "stream",
     "text": [
      "INFO:tensorflow:Saving parameters to ./machine/Ising(SSLatt(32,100,UUI))FF(64,0.00,12.0)random\n"
     ]
    }
   ],
   "source": [
    "machine.save()"
   ]
  },
  {
   "cell_type": "markdown",
   "metadata": {},
   "source": [
    "----"
   ]
  },
  {
   "cell_type": "code",
   "execution_count": 400,
   "metadata": {
    "collapsed": false
   },
   "outputs": [
    {
     "data": {
      "text/plain": [
       "array([ 0.260,  0.050,  0.050,  0.050,  0.050])"
      ]
     },
     "execution_count": 400,
     "metadata": {},
     "output_type": "execute_result"
    }
   ],
   "source": [
    "machine.session.run(machine.model.J.assign(np.array([0.26,0.05,0.05,0.05,0.05])))"
   ]
  },
  {
   "cell_type": "code",
   "execution_count": 537,
   "metadata": {
    "collapsed": false
   },
   "outputs": [
    {
     "data": {
      "text/plain": [
       "11.090354888959125"
      ]
     },
     "execution_count": 537,
     "metadata": {},
     "output_type": "execute_result"
    }
   ],
   "source": [
    "machine.session.run(machine.model.h)"
   ]
  },
  {
   "cell_type": "markdown",
   "metadata": {},
   "source": [
    "## J Sequence\n",
    "Given trained machine, run additional trainings to get the time sequence of J.\n",
    "### Collect Jseq\n",
    "Data format: `Jseq = {machine: [[J1,J2,...], ...], ...}`"
   ]
  },
  {
   "cell_type": "code",
   "execution_count": 509,
   "metadata": {
    "collapsed": false
   },
   "outputs": [
    {
     "name": "stdout",
     "output_type": "stream",
     "text": [
      "len:  0\n"
     ]
    }
   ],
   "source": [
    "try:\n",
    "    Jseq = load('Jseq')\n",
    "except FileNotFoundError:\n",
    "    Jseq = {}\n",
    "try:\n",
    "    Js = Jseq[machine.info]\n",
    "except KeyError:\n",
    "    Js = []\n",
    "print('len: ', len(Js))"
   ]
  },
  {
   "cell_type": "code",
   "execution_count": 515,
   "metadata": {
    "collapsed": false
   },
   "outputs": [
    {
     "name": "stdout",
     "output_type": "stream",
     "text": [
      "(0.0014557848474766948, array([ 1.060,  0.227,  0.227,  0.229,  0.231]))\n",
      "(0.0012917933267157491, array([ 1.064,  0.227,  0.227,  0.228,  0.229]))\n",
      "(0.00079330942092561117, array([ 1.064,  0.223,  0.223,  0.224,  0.224]))\n",
      "(0.0025328398796976744, array([ 1.062,  0.216,  0.216,  0.216,  0.217]))\n",
      "(0.00071917885137383591, array([ 1.058,  0.214,  0.214,  0.215,  0.216]))\n",
      "len:  30\n",
      "avg:  [ 1.050  0.238  0.238  0.239  0.239]\n",
      "std:  [ 0.006  0.010  0.010  0.009  0.009]\n"
     ]
    }
   ],
   "source": [
    "for i in range(5):\n",
    "    machine.train(16, learning_rate=0.005, check=16)\n",
    "    print(machine.session.run((machine.model.MSE, machine.model.J), machine.feed))\n",
    "    Js.append(list(machine.session.run(machine.model.J)))\n",
    "print('len: ', len(Js))\n",
    "print('avg: ', np.mean(Js,axis=0))\n",
    "print('std: ', np.std(Js,axis=0))"
   ]
  },
  {
   "cell_type": "code",
   "execution_count": 518,
   "metadata": {
    "collapsed": false
   },
   "outputs": [],
   "source": [
    "Jseq[machine.info] = Js\n",
    "save('Jseq', Jseq)"
   ]
  },
  {
   "cell_type": "markdown",
   "metadata": {},
   "source": [
    "----"
   ]
  },
  {
   "cell_type": "code",
   "execution_count": 352,
   "metadata": {
    "collapsed": true
   },
   "outputs": [],
   "source": [
    "Js=[]"
   ]
  },
  {
   "cell_type": "code",
   "execution_count": 478,
   "metadata": {
    "collapsed": false
   },
   "outputs": [
    {
     "data": {
      "text/plain": [
       "[('Ising(SSLatt(16,100,UUI))FF(32,0.00,8.0)random',\n",
       "  array([ 0.663,  0.201,  0.201,  0.200])),\n",
       " ('Ising(SSLatt(32,100,UUI))FF(64,0.00,0.5)random',\n",
       "  array([ 0.331,  0.002,  0.000,  0.000,  0.000])),\n",
       " ('Ising(SSLatt(32,100,UUI))FF(64,0.00,1.0)random',\n",
       "  array([ 0.272,  0.000,  0.000,  0.000,  0.000])),\n",
       " ('Ising(SSLatt(32,100,UUI))FF(64,0.00,1.5)random',\n",
       "  array([ 0.253,  0.099,  0.099,  0.099,  0.099])),\n",
       " ('Ising(SSLatt(32,100,UUI))FF(64,0.00,16.0)random',\n",
       "  array([ 1.404,  0.245,  0.245,  0.245,  0.246])),\n",
       " ('Ising(SSLatt(32,100,UUI))FF(64,0.00,2.0)random',\n",
       "  array([ 0.258,  0.157,  0.157,  0.157,  0.158])),\n",
       " ('Ising(SSLatt(32,100,UUI))FF(64,0.00,3.0)random',\n",
       "  array([ 0.310,  0.196,  0.195,  0.196,  0.196])),\n",
       " ('Ising(SSLatt(32,100,UUI))FF(64,0.00,4.0)random',\n",
       "  array([ 0.382,  0.207,  0.207,  0.207,  0.208])),\n",
       " ('Ising(SSLatt(32,100,UUI))FF(64,0.00,8.0)random',\n",
       "  array([ 0.704,  0.229,  0.229,  0.230,  0.230]))]"
      ]
     },
     "execution_count": 478,
     "metadata": {},
     "output_type": "execute_result"
    }
   ],
   "source": [
    "sorted([(mach, np.mean(Js,axis=0)) for mach, Js in Jseq.items()])"
   ]
  },
  {
   "cell_type": "code",
   "execution_count": null,
   "metadata": {
    "collapsed": false
   },
   "outputs": [],
   "source": []
  },
  {
   "cell_type": "code",
   "execution_count": null,
   "metadata": {
    "collapsed": false
   },
   "outputs": [],
   "source": []
  },
  {
   "cell_type": "markdown",
   "metadata": {},
   "source": [
    "## Entanglement Feature\n",
    "Given trained machine, collect entropy predictions\n",
    "### Collect EFcon\n",
    "Entanglement feature over consecutive regions.\n",
    "Data format: `EFcon = {machine: {'Ssys': [S1,...], 'Smdls': {[[S1,...], ...]}}, ...}`"
   ]
  },
  {
   "cell_type": "code",
   "execution_count": 26,
   "metadata": {
    "collapsed": false
   },
   "outputs": [
    {
     "name": "stdout",
     "output_type": "stream",
     "text": [
      "len:  0\n"
     ]
    }
   ],
   "source": [
    "try:\n",
    "    EFcon = load('EFcon')\n",
    "except FileNotFoundError:\n",
    "    EFcon = {}\n",
    "try:\n",
    "    EF = EFcon[machine.info]\n",
    "    Ssys = EF['Ssys']\n",
    "    Smdls = EF['Smdls']\n",
    "except KeyError:\n",
    "    Ssys = list(machine.data_server.fetch('consecutive')[machine.model.Ssys])\n",
    "    Smdls = []\n",
    "    EF = {'Ssys': Ssys, 'Smdls': Smdls}\n",
    "print('len: ', len(Smdls))"
   ]
  },
  {
   "cell_type": "code",
   "execution_count": 35,
   "metadata": {
    "collapsed": false
   },
   "outputs": [
    {
     "name": "stdout",
     "output_type": "stream",
     "text": [
      "len:  16\n",
      "error:  0.0800200996659\n"
     ]
    }
   ],
   "source": [
    "for i in range(5):\n",
    "    machine.train(16, check=16)\n",
    "    Smdl = list(machine.session.run(machine.model.Smdl, \n",
    "                            machine.data_server.fetch('consecutive')))\n",
    "    Smdls.append(Smdl)\n",
    "print('len: ', len(Smdls))\n",
    "print('error: ', np.mean([np.sqrt(np.mean(np.square(np.array(Smdl)/np.array(Ssys)-1))) for Smdl in Smdls]))"
   ]
  },
  {
   "cell_type": "code",
   "execution_count": 40,
   "metadata": {
    "collapsed": false
   },
   "outputs": [],
   "source": [
    "EFcon[machine.info] = {'Ssys': Ssys, 'Smdls': Smdls}\n",
    "save('EFcon', EFcon)"
   ]
  },
  {
   "cell_type": "markdown",
   "metadata": {},
   "source": [
    "### Collect EFmul\n",
    "Entanglement feature over multiregions.\n",
    "Data format: `EFmul = {machine: {n: [[Ssys, Smdl], ...], ...},...}`"
   ]
  },
  {
   "cell_type": "code",
   "execution_count": 74,
   "metadata": {
    "collapsed": false
   },
   "outputs": [
    {
     "name": "stdout",
     "output_type": "stream",
     "text": [
      "len:  56\n"
     ]
    }
   ],
   "source": [
    "try:\n",
    "    EFmul = load('EFmul')\n",
    "except FileNotFoundError:\n",
    "    EFmul = {}\n",
    "try:\n",
    "    ndict = EFmul[machine.info]\n",
    "except KeyError:\n",
    "    ndict = {n:[] for n in range(1, machine.model.partitions//2+1)}\n",
    "print('len: ', len(ndict[1]))"
   ]
  },
  {
   "cell_type": "code",
   "execution_count": 72,
   "metadata": {
    "collapsed": false
   },
   "outputs": [
    {
     "name": "stdout",
     "output_type": "stream",
     "text": [
      "len:  56\n",
      "{1: 0.075, 2: 0.073, 3: 0.045, 4: 0.038, 5: 0.037, 6: 0.025, 7: 0.026, 8: 0.037}\n"
     ]
    }
   ],
   "source": [
    "for i in range(5):\n",
    "    machine.train(16, check=16)\n",
    "    for n, pairs in ndict.items():\n",
    "        pairs += [[Ssys, Smdl] for Ssys, Smdl in zip(\n",
    "                    *machine.session.run([\n",
    "                        machine.model.Ssys, machine.model.Smdl], \n",
    "                        machine.data_server.fetch(('multiple',n))))]\n",
    "print('len: ', len(ndict[1]))\n",
    "print({n:float('{0:.3f}'.format(np.sqrt(np.mean([(a/b-1.)**2 for [a, b] in pairs])))) for n, pairs in ndict.items()})"
   ]
  },
  {
   "cell_type": "code",
   "execution_count": 73,
   "metadata": {
    "collapsed": false
   },
   "outputs": [],
   "source": [
    "EFmul[machine.info] = ndict\n",
    "save('EFmul', EFmul)"
   ]
  },
  {
   "cell_type": "code",
   "execution_count": null,
   "metadata": {
    "collapsed": true
   },
   "outputs": [],
   "source": []
  },
  {
   "cell_type": "code",
   "execution_count": null,
   "metadata": {
    "collapsed": true
   },
   "outputs": [],
   "source": []
  },
  {
   "cell_type": "code",
   "execution_count": null,
   "metadata": {
    "collapsed": true
   },
   "outputs": [],
   "source": []
  },
  {
   "cell_type": "code",
   "execution_count": null,
   "metadata": {
    "collapsed": true
   },
   "outputs": [],
   "source": []
  },
  {
   "cell_type": "code",
   "execution_count": null,
   "metadata": {
    "collapsed": true
   },
   "outputs": [],
   "source": []
  },
  {
   "cell_type": "code",
   "execution_count": null,
   "metadata": {
    "collapsed": true
   },
   "outputs": [],
   "source": []
  },
  {
   "cell_type": "code",
   "execution_count": null,
   "metadata": {
    "collapsed": true
   },
   "outputs": [],
   "source": []
  }
 ],
 "metadata": {
  "kernelspec": {
   "display_name": "Python 3",
   "language": "python",
   "name": "python3"
  },
  "language_info": {
   "codemirror_mode": {
    "name": "ipython",
    "version": 3
   },
   "file_extension": ".py",
   "mimetype": "text/x-python",
   "name": "python",
   "nbconvert_exporter": "python",
   "pygments_lexer": "ipython3",
   "version": "3.5.1"
  }
 },
 "nbformat": 4,
 "nbformat_minor": 0
}
