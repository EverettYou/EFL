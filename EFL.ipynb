{
 "cells": [
  {
   "cell_type": "markdown",
   "metadata": {},
   "source": [
    "#Entanglement Feature Learning"
   ]
  },
  {
   "cell_type": "code",
   "execution_count": 2,
   "metadata": {
    "collapsed": false
   },
   "outputs": [],
   "source": [
    "%run EFL.py"
   ]
  },
  {
   "cell_type": "markdown",
   "metadata": {},
   "source": [
    "## Restricted Boltzman Machine (RBM)"
   ]
  },
  {
   "cell_type": "markdown",
   "metadata": {},
   "source": [
    "### RBM Kernel\n",
    "Differences to standard RBM:\n",
    "* the binary units takes values $\\pm1$ instead of $0,1$.\n",
    "* **unbiased**, RTN of pure state are not biased, so the only variational parameter is the weight matrix.\n",
    "* elements in the weight matrixes are **positive** definite, because they correspnd to the logarithmic bond dimension."
   ]
  },
  {
   "cell_type": "markdown",
   "metadata": {},
   "source": [
    "Initialization of weight matrix. Wish to:\n",
    "* reflect the locality.\n",
    "* ferromagnetic, tune to critical.\n",
    "* with some randomness."
   ]
  },
  {
   "cell_type": "markdown",
   "metadata": {
    "collapsed": false
   },
   "source": [
    "Energy model ($v_i,h_j=\\pm1$):\n",
    "$$H=-\\sum_{i,j}v_iW_{ij}h_{j}.$$\n",
    "The free energy (given visible spins) is:\n",
    "$$F[v]=-\\ln\\sum_{[h]}e^{-H}=-\\sum_{j}\\ln \\left(2\\cosh\\left(\\sum_{i}v_iW_{ij}\\right)\\right).$$\n",
    "Local field seen by $h_j$: $\\sum_i v_i W_{ij}$, seen by $v_i$: $\\sum_{j} W_{ij} h_j$. This alows to relax the RBM to equilibrium by alternating Gibbs sampling."
   ]
  },
  {
   "cell_type": "markdown",
   "metadata": {},
   "source": [
    "Cost function:\n",
    "$$\\text{cost}= \\Delta F = F[v_\\text{init}]-F[v_\\text{equi}]$$\n",
    "Update rule ($\\lambda_\\text{l}$ learning rate, $\\lambda_\\text{f}$ forgetting rate):\n",
    "$$\\frac{\\mathrm{d}W}{\\mathrm{d}t}= (1-\\lambda_\\text{f})W-\\lambda_\\text{l}\\frac{\\partial\\Delta F}{\\partial W}$$\n",
    "* If any element in $W$ becomes negative, the element is set to zero.\n",
    "* Forgetting rate can be used to control the bond dimension."
   ]
  },
  {
   "cell_type": "markdown",
   "metadata": {},
   "source": [
    "#### Test by Ideal States\n",
    "* trivial product state: deep PM, all Ising configuration equal weight.\n",
    "* random state (maximally thermalized): deep FM, all up or all down."
   ]
  },
  {
   "cell_type": "code",
   "execution_count": 1,
   "metadata": {
    "collapsed": false
   },
   "outputs": [
    {
     "ename": "ImportError",
     "evalue": "No module named 'theano'",
     "output_type": "error",
     "traceback": [
      "\u001b[0;31m---------------------------------------------------------------------------\u001b[0m",
      "\u001b[0;31mImportError\u001b[0m                               Traceback (most recent call last)",
      "\u001b[0;32m/Users/everett/Dropbox/Projects/[XLQi]RTN/EFL/EFL.py\u001b[0m in \u001b[0;36m<module>\u001b[0;34m()\u001b[0m\n\u001b[1;32m      2\u001b[0m \u001b[0;31m# package required: numpy, theano\u001b[0m\u001b[0;34m\u001b[0m\u001b[0;34m\u001b[0m\u001b[0m\n\u001b[1;32m      3\u001b[0m \u001b[0;32mimport\u001b[0m \u001b[0mnumpy\u001b[0m\u001b[0;34m\u001b[0m\u001b[0m\n\u001b[0;32m----> 4\u001b[0;31m \u001b[0;32mimport\u001b[0m \u001b[0mtheano\u001b[0m\u001b[0;34m\u001b[0m\u001b[0m\n\u001b[0m\u001b[1;32m      5\u001b[0m \u001b[0;32mimport\u001b[0m \u001b[0mtheano\u001b[0m\u001b[0;34m.\u001b[0m\u001b[0mtensor\u001b[0m \u001b[0;32mas\u001b[0m \u001b[0mT\u001b[0m\u001b[0;34m\u001b[0m\u001b[0m\n\u001b[1;32m      6\u001b[0m \u001b[0;32mimport\u001b[0m \u001b[0mos\u001b[0m\u001b[0;34m\u001b[0m\u001b[0m\n",
      "\u001b[0;31mImportError\u001b[0m: No module named 'theano'"
     ]
    },
    {
     "ename": "NameError",
     "evalue": "name 'RBM' is not defined",
     "output_type": "error",
     "traceback": [
      "\u001b[0;31m---------------------------------------------------------------------------\u001b[0m",
      "\u001b[0;31mNameError\u001b[0m                                 Traceback (most recent call last)",
      "\u001b[0;32m<ipython-input-1-51eca5eb8532>\u001b[0m in \u001b[0;36m<module>\u001b[0;34m()\u001b[0m\n\u001b[1;32m      3\u001b[0m \u001b[0;31m#train_set = numpy.array([[1,-1,1,-1],[-1,1,-1,1]]*200,dtype=float)\u001b[0m\u001b[0;34m\u001b[0m\u001b[0;34m\u001b[0m\u001b[0m\n\u001b[1;32m      4\u001b[0m \u001b[0mtrain_set\u001b[0m \u001b[0;34m=\u001b[0m \u001b[0mnumpy\u001b[0m\u001b[0;34m.\u001b[0m\u001b[0masarray\u001b[0m\u001b[0;34m(\u001b[0m\u001b[0mnumpy\u001b[0m\u001b[0;34m.\u001b[0m\u001b[0mrandom\u001b[0m\u001b[0;34m.\u001b[0m\u001b[0mrandint\u001b[0m\u001b[0;34m(\u001b[0m\u001b[0;36m0\u001b[0m\u001b[0;34m,\u001b[0m\u001b[0;36m2\u001b[0m\u001b[0;34m,\u001b[0m\u001b[0;34m(\u001b[0m\u001b[0;36m400\u001b[0m\u001b[0;34m,\u001b[0m\u001b[0;36m4\u001b[0m\u001b[0;34m)\u001b[0m\u001b[0;34m)\u001b[0m\u001b[0;34m*\u001b[0m\u001b[0;36m2\u001b[0m\u001b[0;34m-\u001b[0m\u001b[0;36m1\u001b[0m\u001b[0;34m,\u001b[0m\u001b[0mdtype\u001b[0m\u001b[0;34m=\u001b[0m\u001b[0mfloat\u001b[0m\u001b[0;34m)\u001b[0m\u001b[0;34m\u001b[0m\u001b[0m\n\u001b[0;32m----> 5\u001b[0;31m \u001b[0mrbm\u001b[0m \u001b[0;34m=\u001b[0m \u001b[0mRBM\u001b[0m\u001b[0;34m(\u001b[0m\u001b[0mW\u001b[0m\u001b[0;34m=\u001b[0m\u001b[0;34m'random'\u001b[0m\u001b[0;34m,\u001b[0m\u001b[0mmethod\u001b[0m\u001b[0;34m=\u001b[0m\u001b[0;34m'CD'\u001b[0m\u001b[0;34m)\u001b[0m\u001b[0;34m\u001b[0m\u001b[0m\n\u001b[0m\u001b[1;32m      6\u001b[0m \u001b[0;31m#lr_table = [0.2,0.3,0.25,0.15,0.1]\u001b[0m\u001b[0;34m\u001b[0m\u001b[0;34m\u001b[0m\u001b[0m\n\u001b[1;32m      7\u001b[0m \u001b[0;31m#fr_table = [0.05,0.01,0.,0.,0.]\u001b[0m\u001b[0;34m\u001b[0m\u001b[0;34m\u001b[0m\u001b[0m\n",
      "\u001b[0;31mNameError\u001b[0m: name 'RBM' is not defined"
     ]
    }
   ],
   "source": [
    "%run EFL.py\n",
    "#train_set = numpy.array([[1,1,1,1],[-1,-1,-1,-1]]*200,dtype=float)\n",
    "#train_set = numpy.array([[1,-1,1,-1],[-1,1,-1,1]]*200,dtype=float)\n",
    "train_set = numpy.asarray(numpy.random.randint(0,2,(400,4))*2-1,dtype=float)\n",
    "rbm = RBM(W='random',method='CD')\n",
    "#lr_table = [0.2,0.3,0.25,0.15,0.1]\n",
    "#fr_table = [0.05,0.01,0.,0.,0.]\n",
    "lr_table = [0.5,0.3,0.2,0.15,0.1,0.1,0.1]\n",
    "fr_table = [0.,0.,0.,0.,0.,0.,0.]"
   ]
  },
  {
   "cell_type": "markdown",
   "metadata": {},
   "source": [
    "FM, maximally thermal."
   ]
  },
  {
   "cell_type": "code",
   "execution_count": 3,
   "metadata": {
    "collapsed": false
   },
   "outputs": [
    {
     "name": "stdout",
     "output_type": "stream",
     "text": [
      "Epoch 0:  cost = -0.109159, xent = 0.022368\n",
      "Epoch 1:  cost = -0.074178, xent = 0.010012\n",
      "Epoch 2:  cost = -0.076009, xent = 0.008760\n",
      "Epoch 3:  cost = -0.031306, xent = 0.008158\n",
      "Epoch 4:  cost = -0.047077, xent = 0.007955\n",
      "Epoch 5:  cost = -0.030862, xent = 0.007696\n",
      "Epoch 6:  cost = -0.124440, xent = 0.007290\n"
     ]
    },
    {
     "data": {
      "text/plain": [
       "array([[ 1.5620738 ,  1.76418861],\n",
       "       [ 1.55504711,  1.53255343],\n",
       "       [ 1.36638278,  1.8026775 ],\n",
       "       [ 1.54176937,  1.59831983]])"
      ]
     },
     "execution_count": 3,
     "metadata": {},
     "output_type": "execute_result"
    }
   ],
   "source": [
    "for epoch in range(7):\n",
    "    cost, xent = rbm.train(train_set,\n",
    "                           learning_rate=lr_table[epoch],\n",
    "                           forgetting_rate=fr_table[epoch])\n",
    "    print('Epoch %d: '%epoch, 'cost = %f, xent = %f'%(cost, xent))\n",
    "rbm.W.get_value()"
   ]
  },
  {
   "cell_type": "markdown",
   "metadata": {},
   "source": [
    "PM, trivial product state."
   ]
  },
  {
   "cell_type": "code",
   "execution_count": 6,
   "metadata": {
    "collapsed": false
   },
   "outputs": [
    {
     "name": "stdout",
     "output_type": "stream",
     "text": [
      "Epoch 0:  cost = 0.112113, xent = 3.242719\n",
      "Epoch 1:  cost = 0.022328, xent = 3.070230\n",
      "Epoch 2:  cost = 0.007352, xent = 2.949821\n",
      "Epoch 3:  cost = 0.013084, xent = 2.926602\n",
      "Epoch 4:  cost = 0.001652, xent = 2.892917\n",
      "Epoch 5:  cost = 0.005669, xent = 2.922602\n",
      "Epoch 6:  cost = 0.004110, xent = 2.880515\n"
     ]
    },
    {
     "data": {
      "text/plain": [
       "array([[ 0.03113473,  0.06022195],\n",
       "       [ 0.43808222,  0.00861   ],\n",
       "       [ 0.01715053,  0.01461342],\n",
       "       [ 0.03886801,  0.29126499]])"
      ]
     },
     "execution_count": 6,
     "metadata": {},
     "output_type": "execute_result"
    }
   ],
   "source": [
    "for epoch in range(7):\n",
    "    cost, xent = rbm.train(train_set,\n",
    "                           learning_rate=lr_table[epoch],\n",
    "                           forgetting_rate=fr_table[epoch])\n",
    "    print('Epoch %d: '%epoch, 'cost = %f, xent = %f'%(cost, xent))\n",
    "rbm.W.get_value()"
   ]
  },
  {
   "cell_type": "markdown",
   "metadata": {},
   "source": [
    "### Convolutional RBM\n",
    "Assumption: translational symmetry (or in statistical sense under disorder average). Weights are shared among kernels for each layer and each group. This makes the algorithm scalable. For disordered system, this will learn the disorder averaged entanglement features."
   ]
  },
  {
   "cell_type": "markdown",
   "metadata": {
    "collapsed": true
   },
   "source": [
    "Consider a 1D free fermion CFT, the Renyi entropy given by (acorrding to Calabrese and Cardy 2004, 2009)\n",
    "$$S\\propto\\sum_{i,j}\\ln|u_i-v_j|-\\sum_{i<j}\\ln|u_i-u_j|-\\sum_{i<j}\\ln|v_i-v_j|.$$\n",
    "$u_i$ and $v_i$ are positions of kinks and antikinks in the Ising configuraiton."
   ]
  },
  {
   "cell_type": "code",
   "execution_count": 26,
   "metadata": {
    "collapsed": false
   },
   "outputs": [
    {
     "data": {
      "text/plain": [
       "1.9459101490553132"
      ]
     },
     "execution_count": 26,
     "metadata": {},
     "output_type": "execute_result"
    }
   ],
   "source": [
    "from itertools import combinations\n",
    "def entropy_CFT(kinks):\n",
    "    us = kinks[0::2]\n",
    "    vs = kinks[1::2]\n",
    "    Suv = sum(numpy.log(abs(u-v)) for u in us for v in vs)\n",
    "    Suu = sum(numpy.log(abs(u1-u2)) for u1, u2 in combinations(us,2))\n",
    "    Svv = sum(numpy.log(abs(v1-v2)) for v1, v2 in combinations(vs,2))\n",
    "    S = Suv-Suu-Svv\n",
    "    return S\n",
    "entropy_CFT([3,10])"
   ]
  },
  {
   "cell_type": "markdown",
   "metadata": {
    "collapsed": true
   },
   "source": [
    "## Deep Belief Net"
   ]
  },
  {
   "cell_type": "code",
   "execution_count": 10,
   "metadata": {
    "collapsed": false
   },
   "outputs": [
    {
     "name": "stdout",
     "output_type": "stream",
     "text": [
      "Epoch 0:  cost = 0.123299, xent = 3.075038\n",
      "Epoch 1:  cost = 0.000767, xent = 2.811155\n",
      "Epoch 2:  cost = -0.000510, xent = 2.820312\n",
      "Epoch 3:  cost = 0.000394, xent = 2.820871\n",
      "Epoch 4:  cost = -0.000169, xent = 2.814361\n"
     ]
    },
    {
     "data": {
      "text/plain": [
       "array([[ 0.22448242,  0.08630163],\n",
       "       [ 0.05376896,  0.10348084],\n",
       "       [ 0.15858293,  0.03803954],\n",
       "       [ 0.21123996,  0.01548139]])"
      ]
     },
     "execution_count": 10,
     "metadata": {},
     "output_type": "execute_result"
    }
   ],
   "source": [
    "%run EFL.py\n",
    "#train_set = numpy.array([[1,1,1,1],[-1,-1,-1,-1]]*200,dtype=float)\n",
    "#train_set = numpy.array([[1,-1,1,-1],[-1,1,-1,1]]*200,dtype=float)\n",
    "train_set = numpy.asarray(numpy.random.randint(0,2,(400,4))*2-1,dtype=float)\n",
    "rbm = RBM(W='random',method='CD')\n",
    "lr_table = [0.2,0.3,0.25,0.15,0.1]\n",
    "fr_table = [0.05,0.01,0.,0.,0.]\n",
    "#lr_table = [0.5,0.3,0.2,0.15,0.1,0.1,0.1]\n",
    "#fr_table = [0.,0.,0.,0.,0.,0.,0.]\n",
    "for epoch in range(5):\n",
    "    cost, xent = rbm.train(train_set,\n",
    "                           learning_rate=lr_table[epoch],\n",
    "                           forgetting_rate=fr_table[epoch])\n",
    "    print('Epoch %d: '%epoch, 'cost = %f, xent = %f'%(cost, xent))\n",
    "rbm.W.get_value()"
   ]
  },
  {
   "cell_type": "code",
   "execution_count": 20,
   "metadata": {
    "collapsed": false
   },
   "outputs": [],
   "source": [
    "rbm.bottomup(train_set);"
   ]
  },
  {
   "cell_type": "code",
   "execution_count": 16,
   "metadata": {
    "collapsed": false
   },
   "outputs": [
    {
     "data": {
      "text/plain": [
       "<theano.compile.function_module.Function at 0x115b82ba8>"
      ]
     },
     "execution_count": 16,
     "metadata": {},
     "output_type": "execute_result"
    }
   ],
   "source": [
    "rbm._bottomup"
   ]
  },
  {
   "cell_type": "code",
   "execution_count": 63,
   "metadata": {
    "collapsed": false
   },
   "outputs": [
    {
     "name": "stdout",
     "output_type": "stream",
     "text": [
      "RBM layer 0 ---\n",
      "Epoch 0:  cost = -0.727944, xent = 0.442594\n",
      "Epoch 1:  cost = -0.532840, xent = 0.124340\n",
      "Epoch 2:  cost = -0.197564, xent = 0.069346\n",
      "Epoch 3:  cost = -0.276740, xent = 0.049645\n",
      "Epoch 4:  cost = -0.344374, xent = 0.038671\n",
      "Epoch 5:  cost = -0.123221, xent = 0.031379\n",
      "Epoch 6:  cost = -0.141894, xent = 0.027855\n",
      "RBM layer 1 ---\n",
      "Epoch 0:  cost = -0.498184, xent = 0.195079\n",
      "Epoch 1:  cost = -0.381247, xent = 0.121287\n",
      "Epoch 2:  cost = -0.327675, xent = 0.066703\n",
      "Epoch 3:  cost = -0.189362, xent = 0.043557\n",
      "Epoch 4:  cost = -0.152801, xent = 0.033933\n",
      "Epoch 5:  cost = -0.166142, xent = 0.029565\n",
      "Epoch 6:  cost = -0.124329, xent = 0.026525\n"
     ]
    }
   ],
   "source": [
    "%run EFL.py\n",
    "train_set = numpy.array([[1,1,1,1,1,1,1,1],[-1,-1,-1,-1,-1,-1,-1,-1]]*200,dtype=float)\n",
    "#train_set = numpy.array([[1,-1,1,-1],[-1,1,-1,1]]*200,dtype=float)\n",
    "#train_set = numpy.asarray(numpy.random.randint(0,2,(400,8))*2-1,dtype=float)\n",
    "dbn = DBN([8,4,2])\n",
    "dbn.train(train_set, lrs = [0.5,0.3,0.2,0.15], frs = [0.05,0.01])"
   ]
  },
  {
   "cell_type": "code",
   "execution_count": 58,
   "metadata": {
    "collapsed": false
   },
   "outputs": [
    {
     "data": {
      "text/plain": [
       "array([[ 0.74378813,  0.69830952,  0.69364525,  0.68225864],\n",
       "       [ 0.81431069,  0.69718579,  0.66758886,  0.67747641],\n",
       "       [ 0.8540145 ,  0.74476177,  0.61490136,  0.59400549],\n",
       "       [ 0.70656703,  0.79957898,  0.69043742,  0.56957501],\n",
       "       [ 0.55321003,  0.66975958,  0.77827142,  0.68380722],\n",
       "       [ 0.6162805 ,  0.63284488,  0.76471595,  0.86908277],\n",
       "       [ 0.64686609,  0.63555991,  0.67143179,  0.79119637],\n",
       "       [ 0.74910137,  0.75495721,  0.76042006,  0.78714136]])"
      ]
     },
     "execution_count": 58,
     "metadata": {},
     "output_type": "execute_result"
    }
   ],
   "source": [
    "dbn.rbms[0].W.get_value()"
   ]
  },
  {
   "cell_type": "code",
   "execution_count": 67,
   "metadata": {
    "collapsed": false
   },
   "outputs": [],
   "source": [
    "ori = T.matrix()\n",
    "rec = dbn.reconstruct(ori)\n",
    "rfun = theano.function([ori],rec)"
   ]
  },
  {
   "cell_type": "code",
   "execution_count": 70,
   "metadata": {
    "collapsed": false
   },
   "outputs": [
    {
     "data": {
      "text/plain": [
       "array([[ 0.995034  ,  0.99171267,  0.99370661,  0.99266298,  0.99147429,\n",
       "         0.99191823,  0.9942658 ,  0.99142982],\n",
       "       [-0.995034  , -0.99171267, -0.99370661, -0.99266298, -0.99147429,\n",
       "        -0.99191823, -0.9942658 , -0.99142982],\n",
       "       [ 0.995034  ,  0.99171267,  0.99370661,  0.99266298,  0.99147429,\n",
       "         0.99191823,  0.9942658 ,  0.99142982],\n",
       "       [-0.995034  , -0.99171267, -0.99370661, -0.99266298, -0.99147429,\n",
       "        -0.99191823, -0.9942658 , -0.99142982],\n",
       "       [ 0.995034  ,  0.99171267,  0.99370661,  0.99266298,  0.99147429,\n",
       "         0.99191823,  0.9942658 ,  0.99142982],\n",
       "       [-0.995034  , -0.99171267, -0.99370661, -0.99266298, -0.99147429,\n",
       "        -0.99191823, -0.9942658 , -0.99142982],\n",
       "       [ 0.995034  ,  0.99171267,  0.99370661,  0.99266298,  0.99147429,\n",
       "         0.99191823,  0.9942658 ,  0.99142982]])"
      ]
     },
     "execution_count": 70,
     "metadata": {},
     "output_type": "execute_result"
    }
   ],
   "source": [
    "rfun(train_set[0:7])"
   ]
  },
  {
   "cell_type": "code",
   "execution_count": null,
   "metadata": {
    "collapsed": true
   },
   "outputs": [],
   "source": []
  }
 ],
 "metadata": {
  "celltoolbar": "Raw Cell Format",
  "kernelspec": {
   "display_name": "Python 3",
   "language": "python",
   "name": "python3"
  },
  "language_info": {
   "codemirror_mode": {
    "name": "ipython",
    "version": 3
   },
   "file_extension": ".py",
   "mimetype": "text/x-python",
   "name": "python",
   "nbconvert_exporter": "python",
   "pygments_lexer": "ipython3",
   "version": "3.5.1"
  }
 },
 "nbformat": 4,
 "nbformat_minor": 0
}
