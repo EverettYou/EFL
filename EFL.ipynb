{
 "cells": [
  {
   "cell_type": "markdown",
   "metadata": {},
   "source": [
    "#Entanglement Feature Learning"
   ]
  },
  {
   "cell_type": "code",
   "execution_count": 110,
   "metadata": {
    "collapsed": false
   },
   "outputs": [],
   "source": [
    "%run EFL.py"
   ]
  },
  {
   "cell_type": "markdown",
   "metadata": {},
   "source": [
    "## Restricted Boltzman Machine (RBM)"
   ]
  },
  {
   "cell_type": "markdown",
   "metadata": {},
   "source": [
    "### RBM Kernel\n",
    "Differences to standard RBM:\n",
    "* the binary units takes values $\\pm1$ instead of $0,1$.\n",
    "* unbiased, RTN of pure state are not biased, so the only parameter is the weight matrix."
   ]
  },
  {
   "cell_type": "markdown",
   "metadata": {},
   "source": [
    "Initialization of weight matrix. Wish:\n",
    "* reflect the locality.\n",
    "* ferromagnetic, tune to critical.\n",
    "* with some randomness."
   ]
  },
  {
   "cell_type": "markdown",
   "metadata": {
    "collapsed": false
   },
   "source": [
    "Energy model ($v_i,h_j=\\pm1$):\n",
    "$$H=-\\sum_{i,j}v_iW_{ij}h_{j}.$$\n",
    "The free energy (given visible spins) is:\n",
    "$$F=-\\ln\\sum_{[h]}e^{-H}=-\\sum_{j}\\ln \\left(2\\cosh\\left(\\sum_{i}v_iW_{ij}\\right)\\right).$$\n",
    "Local field seen by $h_j$: $\\sum_i v_i W_{ij}$, seen by $v_i$: $\\sum_{j} W_{ij} h_j$."
   ]
  },
  {
   "cell_type": "code",
   "execution_count": 112,
   "metadata": {
    "collapsed": true
   },
   "outputs": [],
   "source": [
    "''' Train RBM\n",
    "training_set::numpy.array: each row is a training sample.\n",
    "batch_size::int: size of a batch\n",
    "learning_rate::float: learning rate\n",
    "training_epochs::int: number of epochs\n",
    "n_hidden::int: number of hidden spins'''\n",
    "def train_rbm(training_set=None,\n",
    "              batch_size=20,\n",
    "              learning_rate=0.1,\n",
    "              training_epochs=5,\n",
    "              n_hidden=2):\n",
    "    if training_set is None:\n",
    "        return # if no training set, return\n",
    "    # number of samples and visibles\n",
    "    n_samples, n_visible = training_set.shape\n",
    "    n_batches = n_samples//batch_size # number of batches\n",
    "    # allocate symbolic variables for the data\n",
    "    #index = T.lscalar() # index to a batch\n",
    "    samples = T.matrix('samples') # the data\n",
    "    # initialize storage for the persistent chain\n",
    "    persistent_chain = theano.shared(\n",
    "        numpy.zeros((batch_size,n_hidden),dtype=theano.config.floatX),\n",
    "        borrow = True)\n",
    "    # construct RBM\n",
    "    rbm = RBM(input=samples, Nv=n_visible, Nh=n_hidden)\n",
    "    # get cost and updates\n",
    "    cost, updates = rbm.get_cost_updates(\n",
    "        learning_rate=learning_rate,\n",
    "        persistent=persistent_chain, k=15)\n",
    "    # learning function\n",
    "#    rbm_learn = theano.function(\n",
    "#        [index], cost, updates=updates, name='rbm_learn',\n",
    "#        givens={samples:training_set[index*batch_size:(index+1)*batch_size,:]})\n",
    "    rbm_learn = theano.function([samples], cost, updates=updates, name='rbm_learn')\n",
    "    # go through training epochs\n",
    "    for epoch in range(training_epochs):\n",
    "        # go through training set\n",
    "        costs = []\n",
    "        for batch_index in range(n_batches):\n",
    "            costs += [rbm_learn(training_set[batch_index*batch_size:(batch_index+1)*batch_size,:])]\n",
    "        print('Training epoch %d, cost is'%epoch, numpy.mean(costs))\n",
    "    return rbm"
   ]
  },
  {
   "cell_type": "code",
   "execution_count": 136,
   "metadata": {
    "collapsed": false
   },
   "outputs": [
    {
     "name": "stdout",
     "output_type": "stream",
     "text": [
      "Training epoch 0, cost is -2.15721753791\n",
      "Training epoch 1, cost is -1.55290759869\n",
      "Training epoch 2, cost is -1.20763823882\n",
      "Training epoch 3, cost is -0.928025412443\n",
      "Training epoch 4, cost is -0.885664219583\n",
      "Training epoch 5, cost is -0.726975173998\n",
      "Training epoch 6, cost is -0.634242490507\n",
      "Training epoch 7, cost is -0.565763683482\n",
      "Training epoch 8, cost is -0.481818304754\n",
      "Training epoch 9, cost is -0.459752206883\n",
      "Training epoch 10, cost is -0.347703250516\n",
      "Training epoch 11, cost is -0.370970701242\n",
      "Training epoch 12, cost is -0.284409911717\n",
      "Training epoch 13, cost is -0.313531325837\n",
      "Training epoch 14, cost is -0.237288284478\n"
     ]
    }
   ],
   "source": [
    "rbm = train_rbm(numpy.array([[1,-1,1,-1],[1,-1,1,-1]]*20,dtype=float))"
   ]
  },
  {
   "cell_type": "code",
   "execution_count": 137,
   "metadata": {
    "collapsed": false
   },
   "outputs": [
    {
     "data": {
      "text/plain": [
       "array([[-0.22110558, -1.13884915],\n",
       "       [ 0.50554618,  1.44307546],\n",
       "       [ 0.0946451 , -1.43356834],\n",
       "       [ 0.26400811,  1.14424641]])"
      ]
     },
     "execution_count": 137,
     "metadata": {},
     "output_type": "execute_result"
    }
   ],
   "source": [
    "rbm.W.get_value()"
   ]
  },
  {
   "cell_type": "code",
   "execution_count": 134,
   "metadata": {
    "collapsed": false
   },
   "outputs": [
    {
     "name": "stdout",
     "output_type": "stream",
     "text": [
      "Training epoch 0, cost is -2.81100618268\n",
      "Training epoch 1, cost is -2.7713649327\n",
      "Training epoch 2, cost is -2.79285400235\n",
      "Training epoch 3, cost is -2.73203150394\n",
      "Training epoch 4, cost is -2.77240718769\n",
      "Training epoch 5, cost is -2.72573133456\n",
      "Training epoch 6, cost is -2.75158188047\n",
      "Training epoch 7, cost is -2.74664394846\n",
      "Training epoch 8, cost is -2.77412166107\n",
      "Training epoch 9, cost is -2.7650800458\n",
      "Training epoch 10, cost is -2.7699336707\n",
      "Training epoch 11, cost is -2.73099349037\n",
      "Training epoch 12, cost is -2.7928642532\n",
      "Training epoch 13, cost is -2.72351479382\n",
      "Training epoch 14, cost is -2.78642089828\n"
     ]
    }
   ],
   "source": [
    "rbm = train_rbm(numpy.random.RandomState().binomial(1,0.5,size=(200,4))*2-1.)"
   ]
  },
  {
   "cell_type": "markdown",
   "metadata": {},
   "source": [
    "### Convolutional RBM\n",
    "Assumption: translational symmetry (or in statistical sense under disorder average). Weights are shared among kernels for each layer and each group. This makes the algorithm scalable. For disordered system, this will learn the disorder averaged entanglement features."
   ]
  },
  {
   "cell_type": "code",
   "execution_count": null,
   "metadata": {
    "collapsed": true
   },
   "outputs": [],
   "source": []
  }
 ],
 "metadata": {
  "kernelspec": {
   "display_name": "Python 3",
   "language": "python",
   "name": "python3"
  },
  "language_info": {
   "codemirror_mode": {
    "name": "ipython",
    "version": 3
   },
   "file_extension": ".py",
   "mimetype": "text/x-python",
   "name": "python",
   "nbconvert_exporter": "python",
   "pygments_lexer": "ipython3",
   "version": "3.3.0"
  }
 },
 "nbformat": 4,
 "nbformat_minor": 0
}
