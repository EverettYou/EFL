{
 "cells": [
  {
   "cell_type": "markdown",
   "metadata": {},
   "source": [
    "Import Tensorflow and open a session."
   ]
  },
  {
   "cell_type": "code",
   "execution_count": 2,
   "metadata": {
    "collapsed": false
   },
   "outputs": [],
   "source": [
    "%run 'Ising.py'"
   ]
  },
  {
   "cell_type": "markdown",
   "metadata": {},
   "source": [
    "### Determinant\n",
    "Calculate matrix determinant"
   ]
  },
  {
   "cell_type": "code",
   "execution_count": 4,
   "metadata": {
    "collapsed": false
   },
   "outputs": [
    {
     "data": {
      "text/plain": [
       "9.0"
      ]
     },
     "execution_count": 4,
     "metadata": {},
     "output_type": "execute_result"
    }
   ],
   "source": [
    "W = tf.constant([[0.,1.,1.,1.],\n",
    "                 [-1.,0.,1.,-1.],\n",
    "                 [-1.,-1.,0.,1.],\n",
    "                 [-1.,1.,-1.,0.]])\n",
    "f = tf.matrix_determinant(W)\n",
    "tf.Session().run(f)"
   ]
  },
  {
   "cell_type": "markdown",
   "metadata": {},
   "source": [
    "Train by minimizing the ln(det(W)). TF knows how to do the gradient."
   ]
  },
  {
   "cell_type": "code",
   "execution_count": 5,
   "metadata": {
    "collapsed": false
   },
   "outputs": [
    {
     "name": "stdout",
     "output_type": "stream",
     "text": [
      "2.06162\n",
      "1.91632\n",
      "1.75986\n",
      "1.5904\n",
      "1.4056\n"
     ]
    }
   ],
   "source": [
    "W = tf.Variable([[0.,1.,1.,1.],\n",
    "                 [-1.,0.,1.,-1.],\n",
    "                 [-1.,-1.,0.,1.],\n",
    "                 [-1.,1.,-1.,0.]])\n",
    "f = tf.log(tf.matrix_determinant(W))\n",
    "init = tf.global_variables_initializer()\n",
    "optimizer = tf.train.GradientDescentOptimizer(0.1)\n",
    "train = optimizer.minimize(f)\n",
    "sess = tf.Session()\n",
    "sess.run(init)\n",
    "for i in range(5):\n",
    "    sess.run(train)\n",
    "    print(sess.run(f))"
   ]
  },
  {
   "cell_type": "markdown",
   "metadata": {},
   "source": [
    "### Sparse Tensor\n",
    "Sparse tensor must be converted to dense when passed to the determinant op."
   ]
  },
  {
   "cell_type": "code",
   "execution_count": 337,
   "metadata": {
    "collapsed": false
   },
   "outputs": [
    {
     "data": {
      "text/plain": [
       "0.69314718"
      ]
     },
     "execution_count": 337,
     "metadata": {},
     "output_type": "execute_result"
    }
   ],
   "source": [
    "W = tf.SparseTensor(indices=[[0, 0], [1, 1]], values=[1., 2.], dense_shape=[2, 2])\n",
    "W_dense = tf.sparse_tensor_to_dense(W)\n",
    "f = tf.log(tf.matrix_determinant(W_dense))\n",
    "sess.run(f)"
   ]
  },
  {
   "cell_type": "markdown",
   "metadata": {},
   "source": [
    "## Entanglement\n",
    "### Entanglement Regions"
   ]
  },
  {
   "cell_type": "code",
   "execution_count": 43,
   "metadata": {
    "collapsed": false
   },
   "outputs": [
    {
     "data": {
      "text/plain": [
       "[{2, 3}, {0, 1}, {1, 2}, {0, 3}]"
      ]
     },
     "execution_count": 43,
     "metadata": {},
     "output_type": "execute_result"
    }
   ],
   "source": [
    "list(Region({1,2},4).equivalences())"
   ]
  },
  {
   "cell_type": "code",
   "execution_count": 44,
   "metadata": {
    "collapsed": false
   },
   "outputs": [
    {
     "data": {
      "text/plain": [
       "array([ 1.000, -1.000, -1.000,  1.000])"
      ]
     },
     "execution_count": 44,
     "metadata": {},
     "output_type": "execute_result"
    }
   ],
   "source": [
    "Region({1,2},4).config()"
   ]
  },
  {
   "cell_type": "code",
   "execution_count": 42,
   "metadata": {
    "collapsed": false
   },
   "outputs": [
    {
     "data": {
      "text/plain": [
       "[set(),\n",
       " {0},\n",
       " {0, 1},\n",
       " {0, 1, 2},\n",
       " {0, 1, 2, 3},\n",
       " {0, 1, 2, 3, 4},\n",
       " {0, 1, 2, 3, 4, 5},\n",
       " {0, 1, 2, 3, 4, 5, 6},\n",
       " {0, 1, 2, 3, 4, 5, 6, 7}]"
      ]
     },
     "execution_count": 42,
     "metadata": {},
     "output_type": "execute_result"
    }
   ],
   "source": [
    "list(Regions(8).consecutives())"
   ]
  },
  {
   "cell_type": "code",
   "execution_count": 41,
   "metadata": {
    "collapsed": false
   },
   "outputs": [
    {
     "data": {
      "text/plain": [
       "[set(),\n",
       " {0},\n",
       " {0, 1},\n",
       " {0, 2},\n",
       " {0, 3},\n",
       " {0, 4},\n",
       " {0, 1, 2},\n",
       " {0, 1, 3},\n",
       " {0, 1, 4},\n",
       " {0, 2, 4},\n",
       " {0, 2, 5},\n",
       " {0, 1, 2, 3},\n",
       " {0, 1, 2, 4},\n",
       " {0, 1, 2, 5},\n",
       " {0, 1, 3, 5},\n",
       " {0, 1, 3, 6},\n",
       " {0, 1, 4, 5},\n",
       " {0, 2, 4, 6}]"
      ]
     },
     "execution_count": 41,
     "metadata": {},
     "output_type": "execute_result"
    }
   ],
   "source": [
    "list(Regions(8).representatives())"
   ]
  },
  {
   "cell_type": "markdown",
   "metadata": {},
   "source": [
    "### Entanglement Entropy\n",
    "Entanglement entropy of free fermion.\n",
    "$$H=\\sum_{i}(1+(-)^i m)\\mathrm{i}\\chi_{i}\\chi_{i+1}$$"
   ]
  },
  {
   "cell_type": "code",
   "execution_count": 745,
   "metadata": {
    "collapsed": false
   },
   "outputs": [
    {
     "data": {
      "text/plain": [
       "0.84523244468672853"
      ]
     },
     "execution_count": 745,
     "metadata": {},
     "output_type": "execute_result"
    }
   ],
   "source": [
    "system = FreeFermion(mass=1.e-10, size=8)\n",
    "system.S([0,1,2,3,4])"
   ]
  },
  {
   "cell_type": "markdown",
   "metadata": {},
   "source": [
    "### Test"
   ]
  },
  {
   "cell_type": "code",
   "execution_count": 709,
   "metadata": {
    "collapsed": false
   },
   "outputs": [],
   "source": [
    "%run 'Ising.py'\n",
    "machine = EFL(FreeFermion(mass=1.e-10, size=256), CylindricalModel(Lx = 8, Lz = 2))\n",
    "training_set = machine.training_set('representatives')\n",
    "writer = machine.writer()\n",
    "writer.add_graph(sess.graph)\n",
    "sess.run(machine.model.initialize)"
   ]
  },
  {
   "cell_type": "code",
   "execution_count": 712,
   "metadata": {
    "collapsed": false
   },
   "outputs": [
    {
     "data": {
      "text/plain": [
       "[7.0578566877442751e-06, 0.0, 7.0578566877442751e-06]"
      ]
     },
     "execution_count": 712,
     "metadata": {},
     "output_type": "execute_result"
    }
   ],
   "source": [
    "for i in range(2000):\n",
    "    machine.step += 1\n",
    "    sess.run(machine.model.train, training_set)\n",
    "    writer.add_summary(sess.run(machine.model.summarize, training_set), machine.step)\n",
    "sess.run([machine.model.MSE, machine.model.L2, machine.model.cost], training_set)"
   ]
  },
  {
   "cell_type": "markdown",
   "metadata": {
    "collapsed": false
   },
   "source": [
    "### Square Lattice Adjacency Matices"
   ]
  },
  {
   "cell_type": "code",
   "execution_count": 297,
   "metadata": {
    "collapsed": false
   },
   "outputs": [
    {
     "name": "stdout",
     "output_type": "stream",
     "text": [
      "depth =  5\n",
      "Chain[0]\n",
      "├ Cell[0, 0] IR\n",
      "├ Cell[0, 1] IR\n",
      "├ Cell[0, 2] IR\n",
      "├ Cell[0, 3] IR\n",
      "├ Cell[0, 4] IR\n",
      "├ Cell[0, 5] IR\n",
      "├ Cell[0, 6] IR\n",
      "├ Cell[0, 7] IR\n",
      "├ Cell[0, 8] IR\n",
      "├ Cell[0, 9] IR\n",
      "├ Cell[0, 10] IR\n",
      "├ Cell[0, 11] IR\n",
      "├ Cell[0, 12] IR\n",
      "├ Cell[0, 13] IR\n",
      "├ Cell[0, 14] IR\n",
      "├ Cell[0, 15] IR\n",
      "Chain[1]\n",
      "├ Cell[1, 0] UV\n",
      "├ Cell[1, 1] UV\n",
      "├ Cell[1, 2] IR\n",
      "├ Cell[1, 3] UV\n",
      "├ Cell[1, 4] UV\n",
      "├ Cell[1, 5] IR\n",
      "├ Cell[1, 6] UV\n",
      "├ Cell[1, 7] UV\n",
      "├ Cell[1, 8] IR\n",
      "├ Cell[1, 9] UV\n",
      "├ Cell[1, 10] UV\n",
      "├ Cell[1, 11] IR\n",
      "├ Cell[1, 12] UV\n",
      "├ Cell[1, 13] UV\n",
      "├ Cell[1, 14] IR\n",
      "├ Cell[1, 15] UV\n",
      "├ Cell[1, 16] UV\n",
      "├ Cell[1, 17] IR\n",
      "├ Cell[1, 18] UV\n",
      "├ Cell[1, 19] UV\n",
      "├ Cell[1, 20] IR\n",
      "├ Cell[1, 21] UV\n",
      "├ Cell[1, 22] UV\n",
      "├ Cell[1, 23] IR\n",
      "Chain[2]\n",
      "├ Cell[2, 0] UV\n",
      "├ Cell[2, 1] UV\n",
      "├ Cell[2, 2] IR\n",
      "├ Cell[2, 3] UV\n",
      "├ Cell[2, 4] UV\n",
      "├ Cell[2, 5] IR\n",
      "├ Cell[2, 6] UV\n",
      "├ Cell[2, 7] UV\n",
      "├ Cell[2, 8] IR\n",
      "├ Cell[2, 9] UV\n",
      "├ Cell[2, 10] UV\n",
      "├ Cell[2, 11] IR\n",
      "Chain[3]\n",
      "├ Cell[3, 0] UV\n",
      "├ Cell[3, 1] UV\n",
      "├ Cell[3, 2] IR\n",
      "├ Cell[3, 3] UV\n",
      "├ Cell[3, 4] UV\n",
      "├ Cell[3, 5] IR\n",
      "Chain[4]\n",
      "├ Cell[4, 0] UV\n",
      "├ Cell[4, 1] UV\n"
     ]
    }
   ],
   "source": [
    "%run 'Ising.py'\n",
    "latt = SSLattice(width = 16, depth = 5, pattern = [-1,-1,1])\n",
    "latt.print_structure(upto = 'cell')"
   ]
  },
  {
   "cell_type": "markdown",
   "metadata": {},
   "source": [
    "### Test"
   ]
  },
  {
   "cell_type": "code",
   "execution_count": 298,
   "metadata": {
    "collapsed": false
   },
   "outputs": [],
   "source": [
    "%run 'Ising.py'\n",
    "machine = EFL(FreeFermion(mass=1.e-10, size=128), IsingModel(SSLattice(width = 16, depth = 5, pattern = [-1,-1,1])))\n",
    "machine.initialize()"
   ]
  },
  {
   "cell_type": "code",
   "execution_count": 328,
   "metadata": {
    "collapsed": false
   },
   "outputs": [
    {
     "name": "stdout",
     "output_type": "stream",
     "text": [
      "(0.00054776735837535544, array([ 0.186,  0.173,  0.114,  0.054]))\n",
      "(0.00054717380290481585, array([ 0.186,  0.173,  0.114,  0.054]))\n",
      "(0.00054658386136046929, array([ 0.186,  0.173,  0.114,  0.054]))\n",
      "(0.0005459982481037859, array([ 0.186,  0.172,  0.114,  0.054]))\n",
      "(0.00054541739671703409, array([ 0.186,  0.172,  0.114,  0.054]))\n"
     ]
    }
   ],
   "source": [
    "for i in range(5):\n",
    "    print(machine.train(1, check = 1))"
   ]
  },
  {
   "cell_type": "code",
   "execution_count": 335,
   "metadata": {
    "collapsed": false
   },
   "outputs": [
    {
     "data": {
      "text/plain": [
       "array([-0.065, -0.020, -0.032, ...,  0.010, -0.027,  0.047])"
      ]
     },
     "execution_count": 335,
     "metadata": {},
     "output_type": "execute_result"
    }
   ],
   "source": [
    "machine.data.source[machine.model.Ssys]/machine.session.run(machine.model.Smdl, machine.data.source)-1."
   ]
  },
  {
   "cell_type": "code",
   "execution_count": 259,
   "metadata": {
    "collapsed": false
   },
   "outputs": [
    {
     "data": {
      "text/plain": [
       "[0.20459527044081585,\n",
       " 0.17447496695996442,\n",
       " 0.33129932080427993,\n",
       " 0.36228710028371003]"
      ]
     },
     "execution_count": 259,
     "metadata": {},
     "output_type": "execute_result"
    }
   ],
   "source": [
    "list(machine.model.J.eval(machine.session))"
   ]
  },
  {
   "cell_type": "code",
   "execution_count": 302,
   "metadata": {
    "collapsed": false
   },
   "outputs": [
    {
     "name": "stdout",
     "output_type": "stream",
     "text": [
      "[array([-44.727, -44.724, -44.486, ..., -43.511, -43.956, -43.067]), -44.982257622410891]\n"
     ]
    }
   ],
   "source": [
    "print(machine.session.run([machine.model.Fs,machine.model.F0],machine.data.source))"
   ]
  },
  {
   "cell_type": "code",
   "execution_count": 303,
   "metadata": {
    "collapsed": false
   },
   "outputs": [
    {
     "data": {
      "text/plain": [
       "1161"
      ]
     },
     "execution_count": 303,
     "metadata": {},
     "output_type": "execute_result"
    }
   ],
   "source": [
    "len(machine.data.source[machine.model.Ssys])"
   ]
  },
  {
   "cell_type": "markdown",
   "metadata": {
    "collapsed": false
   },
   "source": [
    "## Performance\n",
    "### Implementing LogDet\n",
    "Define logdet and its gradient"
   ]
  },
  {
   "cell_type": "code",
   "execution_count": 1,
   "metadata": {
    "collapsed": false
   },
   "outputs": [],
   "source": [
    "import numpy as np\n",
    "import tensorflow as tf\n",
    "# from https://gist.github.com/harpone/3453185b41d8d985356cbe5e57d67342\n",
    "# Define custom py_func which takes also a grad op as argument:\n",
    "def py_func(func, inp, Tout, stateful=True, name=None, grad=None):\n",
    "    # Need to generate a unique name to avoid duplicates:\n",
    "    rnd_name = 'PyFuncGrad' + str(np.random.randint(0, 1E+8))\n",
    "    tf.RegisterGradient(rnd_name)(grad)  # see _MySquareGrad for grad example\n",
    "    g = tf.get_default_graph()\n",
    "    with g.gradient_override_map({\"PyFunc\": rnd_name}):\n",
    "        return tf.py_func(func, inp, Tout, stateful=stateful, name=name)\n",
    "# from https://github.com/tensorflow/tensorflow/blob/master/tensorflow/python/ops/linalg_grad.py\n",
    "# Gradient for logdet\n",
    "def logdet_grad(op, grad):\n",
    "    a = op.inputs[0]\n",
    "    a_adj_inv = tf.matrix_inverse(a, adjoint=True)\n",
    "    out_shape = tf.concat([tf.shape(a)[:-2], [1, 1]], axis=0)\n",
    "    return tf.reshape(grad, out_shape) * a_adj_inv\n",
    "# define logdet by calling numpy.linalg.slogdet\n",
    "def logdet(a, name = None):\n",
    "    with tf.name_scope(name, 'LogDet', [a]) as name:\n",
    "        res = py_func(lambda a: np.linalg.slogdet(a)[1], \n",
    "                      [a], \n",
    "                      tf.float64, \n",
    "                      name=name, \n",
    "                      grad=logdet_grad) # set the gradient\n",
    "        return res"
   ]
  },
  {
   "cell_type": "markdown",
   "metadata": {},
   "source": [
    "test"
   ]
  },
  {
   "cell_type": "code",
   "execution_count": 2,
   "metadata": {
    "collapsed": false
   },
   "outputs": [
    {
     "data": {
      "text/plain": [
       "[array([[[ 4.,  0.],\n",
       "         [ 0.,  2.]],\n",
       " \n",
       "        [[ 2.,  1.],\n",
       "         [ 3.,  4.]]]),\n",
       " array([ 2.07944154,  1.60943791]),\n",
       " [array([[ 0.25,  0.  ,  0.  ,  0.5 ],\n",
       "         [ 0.8 , -0.6 , -0.2 ,  0.4 ]])]]"
      ]
     },
     "execution_count": 2,
     "metadata": {},
     "output_type": "execute_result"
    }
   ],
   "source": [
    "sess = tf.Session()\n",
    "v = tf.Variable(np.array([[4.,0.,0.,2.],[2.,1.,3.,4.]]))\n",
    "T = tf.constant(np.array([[[1.,0.],[0.,0.]],[[0.,1.],[0.,0.]],[[0.,0.],[1.,0.]],[[0.,0.],[0.,1.]]]))\n",
    "x = tf.tensordot(v, T, axes = 1)\n",
    "y = logdet(x)\n",
    "g = tf.gradients(y, [v])\n",
    "sess.run(tf.global_variables_initializer())\n",
    "sess.run([x, y, g])"
   ]
  },
  {
   "cell_type": "code",
   "execution_count": 4,
   "metadata": {
    "collapsed": false
   },
   "outputs": [
    {
     "name": "stdout",
     "output_type": "stream",
     "text": [
      "[1151.2925464970251, [array([ 50.])]]\n"
     ]
    }
   ],
   "source": [
    "i = tf.constant(np.eye(500))\n",
    "x = tf.Variable(np.array([10.]))\n",
    "y = logdet(x*i)\n",
    "dy = tf.gradients(y, [x])\n",
    "with tf.Session() as sess:\n",
    "    sess.run(tf.global_variables_initializer())\n",
    "    print(sess.run([y, dy]))"
   ]
  },
  {
   "cell_type": "markdown",
   "metadata": {},
   "source": [
    "### Benchmark"
   ]
  },
  {
   "cell_type": "code",
   "execution_count": 6,
   "metadata": {
    "collapsed": false
   },
   "outputs": [],
   "source": [
    "%run 'Ising.py'\n",
    "machine = EFL(FreeFermion(mass=1.e-10, size=128), IsingModel(SSLattice(width = 16, depth = 5, pattern = [-1,-1,1])))\n",
    "machine.initialize()"
   ]
  },
  {
   "cell_type": "code",
   "execution_count": 43,
   "metadata": {
    "collapsed": false
   },
   "outputs": [
    {
     "name": "stdout",
     "output_type": "stream",
     "text": [
      "(0.0016886740341688002, array([ 0.275,  0.026,  0.012,  0.073]))\n",
      "(0.001681922492786037, array([ 0.275,  0.024,  0.012,  0.073]))\n"
     ]
    }
   ],
   "source": [
    "for i in range(2):\n",
    "    print(machine.train(1, check = 1))"
   ]
  },
  {
   "cell_type": "code",
   "execution_count": 29,
   "metadata": {
    "collapsed": false
   },
   "outputs": [
    {
     "data": {
      "text/plain": [
       "[0.25357365033744755,\n",
       " 0.13065293065882538,\n",
       " 0.093628131393413694,\n",
       " 0.055901301696411297]"
      ]
     },
     "execution_count": 29,
     "metadata": {},
     "output_type": "execute_result"
    }
   ],
   "source": [
    "list(machine.model.J.eval(machine.session))"
   ]
  },
  {
   "cell_type": "code",
   "execution_count": 45,
   "metadata": {
    "collapsed": false
   },
   "outputs": [
    {
     "data": {
      "text/plain": [
       "array([ 0.254,  0.131,  0.094,  0.056])"
      ]
     },
     "execution_count": 45,
     "metadata": {},
     "output_type": "execute_result"
    }
   ],
   "source": [
    "machine.session.run(machine.model.J.assign(\n",
    "        [0.25357365033744755,\n",
    "         0.13065293065882538,\n",
    "         0.093628131393413694,\n",
    "         0.055901301696411297]))"
   ]
  },
  {
   "cell_type": "code",
   "execution_count": 46,
   "metadata": {
    "collapsed": false
   },
   "outputs": [
    {
     "data": {
      "text/plain": [
       "0.0024871075361979638"
      ]
     },
     "execution_count": 46,
     "metadata": {},
     "output_type": "execute_result"
    }
   ],
   "source": [
    "machine.session.run(machine.model.MSE, machine.data.source)"
   ]
  },
  {
   "cell_type": "code",
   "execution_count": 7,
   "metadata": {
    "collapsed": true
   },
   "outputs": [],
   "source": [
    "machine.writer.add_graph(machine.graph) "
   ]
  },
  {
   "cell_type": "code",
   "execution_count": null,
   "metadata": {
    "collapsed": true
   },
   "outputs": [],
   "source": []
  }
 ],
 "metadata": {
  "kernelspec": {
   "display_name": "Python 3",
   "language": "python",
   "name": "python3"
  },
  "language_info": {
   "codemirror_mode": {
    "name": "ipython",
    "version": 3
   },
   "file_extension": ".py",
   "mimetype": "text/x-python",
   "name": "python",
   "nbconvert_exporter": "python",
   "pygments_lexer": "ipython3",
   "version": "3.5.1"
  }
 },
 "nbformat": 4,
 "nbformat_minor": 0
}
