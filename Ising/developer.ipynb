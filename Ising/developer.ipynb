{
 "cells": [
  {
   "cell_type": "markdown",
   "metadata": {},
   "source": [
    "Import Tensorflow and open a session."
   ]
  },
  {
   "cell_type": "code",
   "execution_count": 2,
   "metadata": {
    "collapsed": false
   },
   "outputs": [],
   "source": [
    "%run 'EFL.py'"
   ]
  },
  {
   "cell_type": "markdown",
   "metadata": {},
   "source": [
    "### Determinant\n",
    "Calculate matrix determinant"
   ]
  },
  {
   "cell_type": "code",
   "execution_count": 4,
   "metadata": {
    "collapsed": false
   },
   "outputs": [
    {
     "data": {
      "text/plain": [
       "9.0"
      ]
     },
     "execution_count": 4,
     "metadata": {},
     "output_type": "execute_result"
    }
   ],
   "source": [
    "W = tf.constant([[0.,1.,1.,1.],\n",
    "                 [-1.,0.,1.,-1.],\n",
    "                 [-1.,-1.,0.,1.],\n",
    "                 [-1.,1.,-1.,0.]])\n",
    "f = tf.matrix_determinant(W)\n",
    "tf.Session().run(f)"
   ]
  },
  {
   "cell_type": "markdown",
   "metadata": {},
   "source": [
    "Train by minimizing the ln(det(W)). TF knows how to do the gradient."
   ]
  },
  {
   "cell_type": "code",
   "execution_count": 5,
   "metadata": {
    "collapsed": false
   },
   "outputs": [
    {
     "name": "stdout",
     "output_type": "stream",
     "text": [
      "2.06162\n",
      "1.91632\n",
      "1.75986\n",
      "1.5904\n",
      "1.4056\n"
     ]
    }
   ],
   "source": [
    "W = tf.Variable([[0.,1.,1.,1.],\n",
    "                 [-1.,0.,1.,-1.],\n",
    "                 [-1.,-1.,0.,1.],\n",
    "                 [-1.,1.,-1.,0.]])\n",
    "f = tf.log(tf.matrix_determinant(W))\n",
    "init = tf.global_variables_initializer()\n",
    "optimizer = tf.train.GradientDescentOptimizer(0.1)\n",
    "train = optimizer.minimize(f)\n",
    "sess = tf.Session()\n",
    "sess.run(init)\n",
    "for i in range(5):\n",
    "    sess.run(train)\n",
    "    print(sess.run(f))"
   ]
  },
  {
   "cell_type": "markdown",
   "metadata": {},
   "source": [
    "### Sparse Tensor\n",
    "Sparse tensor must be converted to dense when passed to the determinant op."
   ]
  },
  {
   "cell_type": "code",
   "execution_count": 337,
   "metadata": {
    "collapsed": false
   },
   "outputs": [
    {
     "data": {
      "text/plain": [
       "0.69314718"
      ]
     },
     "execution_count": 337,
     "metadata": {},
     "output_type": "execute_result"
    }
   ],
   "source": [
    "W = tf.SparseTensor(indices=[[0, 0], [1, 1]], values=[1., 2.], dense_shape=[2, 2])\n",
    "W_dense = tf.sparse_tensor_to_dense(W)\n",
    "f = tf.log(tf.matrix_determinant(W_dense))\n",
    "sess.run(f)"
   ]
  },
  {
   "cell_type": "markdown",
   "metadata": {},
   "source": [
    "## Entanglement\n",
    "### Entanglement Regions"
   ]
  },
  {
   "cell_type": "code",
   "execution_count": 655,
   "metadata": {
    "collapsed": false
   },
   "outputs": [
    {
     "data": {
      "text/plain": [
       "[{2, 3}, {0, 1}, {1, 2}, {0, 3}]"
      ]
     },
     "execution_count": 655,
     "metadata": {},
     "output_type": "execute_result"
    }
   ],
   "source": [
    "list(Region({1,2},4).equivalences())"
   ]
  },
  {
   "cell_type": "code",
   "execution_count": 654,
   "metadata": {
    "collapsed": false
   },
   "outputs": [
    {
     "data": {
      "text/plain": [
       "array([ 1.000, -1.000, -1.000,  1.000])"
      ]
     },
     "execution_count": 654,
     "metadata": {},
     "output_type": "execute_result"
    }
   ],
   "source": [
    "Region({1,2},4).config()"
   ]
  },
  {
   "cell_type": "code",
   "execution_count": 651,
   "metadata": {
    "collapsed": false
   },
   "outputs": [
    {
     "data": {
      "text/plain": [
       "[{0}, {0, 1}, {0, 1, 2}, {0, 1, 2, 3}]"
      ]
     },
     "execution_count": 651,
     "metadata": {},
     "output_type": "execute_result"
    }
   ],
   "source": [
    "list(RegionServer(8).consecutive())"
   ]
  },
  {
   "cell_type": "code",
   "execution_count": 653,
   "metadata": {
    "collapsed": false
   },
   "outputs": [
    {
     "data": {
      "text/plain": [
       "[{0}, {0, 1}, {0, 2}, {0, 3}, {0, 1, 2}, {0, 1, 3}, {0, 2, 4}]"
      ]
     },
     "execution_count": 653,
     "metadata": {},
     "output_type": "execute_result"
    }
   ],
   "source": [
    "list(RegionServer(6).representative())"
   ]
  },
  {
   "cell_type": "code",
   "execution_count": 801,
   "metadata": {
    "collapsed": false
   },
   "outputs": [
    {
     "data": {
      "text/plain": [
       "[{1, 2, 3, 4, 6},\n",
       " {0, 1, 2},\n",
       " {0, 3, 4},\n",
       " {5},\n",
       " {0, 1, 4, 5},\n",
       " {0, 1, 3, 4, 5},\n",
       " {1, 2, 3, 4, 5, 6},\n",
       " {2, 3, 6}]"
      ]
     },
     "execution_count": 801,
     "metadata": {},
     "output_type": "execute_result"
    }
   ],
   "source": [
    "list(RegionServer(8).multiple(1,2))"
   ]
  },
  {
   "cell_type": "code",
   "execution_count": 802,
   "metadata": {
    "collapsed": false
   },
   "outputs": [
    {
     "data": {
      "text/plain": [
       "[{3, 5, 6}, {3, 4, 5}, {4, 5}, {2}, {3, 4, 5}, {2, 3, 5, 6}, {0, 1}, {1}]"
      ]
     },
     "execution_count": 802,
     "metadata": {},
     "output_type": "execute_result"
    }
   ],
   "source": [
    "list(RegionServer(8).weighted())"
   ]
  },
  {
   "cell_type": "markdown",
   "metadata": {},
   "source": [
    "### Entanglement Entropy\n",
    "Entanglement entropy of free fermion.\n",
    "$$H=\\sum_{i}(1+(-)^i m)\\mathrm{i}\\chi_{i}\\chi_{i+1}$$"
   ]
  },
  {
   "cell_type": "code",
   "execution_count": 745,
   "metadata": {
    "collapsed": false
   },
   "outputs": [
    {
     "data": {
      "text/plain": [
       "0.84523244468672853"
      ]
     },
     "execution_count": 745,
     "metadata": {},
     "output_type": "execute_result"
    }
   ],
   "source": [
    "system = FreeFermion(mass=1.e-10, size=8)\n",
    "system.S([0,1,2,3,4])"
   ]
  },
  {
   "cell_type": "markdown",
   "metadata": {
    "collapsed": false
   },
   "source": [
    "### Square Lattice Adjacency Matices"
   ]
  },
  {
   "cell_type": "code",
   "execution_count": 297,
   "metadata": {
    "collapsed": false
   },
   "outputs": [
    {
     "name": "stdout",
     "output_type": "stream",
     "text": [
      "depth =  5\n",
      "Chain[0]\n",
      "├ Cell[0, 0] IR\n",
      "├ Cell[0, 1] IR\n",
      "├ Cell[0, 2] IR\n",
      "├ Cell[0, 3] IR\n",
      "├ Cell[0, 4] IR\n",
      "├ Cell[0, 5] IR\n",
      "├ Cell[0, 6] IR\n",
      "├ Cell[0, 7] IR\n",
      "├ Cell[0, 8] IR\n",
      "├ Cell[0, 9] IR\n",
      "├ Cell[0, 10] IR\n",
      "├ Cell[0, 11] IR\n",
      "├ Cell[0, 12] IR\n",
      "├ Cell[0, 13] IR\n",
      "├ Cell[0, 14] IR\n",
      "├ Cell[0, 15] IR\n",
      "Chain[1]\n",
      "├ Cell[1, 0] UV\n",
      "├ Cell[1, 1] UV\n",
      "├ Cell[1, 2] IR\n",
      "├ Cell[1, 3] UV\n",
      "├ Cell[1, 4] UV\n",
      "├ Cell[1, 5] IR\n",
      "├ Cell[1, 6] UV\n",
      "├ Cell[1, 7] UV\n",
      "├ Cell[1, 8] IR\n",
      "├ Cell[1, 9] UV\n",
      "├ Cell[1, 10] UV\n",
      "├ Cell[1, 11] IR\n",
      "├ Cell[1, 12] UV\n",
      "├ Cell[1, 13] UV\n",
      "├ Cell[1, 14] IR\n",
      "├ Cell[1, 15] UV\n",
      "├ Cell[1, 16] UV\n",
      "├ Cell[1, 17] IR\n",
      "├ Cell[1, 18] UV\n",
      "├ Cell[1, 19] UV\n",
      "├ Cell[1, 20] IR\n",
      "├ Cell[1, 21] UV\n",
      "├ Cell[1, 22] UV\n",
      "├ Cell[1, 23] IR\n",
      "Chain[2]\n",
      "├ Cell[2, 0] UV\n",
      "├ Cell[2, 1] UV\n",
      "├ Cell[2, 2] IR\n",
      "├ Cell[2, 3] UV\n",
      "├ Cell[2, 4] UV\n",
      "├ Cell[2, 5] IR\n",
      "├ Cell[2, 6] UV\n",
      "├ Cell[2, 7] UV\n",
      "├ Cell[2, 8] IR\n",
      "├ Cell[2, 9] UV\n",
      "├ Cell[2, 10] UV\n",
      "├ Cell[2, 11] IR\n",
      "Chain[3]\n",
      "├ Cell[3, 0] UV\n",
      "├ Cell[3, 1] UV\n",
      "├ Cell[3, 2] IR\n",
      "├ Cell[3, 3] UV\n",
      "├ Cell[3, 4] UV\n",
      "├ Cell[3, 5] IR\n",
      "Chain[4]\n",
      "├ Cell[4, 0] UV\n",
      "├ Cell[4, 1] UV\n"
     ]
    }
   ],
   "source": [
    "%run 'Ising.py'\n",
    "latt = SSLattice(width = 16, depth = 5, pattern = [-1,-1,1])\n",
    "latt.print_structure(upto = 'cell')"
   ]
  },
  {
   "cell_type": "markdown",
   "metadata": {
    "collapsed": false
   },
   "source": [
    "## Performance\n",
    "### Implementing LogDet\n",
    "Define logdet and its gradient"
   ]
  },
  {
   "cell_type": "code",
   "execution_count": 72,
   "metadata": {
    "collapsed": false
   },
   "outputs": [],
   "source": [
    "import numpy as np\n",
    "import tensorflow as tf\n",
    "# from https://gist.github.com/harpone/3453185b41d8d985356cbe5e57d67342\n",
    "# Define custom py_func which takes also a grad op as argument:\n",
    "def py_func(func, inp, Tout, stateful=True, name=None, grad=None):\n",
    "    # Need to generate a unique name to avoid duplicates:\n",
    "    rnd_name = 'PyFuncGrad' + str(np.random.randint(0, 1E+8))\n",
    "    tf.RegisterGradient(rnd_name)(grad)  # see _MySquareGrad for grad example\n",
    "    g = tf.get_default_graph()\n",
    "    with g.gradient_override_map({\"PyFunc\": rnd_name}):\n",
    "        return tf.py_func(func, inp, Tout, stateful=stateful, name=name)\n",
    "# from https://github.com/tensorflow/tensorflow/blob/master/tensorflow/python/ops/linalg_grad.py\n",
    "# Gradient for logdet\n",
    "def logdet_grad(op, grad):\n",
    "    a = op.inputs[0]\n",
    "    a_adj_inv = tf.check_numerics(\n",
    "                tf.matrix_inverse(a, adjoint=True), \n",
    "                'zero determinant')\n",
    "    out_shape = tf.concat([tf.shape(a)[:-2], [1, 1]], axis=0)\n",
    "    return tf.reshape(grad, out_shape) * a_adj_inv\n",
    "# define logdet by calling numpy.linalg.slogdet\n",
    "def logdet(a, name = None):\n",
    "    with tf.name_scope(name, 'LogDet', [a]) as name:\n",
    "        res = tf.check_numerics(\n",
    "                py_func(lambda a: np.linalg.slogdet(a)[1], \n",
    "                      [a], \n",
    "                      tf.float64, \n",
    "                      name=name, \n",
    "                      grad=logdet_grad), # set the gradient\n",
    "                'zero determinant')\n",
    "        return res"
   ]
  },
  {
   "cell_type": "markdown",
   "metadata": {},
   "source": [
    "test"
   ]
  },
  {
   "cell_type": "code",
   "execution_count": 2,
   "metadata": {
    "collapsed": false
   },
   "outputs": [
    {
     "data": {
      "text/plain": [
       "[array([[[ 4.,  0.],\n",
       "         [ 0.,  2.]],\n",
       " \n",
       "        [[ 2.,  1.],\n",
       "         [ 3.,  4.]]]),\n",
       " array([ 2.07944154,  1.60943791]),\n",
       " [array([[ 0.25,  0.  ,  0.  ,  0.5 ],\n",
       "         [ 0.8 , -0.6 , -0.2 ,  0.4 ]])]]"
      ]
     },
     "execution_count": 2,
     "metadata": {},
     "output_type": "execute_result"
    }
   ],
   "source": [
    "sess = tf.Session()\n",
    "v = tf.Variable(np.array([[4.,0.,0.,2.],[2.,1.,3.,4.]]))\n",
    "T = tf.constant(np.array([[[1.,0.],[0.,0.]],[[0.,1.],[0.,0.]],[[0.,0.],[1.,0.]],[[0.,0.],[0.,1.]]]))\n",
    "x = tf.tensordot(v, T, axes = 1)\n",
    "y = logdet(x)\n",
    "g = tf.gradients(y, [v])\n",
    "sess.run(tf.global_variables_initializer())\n",
    "sess.run([x, y, g])"
   ]
  },
  {
   "cell_type": "code",
   "execution_count": 4,
   "metadata": {
    "collapsed": false
   },
   "outputs": [
    {
     "name": "stdout",
     "output_type": "stream",
     "text": [
      "[1151.2925464970251, [array([ 50.])]]\n"
     ]
    }
   ],
   "source": [
    "i = tf.constant(np.eye(500))\n",
    "x = tf.Variable(np.array([10.]))\n",
    "y = logdet(x*i)\n",
    "dy = tf.gradients(y, [x])\n",
    "with tf.Session() as sess:\n",
    "    sess.run(tf.global_variables_initializer())\n",
    "    print(sess.run([y, dy]))"
   ]
  },
  {
   "cell_type": "markdown",
   "metadata": {},
   "source": [
    "Error handling."
   ]
  },
  {
   "cell_type": "code",
   "execution_count": 74,
   "metadata": {
    "collapsed": false
   },
   "outputs": [
    {
     "name": "stdout",
     "output_type": "stream",
     "text": [
      "error\n"
     ]
    }
   ],
   "source": [
    "#%run EFL.py\n",
    "a = tf.constant(np.array([[[1.0, 2.01], [2.0, 4.0]],[[1.0, 2.00], [2.0, 4.0]]]))\n",
    "x = logdet(a)\n",
    "with tf.Session() as sess:\n",
    "    try:\n",
    "        out = sess.run(x)\n",
    "        print(out)\n",
    "    except tf.errors.InvalidArgumentError:\n",
    "        print('error')"
   ]
  },
  {
   "cell_type": "markdown",
   "metadata": {},
   "source": [
    "# Test Field"
   ]
  },
  {
   "cell_type": "code",
   "execution_count": 293,
   "metadata": {
    "collapsed": false
   },
   "outputs": [],
   "source": [
    "%run 'EFL.py'\n",
    "machine = Machine(\n",
    "    IsingModel(SSLattice(width=32,depth=100,pattern=[-1,-1,1])),\n",
    "    FreeFermion(size=64,mass=1e-8,c=8.),method='weighted')"
   ]
  },
  {
   "cell_type": "code",
   "execution_count": 295,
   "metadata": {
    "collapsed": false
   },
   "outputs": [
    {
     "name": "stdout",
     "output_type": "stream",
     "text": [
      "(0.010290273517075454, array([ 0.456,  0.448,  0.430,  0.418,  0.417]))\n",
      "(0.056979992414293835, array([ 0.480,  0.450,  0.411,  0.397,  0.396]))\n",
      "(0.013543650895596357, array([ 0.501,  0.439,  0.387,  0.372,  0.371]))\n",
      "(0.0081425617708130223, array([ 0.526,  0.435,  0.363,  0.348,  0.346]))\n",
      "(0.0089739064728313351, array([ 0.545,  0.424,  0.338,  0.322,  0.321]))\n"
     ]
    }
   ],
   "source": [
    "for i in range(5):\n",
    "    machine.train(16, learning_rate=0.002, beta1=0.9)\n",
    "    print(machine.session.run((machine.model.MSE, machine.model.J), machine.feed))"
   ]
  },
  {
   "cell_type": "code",
   "execution_count": 34,
   "metadata": {
    "collapsed": false
   },
   "outputs": [
    {
     "name": "stdout",
     "output_type": "stream",
     "text": [
      "INFO:tensorflow:Saving parameters to ./machine/Ising(SSLatt(16,100,UUI))FF(32,0.00,8.0)random\n"
     ]
    }
   ],
   "source": [
    "machine.save()"
   ]
  },
  {
   "cell_type": "code",
   "execution_count": 40,
   "metadata": {
    "collapsed": false
   },
   "outputs": [
    {
     "name": "stdout",
     "output_type": "stream",
     "text": [
      "INFO:tensorflow:Restoring parameters from ./machine/Ising(SSLatt(16,100,UUI))FF(32,0.00,8.0)random\n"
     ]
    }
   ],
   "source": [
    "machine.load()"
   ]
  },
  {
   "cell_type": "code",
   "execution_count": 16,
   "metadata": {
    "collapsed": false
   },
   "outputs": [
    {
     "data": {
      "text/plain": [
       "[nan, nan, nan, nan]"
      ]
     },
     "execution_count": 16,
     "metadata": {},
     "output_type": "execute_result"
    }
   ],
   "source": [
    "list(machine.model.J.eval(machine.session))"
   ]
  },
  {
   "cell_type": "code",
   "execution_count": 1313,
   "metadata": {
    "collapsed": false
   },
   "outputs": [
    {
     "data": {
      "text/plain": [
       "[array([ 0.160,  0.114,  0.081,  0.051])]"
      ]
     },
     "execution_count": 1313,
     "metadata": {},
     "output_type": "execute_result"
    }
   ],
   "source": [
    "machine.session.run([machine.model.J])"
   ]
  },
  {
   "cell_type": "code",
   "execution_count": 1122,
   "metadata": {
    "collapsed": false
   },
   "outputs": [
    {
     "data": {
      "text/plain": [
       "array([ 0.663,  0.203,  0.203,  0.203,  0.203])"
      ]
     },
     "execution_count": 1122,
     "metadata": {},
     "output_type": "execute_result"
    }
   ],
   "source": [
    "machine.session.run(machine.model.J.assign(\n",
    "    [0.663,0.203,0.203,0.203,0.203]))"
   ]
  },
  {
   "cell_type": "code",
   "execution_count": 304,
   "metadata": {
    "collapsed": false
   },
   "outputs": [
    {
     "data": {
      "text/plain": [
       "array([ 0.262,  0.073,  0.075,  0.070])"
      ]
     },
     "execution_count": 304,
     "metadata": {},
     "output_type": "execute_result"
    }
   ],
   "source": [
    "machine.session.run(machine.model.J.assign(\n",
    "        [0.26182317194354604,\n",
    "         0.072700507415155574,\n",
    "         0.075061925104706717,\n",
    "         0.070486877299682602]))"
   ]
  },
  {
   "cell_type": "code",
   "execution_count": 269,
   "metadata": {
    "collapsed": false
   },
   "outputs": [
    {
     "data": {
      "text/plain": [
       "0.0015292747072339101"
      ]
     },
     "execution_count": 269,
     "metadata": {},
     "output_type": "execute_result"
    }
   ],
   "source": [
    "machine.session.run(machine.model.MSE, machine.data_server.fetch('random', batch=32))"
   ]
  },
  {
   "cell_type": "code",
   "execution_count": 268,
   "metadata": {
    "collapsed": false
   },
   "outputs": [
    {
     "data": {
      "text/plain": [
       "0.00051220772005113231"
      ]
     },
     "execution_count": 268,
     "metadata": {},
     "output_type": "execute_result"
    }
   ],
   "source": [
    "machine.session.run(machine.model.MSE, machine.data_server.fetch('consecutive'))"
   ]
  },
  {
   "cell_type": "code",
   "execution_count": 6,
   "metadata": {
    "collapsed": false
   },
   "outputs": [
    {
     "data": {
      "text/plain": [
       "300"
      ]
     },
     "execution_count": 6,
     "metadata": {},
     "output_type": "execute_result"
    }
   ],
   "source": [
    "machine.session.run(machine.step)"
   ]
  },
  {
   "cell_type": "code",
   "execution_count": 46,
   "metadata": {
    "collapsed": false
   },
   "outputs": [],
   "source": [
    "machine.add_graph()"
   ]
  },
  {
   "cell_type": "code",
   "execution_count": null,
   "metadata": {
    "collapsed": false
   },
   "outputs": [],
   "source": []
  },
  {
   "cell_type": "code",
   "execution_count": 288,
   "metadata": {
    "collapsed": false
   },
   "outputs": [],
   "source": [
    "machine = Machine(\n",
    "    IsingModel(SSLattice(width=32,depth=100,pattern=[-1,-1,1])),\n",
    "    FreeFermion(size=64,mass=1e-8,c=8.),method='weighted')"
   ]
  },
  {
   "cell_type": "code",
   "execution_count": 287,
   "metadata": {
    "collapsed": false
   },
   "outputs": [
    {
     "ename": "AttributeError",
     "evalue": "'DataServer' object has no attribute 'lnD'",
     "output_type": "error",
     "traceback": [
      "\u001b[0;31m---------------------------------------------------------------------------\u001b[0m",
      "\u001b[0;31mAttributeError\u001b[0m                            Traceback (most recent call last)",
      "\u001b[0;32m<ipython-input-287-e222df2b9f30>\u001b[0m in \u001b[0;36m<module>\u001b[0;34m()\u001b[0m\n\u001b[1;32m      1\u001b[0m \u001b[0;32mfor\u001b[0m \u001b[0mi\u001b[0m \u001b[0;32min\u001b[0m \u001b[0mrange\u001b[0m\u001b[0;34m(\u001b[0m\u001b[0;36m5\u001b[0m\u001b[0;34m)\u001b[0m\u001b[0;34m:\u001b[0m\u001b[0;34m\u001b[0m\u001b[0m\n\u001b[0;32m----> 2\u001b[0;31m     \u001b[0mmachine\u001b[0m\u001b[0;34m.\u001b[0m\u001b[0mtrain\u001b[0m\u001b[0;34m(\u001b[0m\u001b[0;36m16\u001b[0m\u001b[0;34m,\u001b[0m \u001b[0mlearning_rate\u001b[0m\u001b[0;34m=\u001b[0m\u001b[0;36m0.005\u001b[0m\u001b[0;34m,\u001b[0m \u001b[0mbeta1\u001b[0m\u001b[0;34m=\u001b[0m\u001b[0;36m0.9\u001b[0m\u001b[0;34m)\u001b[0m\u001b[0;34m\u001b[0m\u001b[0m\n\u001b[0m\u001b[1;32m      3\u001b[0m     \u001b[0mprint\u001b[0m\u001b[0;34m(\u001b[0m\u001b[0mmachine\u001b[0m\u001b[0;34m.\u001b[0m\u001b[0msession\u001b[0m\u001b[0;34m.\u001b[0m\u001b[0mrun\u001b[0m\u001b[0;34m(\u001b[0m\u001b[0;34m(\u001b[0m\u001b[0mmachine\u001b[0m\u001b[0;34m.\u001b[0m\u001b[0mmodel\u001b[0m\u001b[0;34m.\u001b[0m\u001b[0mMSE\u001b[0m\u001b[0;34m,\u001b[0m \u001b[0mmachine\u001b[0m\u001b[0;34m.\u001b[0m\u001b[0mmodel\u001b[0m\u001b[0;34m.\u001b[0m\u001b[0mJ\u001b[0m\u001b[0;34m)\u001b[0m\u001b[0;34m,\u001b[0m \u001b[0mmachine\u001b[0m\u001b[0;34m.\u001b[0m\u001b[0mfeed\u001b[0m\u001b[0;34m)\u001b[0m\u001b[0;34m)\u001b[0m\u001b[0;34m\u001b[0m\u001b[0m\n",
      "\u001b[0;32m/Users/everett/Dropbox/Projects/[XLQi]RTN/EFL/Ising/EFL.py\u001b[0m in \u001b[0;36mtrain\u001b[0;34m(self, steps, check, method, batch, learning_rate, beta1, beta2, epsilon)\u001b[0m\n\u001b[1;32m    677\u001b[0m     def train(self, steps=1, check=20, method=None, batch=None, \n\u001b[1;32m    678\u001b[0m             learning_rate=0.005, beta1=0.9, beta2=0.9, epsilon=1e-8):\n\u001b[0;32m--> 679\u001b[0;31m         \u001b[0mself\u001b[0m\u001b[0;34m.\u001b[0m\u001b[0mbuild\u001b[0m\u001b[0;34m(\u001b[0m\u001b[0;34m)\u001b[0m \u001b[0;31m# if not built, build it\u001b[0m\u001b[0;34m\u001b[0m\u001b[0m\n\u001b[0m\u001b[1;32m    680\u001b[0m         \u001b[0;32mif\u001b[0m \u001b[0mmethod\u001b[0m \u001b[0;32mis\u001b[0m \u001b[0;32mNone\u001b[0m\u001b[0;34m:\u001b[0m\u001b[0;34m\u001b[0m\u001b[0m\n\u001b[1;32m    681\u001b[0m             \u001b[0mmethod\u001b[0m \u001b[0;34m=\u001b[0m \u001b[0mself\u001b[0m\u001b[0;34m.\u001b[0m\u001b[0mmethod\u001b[0m \u001b[0;31m# by default, use global method\u001b[0m\u001b[0;34m\u001b[0m\u001b[0m\n",
      "\u001b[0;32m/Users/everett/Dropbox/Projects/[XLQi]RTN/EFL/Ising/EFL.py\u001b[0m in \u001b[0;36mbuild\u001b[0;34m(self)\u001b[0m\n\u001b[1;32m    634\u001b[0m             \u001b[0;31m# build machine\u001b[0m\u001b[0;34m\u001b[0m\u001b[0;34m\u001b[0m\u001b[0m\n\u001b[1;32m    635\u001b[0m             \u001b[0;32mwith\u001b[0m \u001b[0mself\u001b[0m\u001b[0;34m.\u001b[0m\u001b[0mgraph\u001b[0m\u001b[0;34m.\u001b[0m\u001b[0mas_default\u001b[0m\u001b[0;34m(\u001b[0m\u001b[0;34m)\u001b[0m\u001b[0;34m:\u001b[0m\u001b[0;34m\u001b[0m\u001b[0m\n\u001b[0;32m--> 636\u001b[0;31m                 \u001b[0mself\u001b[0m\u001b[0;34m.\u001b[0m\u001b[0mmodel\u001b[0m\u001b[0;34m.\u001b[0m\u001b[0mbuild\u001b[0m\u001b[0;34m(\u001b[0m\u001b[0mself\u001b[0m\u001b[0;34m.\u001b[0m\u001b[0mdata_server\u001b[0m\u001b[0;34m.\u001b[0m\u001b[0mlnD\u001b[0m\u001b[0;34m)\u001b[0m\u001b[0;34m\u001b[0m\u001b[0m\n\u001b[0m\u001b[1;32m    637\u001b[0m                 \u001b[0mself\u001b[0m\u001b[0;34m.\u001b[0m\u001b[0mstep\u001b[0m \u001b[0;34m=\u001b[0m \u001b[0mtf\u001b[0m\u001b[0;34m.\u001b[0m\u001b[0mVariable\u001b[0m\u001b[0;34m(\u001b[0m\u001b[0;36m0\u001b[0m\u001b[0;34m,\u001b[0m\u001b[0mname\u001b[0m\u001b[0;34m=\u001b[0m\u001b[0;34m'step'\u001b[0m\u001b[0;34m,\u001b[0m\u001b[0mtrainable\u001b[0m\u001b[0;34m=\u001b[0m\u001b[0;32mFalse\u001b[0m\u001b[0;34m)\u001b[0m\u001b[0;34m\u001b[0m\u001b[0m\n\u001b[1;32m    638\u001b[0m                 \u001b[0mself\u001b[0m\u001b[0;34m.\u001b[0m\u001b[0mlearning_rate\u001b[0m \u001b[0;34m=\u001b[0m \u001b[0mtf\u001b[0m\u001b[0;34m.\u001b[0m\u001b[0mplaceholder\u001b[0m\u001b[0;34m(\u001b[0m\u001b[0mtf\u001b[0m\u001b[0;34m.\u001b[0m\u001b[0mfloat32\u001b[0m\u001b[0;34m,\u001b[0m\u001b[0mshape\u001b[0m\u001b[0;34m=\u001b[0m\u001b[0;34m[\u001b[0m\u001b[0;34m]\u001b[0m\u001b[0;34m,\u001b[0m\u001b[0mname\u001b[0m\u001b[0;34m=\u001b[0m\u001b[0;34m'lr'\u001b[0m\u001b[0;34m)\u001b[0m\u001b[0;34m\u001b[0m\u001b[0m\n",
      "\u001b[0;31mAttributeError\u001b[0m: 'DataServer' object has no attribute 'lnD'"
     ]
    }
   ],
   "source": [
    "for i in range(5):\n",
    "    machine.train(16, learning_rate=0.005, beta1=0.9)\n",
    "    print(machine.session.run((machine.model.MSE, machine.model.J), machine.feed))"
   ]
  },
  {
   "cell_type": "code",
   "execution_count": 270,
   "metadata": {
    "collapsed": false
   },
   "outputs": [],
   "source": [
    "p = machine.session.run([machine.model.Ssys,machine.model.Smdl], \n",
    "                    machine.data_server.fetch('random', batch=64))\n",
    "export('test',[[np.asscalar(x), np.asscalar(y)] for x, y in zip(*p)])"
   ]
  },
  {
   "cell_type": "code",
   "execution_count": null,
   "metadata": {
    "collapsed": false
   },
   "outputs": [],
   "source": []
  },
  {
   "cell_type": "code",
   "execution_count": null,
   "metadata": {
    "collapsed": false
   },
   "outputs": [],
   "source": []
  },
  {
   "cell_type": "code",
   "execution_count": null,
   "metadata": {
    "collapsed": false
   },
   "outputs": [],
   "source": []
  },
  {
   "cell_type": "code",
   "execution_count": null,
   "metadata": {
    "collapsed": false
   },
   "outputs": [],
   "source": []
  },
  {
   "cell_type": "code",
   "execution_count": null,
   "metadata": {
    "collapsed": true
   },
   "outputs": [],
   "source": []
  }
 ],
 "metadata": {
  "kernelspec": {
   "display_name": "Python 3",
   "language": "python",
   "name": "python3"
  },
  "language_info": {
   "codemirror_mode": {
    "name": "ipython",
    "version": 3
   },
   "file_extension": ".py",
   "mimetype": "text/x-python",
   "name": "python",
   "nbconvert_exporter": "python",
   "pygments_lexer": "ipython3",
   "version": "3.5.1"
  }
 },
 "nbformat": 4,
 "nbformat_minor": 0
}
